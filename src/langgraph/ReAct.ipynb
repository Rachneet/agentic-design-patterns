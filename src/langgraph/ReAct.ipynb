{
 "cells": [
  {
   "cell_type": "markdown",
   "id": "a934e440-9974-4fdb-96a1-21bd13579b48",
   "metadata": {},
   "source": [
    "# **ReAct: Build Reasoning and Acting AI Agents with LangGraph**\n"
   ]
  },
  {
   "cell_type": "markdown",
   "id": "cb05a530-dbc4-4d91-92c7-4e59f2974de9",
   "metadata": {},
   "source": [
    "Estimated time needed: **90** minutes\n"
   ]
  },
  {
   "cell_type": "markdown",
   "id": "9efd06ca-69c5-4eab-b40a-09fdae546f7b",
   "metadata": {},
   "source": [
    "You're a software engineer on a mission: build an AI agent that doesn't just respond—it thinks. In this lab, you'll step into the role of an AI architect, designing a smart assistant that solves tough problems by reasoning through them and taking purposeful actions.\n",
    "\n",
    "Using the ReAct (Reasoning + Acting) framework, you'll teach your agent to think step by step, consult tools like search engines or calculators, and adapt on the fly. It’s not just about answers—it’s about how the agent gets there.\n",
    "\n",
    "By the end of the lab, your AI will face a mystery that can’t be solved with knowledge alone. It will need logic, resourcefulness, and the ability to act—just like you, the engineer who built it.\n",
    "\n",
    "## What is ReAct?\n",
    "\n",
    "**ReAct** stands for **Reasoning + Acting**. It's a framework that combines:\n",
    "\n",
    "1. **Reasoning**: The agent thinks through problems step by step, maintaining an internal dialogue about what it needs to do.\n",
    "2. **Acting**: The agent can use external tools (search engines, calculators, APIs) to gather information or perform actions.\n",
    "3. **Observing**: The agent processes the results from its actions and incorporates them into its reasoning.\n",
    "\n",
    "This creates a powerful loop: **Think → Act → Observe → Think → Act → ...**\n",
    "\n",
    "### Why ReAct Matters\n",
    "\n",
    "Traditional language models are limited by their training data cutoff and can't access real-time information. ReAct agents overcome this by:\n",
    "- Accessing current information through web searches\n",
    "- Performing calculations with specialized tools\n",
    "- Breaking down complex problems into manageable steps\n",
    "- Adapting their approach based on intermediate results\n"
   ]
  },
  {
   "cell_type": "markdown",
   "id": "44cbc452-da70-4d28-8e71-9639bb1b425b",
   "metadata": {},
   "source": [
    "## __Table of Contents__\n",
    "\n",
    "<ol>\n",
    "    <li><a href=\"#Objectives\">Objectives</a></li>\n",
    "    <li>\n",
    "        <a href=\"#Setup-&-Installation\">Setup & Installation</a>\n",
    "        <ol>\n",
    "            <li><a href=\"#Installing-Required-Libraries\">Installing Required Libraries</a></li>\n",
    "            <li><a href=\"#Importing-Required-Libraries\">Importing Required Libraries</a></li>\n",
    "        </ol>\n",
    "    </li>\n",
    "    <li>\n",
    "        <a href=\"#Understanding-Tools-in-ReAct\">Understanding Tools in ReAct</a>\n",
    "        <ol>\n",
    "            <li><a href=\"#1.-Web-Search-Tool\">1. Web Search Tool</a></li>\n",
    "            <li><a href=\"#Theory-behind-Web-Search-Tools\">Theory behind Web Search Tools</a></li>\n",
    "            <li><a href=\"#Testing-the-Search-Tool\">Testing the Search Tool</a></li>\n",
    "            <li><a href=\"#2.-Clothing-Recommendation-Tool\">2. Clothing Recommendation Tool</a></li>\n",
    "            <li><a href=\"#Why-this-Tool-Matters\">Why this Tool Matters</a></li>\n",
    "            <li><a href=\"#Creating-the-tool-Registry\">Creating the tool Registry</a></li>\n",
    "        </ol>\n",
    "    </li>\n",
    "    <li>\n",
    "        <a href=\"#Setting-up-the-Language-Model\">Setting up the Language Model</a>\n",
    "        <ol>\n",
    "            <li><a href=\"#Initializing-the-AI-Model\">Initializing the AI Model</a></li>\n",
    "            <li><a href=\"#Creating-the-System-Prompt\">Creating the System Prompt</a></li>\n",
    "            <li><a href=\"#The-System-Prompt's-Role\">The System Prompt's Role</a></li>\n",
    "            <li><a href=\"#Binding-Tools-to-the-Model\">Binding Tools to the Model</a></li>\n",
    "            <li>\n",
    "                <a href=\"#Understanding-Agent-State\">Understanding Agent State</a>\n",
    "                <ol>\n",
    "                    <li><a href=\"#What-is-Agent-State?\">What is Agent State?</a></li>\n",
    "                    <li><a href=\"#Demonstrating-State-Management\">Demonstrating State Management</a></li>\n",
    "                </ol>\n",
    "            </li>\n",
    "            <li>\n",
    "                <a href=\"#Manual-ReAct-Execution-(Understanding-the-Flow)\">Manual ReAct Execution (Understanding the Flow)</a>\n",
    "                <ol>\n",
    "                    <li><a href=\"#Step-1:-Initial-Query-Processing\">Step 1: Initial Query Processing</a></li>\n",
    "                    <li><a href=\"#Step-2:-Tool-Execution\">Step 2: Tool Execution</a></li>\n",
    "                    <li><a href=\"#Step-3:-Processing-Results-and-Next-Action\">Step 3: Processing Results and Next Action</a></li>\n",
    "                    <li><a href=\"#Step-4:-Final-Response-Generation\">Step 4: Final Response Generation</a></li>\n",
    "                </ol>\n",
    "            </li>\n",
    "            <li>\n",
    "                <a href=\"#Automating-ReAct-with-Graphs\">Automating ReAct with Graphs</a>\n",
    "                <ol>\n",
    "                    <li><a href=\"#Why-Use-Graphs?\">Why Use Graphs?</a></li>\n",
    "                    <li><a href=\"#Building-the-Core-Functions\">Building the Core Functions</a></li>\n",
    "                    <li><a href=\"#Constructing-the-State-Graph\">Constructing the State Graph</a></li>\n",
    "                    <li><a href=\"#Visualizing-the-Graph\">Visualizing the Graph</a></li>\n",
    "                </ol>\n",
    "            </li>\n",
    "            <li>\n",
    "                <a href=\"#Running-the-Complete-ReAct-Agent\">Running the Complete ReAct Agent</a>\n",
    "                <ol>\n",
    "                    <li><a href=\"#Final-Execution\">Final Execution</a></li>\n",
    "                    <li><a href=\"#The-Complete-ReAct-Cycle\">The Complete ReAct Cycle</a></li>\n",
    "                </ol>\n",
    "            </li>\n",
    "        </ol>\n",
    "    </li>\n",
    "    <li>\n",
    "        <a href=\"#Key-Takeaways\">Key Takeaways</a>\n",
    "        <ol>\n",
    "            <li><a href=\"#What-Makes-ReAct-Powerful\">What Makes ReAct Powerful</a></li>\n",
    "            <li><a href=\"#Best-Practices\">Best Practices</a></li>\n",
    "        </ol>\n",
    "    </li>\n",
    "    <li>\n",
    "        <a href=\"#Exercises\">Exercises</a>\n",
    "        <ol>\n",
    "            <li><a href=\"#Exercise-1---Build-a-Calculator-Tool\">Exercise 1 - Build a Calculator Tool</a></li>\n",
    "            <li><a href=\"#Exercise-2---Create-a-News-Summary-Tool\">Exercise 2 - Create a News Summary Tool</a></li>\n",
    "        </ol>\n",
    "    </li>\n",
    "    <li><a href=\"#Testing-Your-Solutions\">Testing Your Solutions</a></li>\n",
    "    <li><a href=\"#Authors\">Authors</a></li>\n",
    "</ol>\n"
   ]
  },
  {
   "cell_type": "markdown",
   "id": "53b4f2b5-db58-47fd-a6cb-93cf286be5e1",
   "metadata": {},
   "source": [
    "## Objectives\n",
    "\n",
    "After completing this lab you will be able to:\n",
    "\n",
    " - Use the ReAct framework to solve multi-step problems with external tools\n",
    " - Teach an AI agent to reason step by step, take actions, and adapt based on results\n",
    " - Build a smart assistant that can handle tasks requiring logic and tool use\n"
   ]
  },
  {
   "cell_type": "markdown",
   "id": "7528113c-d08d-4e54-8e95-fd55c6071920",
   "metadata": {},
   "source": [
    "----\n"
   ]
  },
  {
   "cell_type": "markdown",
   "id": "22667b14-0ebc-4503-8146-455db8e43737",
   "metadata": {},
   "source": [
    "## Setup & Installation\n"
   ]
  },
  {
   "cell_type": "markdown",
   "id": "8c8caccc-b771-4fd9-b21f-e4308a2d3a42",
   "metadata": {},
   "source": [
    "For this lab, we will be using the following libraries:\n",
    "\n",
    "\n",
    "- [`LangGraph`](https://www.langchain.com/langgraph): A framework for building stateful, multi-step AI applications using graphs.\n",
    "- [`LangChain`](https://www.langchain.com/): A toolkit that provides tools and abstractions for working with language models.\n",
    "- [`LangChain-OpenAI`](https://python.langchain.com/docs/integrations/llms/openai/): OpenAI integration for LangChain.\n",
    "- [`LangChain-Community`](https://python.langchain.com/api_reference/community/index.html): Community-contributed tools and integrations.\n"
   ]
  },
  {
   "cell_type": "markdown",
   "id": "647b71d6-9167-4d76-9f37-ff593623682e",
   "metadata": {},
   "source": [
    "### Installing Required Libraries\n"
   ]
  },
  {
   "cell_type": "code",
   "execution_count": 14,
   "id": "8fe175bf-0cfe-424a-9756-5cb3324bdb8c",
   "metadata": {},
   "outputs": [
    {
     "name": "stdout",
     "output_type": "stream",
     "text": [
      "zsh:1: command not found: pip\n"
     ]
    }
   ],
   "source": [
    "!pip install -U langgraph langchain-openai"
   ]
  },
  {
   "cell_type": "code",
   "execution_count": 15,
   "id": "71626004-ac52-40d9-99bb-02d80dbc26c8",
   "metadata": {},
   "outputs": [],
   "source": [
    "%%capture\n",
    "!pip install langgraph==0.3.34 langchain-openai==0.3.14 langchainhub==0.1.21 langchain==0.3.24 pygraphviz==1.14 langchain-community==0.3.23"
   ]
  },
  {
   "cell_type": "markdown",
   "id": "edfd55ee-c3ff-425c-9fc5-b50aea6e8677",
   "metadata": {},
   "source": [
    "### Understanding Tools in ReAct\n",
    "\n",
    "Tools are the \"acting\" part of ReAct. They give the agent capabilities beyond just generating text. Let's build two essential tools:\n",
    "\n",
    "#### 1. Web Search Tool\n",
    "### Tavily Search API Key Setup\n",
    "\n",
    "We'll use Tavily search as our external research tool. You can get an API key at https://app.tavily.com/sign-in   \n",
    "\n",
    "\n",
    "**Disclaimer:** Signing up for Tavily provides you with free credits, more than enough for this project's needs. If you require additional credits for further use, please add them at your own discretion.\n",
    "\n",
    "![image.png](https://cf-courses-data.s3.us.cloud-object-storage.appdomain.cloud/UjJx1-0vss4_3lwsUF8n0w/image.png)\n",
    "\n",
    "You need to copy the key from Tavily's API website and paste the key on the line ```os.environ[\"TAVILY_API_KEY\"] = \"YOUR_KEY_HERE\"```\n"
   ]
  },
  {
   "cell_type": "code",
   "execution_count": 1,
   "id": "e34b192c-16f9-4f10-bd9c-f5e668b9f2b0",
   "metadata": {},
   "outputs": [
    {
     "name": "stderr",
     "output_type": "stream",
     "text": [
      "/var/folders/nm/srw3ygl55jbgpddqwgysqjpm0000gn/T/ipykernel_19161/900289169.py:14: LangChainDeprecationWarning: The class `TavilySearchResults` was deprecated in LangChain 0.3.25 and will be removed in 1.0. An updated version of the class exists in the :class:`~langchain-tavily package and should be used instead. To use it run `pip install -U :class:`~langchain-tavily` and import as `from :class:`~langchain_tavily import TavilySearch``.\n",
      "  search = TavilySearchResults()\n"
     ]
    }
   ],
   "source": [
    "import warnings \n",
    "warnings.filterwarnings('ignore')\n",
    "\n",
    "from langchain_community.tools.tavily_search import TavilySearchResults\n",
    "from langchain.tools import tool\n",
    "import os\n",
    "import json\n",
    "from dotenv import load_dotenv\n",
    "load_dotenv()\n",
    "\n",
    "os.environ[\"TAVILY_API_KEY\"] = os.getenv(\"TAVILY_API_KEY\")\n",
    "\n",
    "# Initialize the Tavily search tool\n",
    "search = TavilySearchResults()\n",
    "\n",
    "@tool\n",
    "def search_tool(query: str):\n",
    "    \"\"\"\n",
    "    Search the web for information using Tavily API.\n",
    "\n",
    "    :param query: The search query string\n",
    "    :return: Search results related to the query\n",
    "    \"\"\"\n",
    "    return search.invoke(query)"
   ]
  },
  {
   "cell_type": "markdown",
   "id": "bdf2b401-0c92-4abc-9436-c0913d305e7c",
   "metadata": {},
   "source": [
    "### Theory behind Web Search Tools:\n",
    "- Enable real-time information retrieval\n",
    "- Overcome the knowledge cutoff limitation of language models\n",
    "- Return structured data that the agent can process and reason about\n",
    "\n",
    "### Testing the Search Tool\n"
   ]
  },
  {
   "cell_type": "code",
   "execution_count": 2,
   "id": "10dd3909-49d5-47f1-b466-875bdae2fd22",
   "metadata": {},
   "outputs": [
    {
     "data": {
      "text/plain": [
       "[{'title': 'Tokyo weather in October 2025 - Weather25.com',\n",
       "  'url': 'https://www.weather25.com/asia/japan/tokyo?page=month&month=October',\n",
       "  'content': 'You can expect about 3 to 8 days of rain in Tokyo during the month of October. It’s a good idea to bring along your umbrella so that you don’t get caught in poor weather.\\n\\nOur weather forecast can give you a great sense of what weather to expect in Tokyo in October 2025.\\n\\nIf you’re planning to visit Tokyo in the near future, we highly recommend that you review the 14 day weather forecast for Tokyo before you arrive.\\n\\nTemperatures\\n\\nTemperatures\\n\\n22° / 15°\\n\\nRainy Days\\n\\nRainy Days\\n\\nSnowy Days [...] | \\nPatchy rain possible\\n28° /23°\\n | \\nLight drizzle\\n29° /21°\\n | \\nPatchy rain possible\\n20° /20°\\n | \\nPatchy rain possible\\n25° /19°\\n | \\nModerate rain\\n22° /20°\\n | \\nLight drizzle\\n20° /18°\\n | \\nPartly cloudy\\n22° /17°\\n |\\n\\n| \\nPatchy rain possible\\n17° /16°\\n | \\nLight drizzle\\n18° /15°\\n | \\nLight drizzle\\n22° /18°\\n | \\nPatchy rain possible\\n18° /16°\\n | \\nCloudy\\n23° /17°\\n | \\nOvercast\\n24° /18°\\n | \\nOvercast\\n23° /19°\\n | [...] | \\nHeavy rain\\n21° /16°\\n | \\nPartly cloudy\\n22° /16°\\n | \\nCloudy\\n20° /15°\\n | \\nHeavy rain\\n20° /16°\\n | \\nSunny\\n23° /16°\\n | \\nLight rain shower\\n20° /16°\\n | \\nHeavy rain\\n19° /15°\\n |\\n\\n| \\nCloudy\\n22° /15°\\n | \\nPatchy rain possible\\n20° /16°\\n | \\nCloudy\\n21° /16°\\n | \\nModerate rain\\n20° /15°\\n | \\nSunny\\n20° /15°\\n | \\nSunny\\n21° /16°\\n |\\n\\nClick on a day for an hourly weather forecast\\n\\n## Explore the weather in Tokyo in other months\\n\\nJanuary\\n\\nFebruary\\n\\nMarch\\n\\nApril\\n\\nMay\\n\\nJune\\n\\nJuly\\n\\nAugust\\n\\nSeptember\\n\\nOctober\\n\\nNovember',\n",
       "  'score': 0.7407191},\n",
       " {'title': 'Japan Weather in October 2025: Cool Autumn Climate - Agate Travel',\n",
       "  'url': 'https://www.agatetravel.com/japan/weather-in-october.html',\n",
       "  'content': '| Nikko\\n| 16°C / 60.8°F  | 7°C / 44.6°F  | 05:36 / 17:25  | 79  |\\n\\n| Okinawa  | 28°C / 82°F  | 23°C / 73.4°F  | 06:29 / 18:01  | 71  |\\n\\n| Osaka\\n| 23°C / 73.4°F  | 16°C / 60.8°F  | 06:04 / 17:24  | 59  |\\n\\n| Sapporo\\n| 16°C / 60.8°F  | 7°C / 44.6°F  | 05:48 / 16:52  | 66  |\\n\\n| Sendai\\n| 19°C / 66.2°F  | 12°C / 53.6°F  | 05:46 / 16:59  | 72  |\\n\\n| Takayama\\n| 19°C / 66.2℉\\n| 9°C / 48.2℉\\n| 06:00 / 17:18\\n| 75\\n\\n| Tokyo\\n| 21°C / 69.8°F  | 17°C / 62.6°F  | 05:49 / 17:05  | 65  | [...] Jan.Feb.Mar.Apr.May.Jun.Jul.Aug.Sep.Oct.Nov.Dec.\\nThe times for sunrise and sunset are based on Tokyo.\\n\\nOctober Temperatures in Japan\\n\\n|   |\\n\\n| High  | Low  |\\n\\n| Aomori\\n| 16°C / 60.8°F  | 8°C / 46.4°F  | 05:49 / 16:55  | 74  |\\n\\n| Asahikawa\\n| 14°C / 57.2°F  | 5°C / 41°F  | 05:36 / 16:42  | 75  |\\n\\n| Fukuoka\\n| 23°C / 73.4°F\\n| 15°C / 59°F\\n| 06:22 / 17:46\\n| 68  |\\n\\n| Hakata  | 23°C / 73.4°F\\n| 14°C / 57.2°F\\n| 06:12 / 18:04  | 68  |\\n\\n| Hakodate  | 16°C / 60.8°F\\n| 13°C / 55.4°F\\n| 05:35 / 17:21  | 71  | [...] Japan Weather in October 2025: Cool Autumn Climate\\n\\n AgateTravel WeLiveToServe \\n\\nUS & Canada: 1-800-315-3949\\n\\n- AU: 1-800-665-977\\n- UK: 0-808-189-1339\\n- Global: 86-29-8526-9897\\n\\nContact',\n",
       "  'score': 0.6455898},\n",
       " {'title': 'Tokyo, Japan 14 day weather forecast',\n",
       "  'url': 'https://www.timeanddate.com/weather/japan/tokyo/ext',\n",
       "  'content': '| Sun Oct 19 |  | 74 / 63 °F | Isolated tstorms. Overcast. | 76 °F | 10 mph | ↑ | 64% | 84% | 0.63\" | 0 (Low) | 5:51 am | 5:00 pm |\\n|  |  |  |  |  |  |  |  |  |  |  |  |  |\\n ---  ---  ---  ---  ---  --- \\n| \\\\ Updated Sunday, October 5, 2025 6:24:02 am Tokyo time - Weather by CustomWeather, © 2025 | | | | | | | | | | | | | [...] |  | Conditions | | | Comfort | | | | Precipitation | | Sun | | |\\n ---  ---  ---  ---  ---  --- \\n| Day |  | Temperature | Weather | Feels Like | Wind |  | Humidity | Chance | Amount | UV | Sunrise | Sunset |\\n| Sun Oct 5 |  | 85 / 70 °F | Thundershowers. Broken clouds. | 88 °F | 9 mph | ↑ | 59% | 24% | 0.05\" | 3 (Moderate) | 5:39 am | 5:19 pm |\\n| Mon Oct 6 |  | 85 / 67 °F | Rain. Increasing cloudiness. | 87 °F | 15 mph | ↑ | 61% | 56% | 0.22\" | 3 (Moderate) | 5:39 am | 5:18 pm | [...] Hour-by-hour weather for Tokyo next 7 days\\n\\nNeed some help?\\n\\nIllustration of a pink shield with a white heart.\\n\\n#### Love Our Site? Become a Supporter\\n\\nThe timeanddate logo\\n\\n© Time and Date AS 1995–2025\\n\\n#### Company\\n\\n#### Legal\\n\\n#### Services\\n\\n#### Sites\\n\\n#### Follow Us\\n\\n© Time and Date AS 1995–2025.\\nPrivacy & Terms',\n",
       "  'score': 0.59061456},\n",
       " {'title': 'Tokyo, Tokyo, Japan Monthly Weather - AccuWeather',\n",
       "  'url': 'https://www.accuweather.com/en/jp/tokyo/226396/october-weather/226396',\n",
       "  'content': \"Temperature swings and some much-needed rain on the way for the East\\n\\n7 hours ago\\n\\nWeather Forecasts\\n\\nThunderstorms, snow on tap this weekend as storm hits Rockies, Plains\\n\\n3 hours ago\\n\\nFeatured Stories\\n\\nWeather News\\n\\nAmerican climber Balin Miller dies aged 23 while climbing El Capitan\\n\\n1 day ago\\n\\nAstronomy\\n\\nDraconid meteor shower 2025: How to see October's shooting stars\\n\\n1 day ago\\n\\nWeather News\\n\\nConservationist Jane Goodall dies at 91\\n\\n2 days ago\\n\\nWeather News [...] # Tokyo, Tokyo\\n\\nTokyo\\n\\nTokyo\\n\\n## Around the Globe\\n\\nAround the Globe\\n\\n### Hurricane Tracker\\n\\n### Severe Weather\\n\\n### Radar & Maps\\n\\n### News & Features\\n\\n### Astronomy\\n\\n### Business\\n\\n### Climate\\n\\n### Health\\n\\n### Recreation\\n\\n### Sports\\n\\n### Travel\\n\\n### Warnings\\n\\n### Data Suite\\n\\n### Forensics\\n\\n### Advertising\\n\\n### Superior Accuracy™\\n\\n### Video\\n\\n## Monthly\\n\\n## October\\n\\n## 2025\\n\\n## Daily\\n\\n## Temperature Graph\\n\\n## Further Ahead\\n\\nFurther Ahead\\n\\n### November 2025\\n\\n### December 2025\\n\\n### January 2026 [...] ## Around the Globe\\n\\nAround the Globe\\n\\n### Hurricane Tracker\\n\\n### Severe Weather\\n\\n### Radar & Maps\\n\\n### News\\n\\n### Video\\n\\nTop Stories\\n\\nWinter Weather\\n\\nWinter forecast 2025-26: Snowy season ahead for parts of the US\\n\\n1 day ago\\n\\nHurricane\\n\\nWhat's next after Imelda? Two areas being monitored, including near US\\n\\n3 hours ago\\n\\nWeather Forecasts\\n\\nKing tides are coming to the Southeast coast: here's what to know\\n\\n3 hours ago\\n\\nWeather Forecasts\",\n",
       "  'score': 0.45595008},\n",
       " {'title': 'Tokyo, Tokyo, Japan Monthly Weather',\n",
       "  'url': 'https://www.accuweather.com/en/jp/tokyo/226396/april-weather/226396',\n",
       "  'content': \"Weather Forecasts\\n\\nThunderstorms, snow on tap this weekend as storm hits Rockies, Plains\\n\\n3 hours ago\\n\\nFeatured Stories\\n\\nWeather News\\n\\nAmerican climber Balin Miller dies aged 23 while climbing El Capitan\\n\\n1 day ago\\n\\nAstronomy\\n\\nDraconid meteor shower 2025: How to see October's shooting stars\\n\\n1 day ago\\n\\nWeather News\\n\\nConservationist Jane Goodall dies at 91\\n\\n2 days ago\\n\\nWeather News\\n\\nShutdown threatens to stall rural loans and flood insurance\\n\\n1 day ago\\n\\nWinter Weather [...] # Tokyo, Tokyo\\n\\nTokyo\\n\\nTokyo\\n\\n## Around the Globe\\n\\nAround the Globe\\n\\n### Hurricane Tracker\\n\\n### Severe Weather\\n\\n### Radar & Maps\\n\\n### News & Features\\n\\n### Astronomy\\n\\n### Business\\n\\n### Climate\\n\\n### Health\\n\\n### Recreation\\n\\n### Sports\\n\\n### Travel\\n\\n### Warnings\\n\\n### Data Suite\\n\\n### Forensics\\n\\n### Advertising\\n\\n### Superior Accuracy™\\n\\n### Video\\n\\n## Monthly\\n\\n## April\\n\\n## 2025\\n\\n## Daily\\n\\n## Temperature Graph\\n\\n## Further Ahead\\n\\nFurther Ahead\\n\\n### July 2025\\n\\n## Around the Globe\\n\\nAround the Globe [...] ### Hurricane Tracker\\n\\n### Severe Weather\\n\\n### Radar & Maps\\n\\n### News\\n\\n### Video\\n\\nTop Stories\\n\\nWinter Weather\\n\\nWinter forecast 2025-26: Snowy season ahead for parts of the US\\n\\n1 day ago\\n\\nHurricane\\n\\nWhat's next after Imelda? Two areas being monitored, including near US\\n\\n3 hours ago\\n\\nWeather Forecasts\\n\\nKing tides are coming to the Southeast coast: here's what to know\\n\\n3 hours ago\\n\\nWeather Forecasts\\n\\nTemperature swings and some much-needed rain on the way for the East\\n\\n7 hours ago\",\n",
       "  'score': 0.44680908}]"
      ]
     },
     "execution_count": 2,
     "metadata": {},
     "output_type": "execute_result"
    }
   ],
   "source": [
    "search_tool.invoke(\"What's the weather like in Tokyo today?\")"
   ]
  },
  {
   "cell_type": "markdown",
   "id": "8fc02de3-44cd-436e-bf98-26e276762b77",
   "metadata": {},
   "source": [
    "This test demonstrates how the agent can access current information that wasn't available during training.\n",
    "\n",
    "#### 2. Clothing Recommendation Tool\n"
   ]
  },
  {
   "cell_type": "code",
   "execution_count": 3,
   "id": "09fd523e-90ea-4824-8262-510921dc779a",
   "metadata": {},
   "outputs": [],
   "source": [
    "@tool\n",
    "def recommend_clothing(weather: str) -> str:\n",
    "    \"\"\"\n",
    "    Returns a clothing recommendation based on the provided weather description.\n",
    "\n",
    "    This function examines the input string for specific keywords or temperature indicators \n",
    "    (e.g., \"snow\", \"freezing\", \"rain\", \"85°F\") to suggest appropriate attire. It handles \n",
    "    common weather conditions like snow, rain, heat, and cold by providing simple and practical \n",
    "    clothing advice.\n",
    "\n",
    "    :param weather: A brief description of the weather (e.g., \"Overcast, 64.9°F\")\n",
    "    :return: A string with clothing recommendations suitable for the weather\n",
    "    \"\"\"\n",
    "    weather = weather.lower()\n",
    "    if \"snow\" in weather or \"freezing\" in weather:\n",
    "        return \"Wear a heavy coat, gloves, and boots.\"\n",
    "    elif \"rain\" in weather or \"wet\" in weather:\n",
    "        return \"Bring a raincoat and waterproof shoes.\"\n",
    "    elif \"hot\" in weather or \"85\" in weather:\n",
    "        return \"T-shirt, shorts, and sunscreen recommended.\"\n",
    "    elif \"cold\" in weather or \"50\" in weather:\n",
    "        return \"Wear a warm jacket or sweater.\"\n",
    "    else:\n",
    "        return \"A light jacket should be fine.\""
   ]
  },
  {
   "cell_type": "markdown",
   "id": "440674c3-2ffd-4fa6-96b4-eb747f1a8d4f",
   "metadata": {},
   "source": [
    "**Why this Tool Matters:**\n",
    "- Demonstrates domain-specific reasoning\n",
    "- Shows how tools can process and interpret data from other tools\n",
    "- Illustrates the composability of ReAct systems\n",
    "\n",
    "#### Creating the Tool Registry\n"
   ]
  },
  {
   "cell_type": "code",
   "execution_count": 4,
   "id": "b5680e24-ac55-4454-89fb-ba7e7cbafb8c",
   "metadata": {},
   "outputs": [],
   "source": [
    "tools=[search_tool,recommend_clothing]\n",
    "\n",
    "tools_by_name={ tool.name:tool for tool in tools}"
   ]
  },
  {
   "cell_type": "markdown",
   "id": "fce012bb-d99c-4c39-b6ee-25e3ad3fbe4d",
   "metadata": {},
   "source": [
    "This registry allows the agent to dynamically select and invoke the appropriate tool based on the task at hand.\n",
    "\n",
    "## Setting Up the Language Model\n",
    "\n",
    "### Initializing the AI Model\n"
   ]
  },
  {
   "cell_type": "code",
   "execution_count": 5,
   "id": "c25b2b8b-5a6c-49f0-bb3b-c148ebbbebd7",
   "metadata": {},
   "outputs": [],
   "source": [
    "from langchain_openai import ChatOpenAI\n",
    "from langchain_core.tools import tool\n",
    "\n",
    "model = ChatOpenAI(\n",
    "    model=\"qwen/qwen3-32b\",\n",
    "    base_url=\"https://api.groq.com/openai/v1\",\n",
    "    api_key=os.getenv(\"GROQ_API_KEY\")\n",
    ")"
   ]
  },
  {
   "cell_type": "markdown",
   "id": "620cd2cc-3798-4c49-8a75-77874dc338ea",
   "metadata": {},
   "source": [
    "We're using GPT-4o-mini as our reasoning engine. This model will:\n",
    "- Analyze user queries\n",
    "- Decide which tools to use\n",
    "- Process tool results\n",
    "- Generate final responses\n",
    "\n",
    "### Creating the System Prompt\n"
   ]
  },
  {
   "cell_type": "code",
   "execution_count": 6,
   "id": "91a891ab-0c93-47a2-9b40-94211e386eb4",
   "metadata": {},
   "outputs": [],
   "source": [
    "from langchain_core.prompts import ChatPromptTemplate, MessagesPlaceholder\n",
    "from langchain_core.messages import BaseMessage, HumanMessage, AIMessage, ToolMessage, SystemMessage\n",
    "\n",
    "chat_prompt = ChatPromptTemplate.from_messages([\n",
    "    (\"system\", \"\"\"\n",
    "You are a helpful AI assistant that thinks step-by-step and uses tools when needed.\n",
    "\n",
    "When responding to queries:\n",
    "1. First, think about what information you need\n",
    "2. Use available tools if you need current data or specific capabilities  \n",
    "3. Provide clear, helpful responses based on your reasoning and any tool results\n",
    "\n",
    "Always explain your thinking process to help users understand your approach.\n",
    "\"\"\"),\n",
    "    MessagesPlaceholder(variable_name=\"scratch_pad\")\n",
    "])"
   ]
  },
  {
   "cell_type": "markdown",
   "id": "68d50eec-ace0-47bf-8cae-d948915fa098",
   "metadata": {},
   "source": [
    "**The System Prompt's Role:**\n",
    "- Defines the agent's behavior and personality\n",
    "- Establishes the reasoning pattern (think → act → observe)\n",
    "- Encourages transparency in the decision-making process\n",
    "\n",
    "### Binding Tools to the Model\n"
   ]
  },
  {
   "cell_type": "code",
   "execution_count": 7,
   "id": "5650779c-fcdb-471d-9d55-6356e4ef2e77",
   "metadata": {},
   "outputs": [],
   "source": [
    "model_react = chat_prompt | model.bind_tools(tools)"
   ]
  },
  {
   "cell_type": "markdown",
   "id": "a1f68324-f0c0-4dbc-ba56-cd4e46be90ef",
   "metadata": {},
   "source": [
    "This creates a model that can:\n",
    "- Understand when to use tools\n",
    "- Generate properly formatted tool calls\n",
    "- Process tool results in context\n",
    "\n",
    "## Understanding Agent State\n",
    "\n",
    "### What is Agent State?\n",
    "\n",
    "In ReAct, state management is crucial, as the agent must maintain context across multiple reasoning and acting steps.\n"
   ]
  },
  {
   "cell_type": "code",
   "execution_count": 8,
   "id": "1bec0cb8-e05e-4ddb-be5c-a9ec4efa2d6c",
   "metadata": {},
   "outputs": [],
   "source": [
    "from typing import (Annotated, Sequence, TypedDict)\n",
    "from langchain_core.messages import BaseMessage\n",
    "from langgraph.graph.message import add_messages\n",
    "\n",
    "class AgentState(TypedDict):\n",
    "    \"\"\"The state of the agent.\"\"\"\n",
    "\n",
    "    # add_messages is a reducer\n",
    "    # See https://langchain-ai.github.io/langgraph/concepts/low_level/#reducers\n",
    "    messages: Annotated[Sequence[BaseMessage], add_messages]"
   ]
  },
  {
   "cell_type": "markdown",
   "id": "f0d7d6c2-a633-456e-8d6f-2f6b11cff7cf",
   "metadata": {},
   "source": [
    "**Key Concepts:**\n",
    "- **State**: Contains the conversation history and context.\n",
    "- **Reducer**: `add_messages` automatically handles adding new messages to the conversation.\n",
    "- **Type Safety**: TypedDict ensures our state structure is well-defined.\n",
    "\n",
    "### Demonstrating State Management\n"
   ]
  },
  {
   "cell_type": "code",
   "execution_count": 9,
   "id": "c5476ddf-9edc-47d3-8126-7c043651b97a",
   "metadata": {},
   "outputs": [
    {
     "name": "stdout",
     "output_type": "stream",
     "text": [
      "After greeting: [HumanMessage(content='Hi', additional_kwargs={}, response_metadata={}, id='e713f564-6286-4db3-a2fb-17737c9b9dd6')]\n",
      "After question: {'messages': [HumanMessage(content='Hi', additional_kwargs={}, response_metadata={}, id='e713f564-6286-4db3-a2fb-17737c9b9dd6'), HumanMessage(content='Weather in NYC?', additional_kwargs={}, response_metadata={}, id='3335b15f-71d1-4ac1-b798-f1f59111366f')]}\n"
     ]
    }
   ],
   "source": [
    "# Example conversation flow:\n",
    "state: AgentState = {\"messages\": []}\n",
    "\n",
    "# append a message using the reducer properly\n",
    "state[\"messages\"] = add_messages(state[\"messages\"], [HumanMessage(content=\"Hi\")])\n",
    "print(\"After greeting:\", state[\"messages\"])\n",
    "\n",
    "# add another message (e.g. a question)\n",
    "state[\"messages\"] = add_messages(state[\"messages\"], [HumanMessage(content=\"Weather in NYC?\")])\n",
    "print(\"After question:\", state)"
   ]
  },
  {
   "cell_type": "markdown",
   "id": "a0235324-5747-472e-8646-f80f53245ac1",
   "metadata": {},
   "source": [
    "This demonstrates how the state accumulates context over the conversation.\n"
   ]
  },
  {
   "cell_type": "markdown",
   "id": "ce5fbc21-511b-41ba-8636-dc906d5b0822",
   "metadata": {},
   "source": [
    "## Manual ReAct Execution (Understanding the Flow)\n",
    "\n",
    "Before building the automated graph, let's manually step through a ReAct cycle to understand what happens:\n",
    "\n",
    "### Step 1: Initial Query Processing\n"
   ]
  },
  {
   "cell_type": "code",
   "execution_count": 10,
   "id": "b05a179d-4e49-4015-a705-82d625cd4034",
   "metadata": {},
   "outputs": [],
   "source": [
    "dummy_state: AgentState = {\n",
    "    \"messages\": [HumanMessage( \"What's the weather like in Zurich, and what should I wear based on the temperature?\")]\n",
    "}\n",
    "\n",
    "response = model_react.invoke({\"scratch_pad\": dummy_state[\"messages\"]})\n",
    "\n",
    "dummy_state[\"messages\"] = add_messages(dummy_state[\"messages\"], [response])"
   ]
  },
  {
   "cell_type": "markdown",
   "id": "b5020e80-fb10-4562-bf67-84740b676aa4",
   "metadata": {},
   "source": [
    "**What Happens Here:**\n",
    "1. The user asks a complex question requiring current data.\n",
    "2. The model analyzes the query and realizes it needs to search for weather information.\n",
    "3. The model generates a tool call for the search.\n"
   ]
  },
  {
   "cell_type": "code",
   "execution_count": 13,
   "metadata": {},
   "outputs": [
    {
     "data": {
      "text/plain": [
       "AIMessage(content='', additional_kwargs={'tool_calls': [{'id': 'h7dqy0ec6', 'function': {'arguments': '{\"query\":\"current weather in Zurich temperature\"}', 'name': 'search_tool'}, 'type': 'function'}], 'refusal': None}, response_metadata={'token_usage': {'completion_tokens': 463, 'prompt_tokens': 430, 'total_tokens': 893, 'completion_tokens_details': None, 'prompt_tokens_details': None, 'queue_time': 0.091319779, 'prompt_time': 0.020643655, 'completion_time': 1.03588475, 'total_time': 1.056528405}, 'model_name': 'qwen/qwen3-32b', 'system_fingerprint': 'fp_5cf921caa2', 'id': 'chatcmpl-f360e252-d741-41b5-806e-648afb50e7f2', 'service_tier': 'on_demand', 'finish_reason': 'tool_calls', 'logprobs': None}, id='run--399c3a46-0edf-47fb-84b0-4c5348afd86f-0', tool_calls=[{'name': 'search_tool', 'args': {'query': 'current weather in Zurich temperature'}, 'id': 'h7dqy0ec6', 'type': 'tool_call'}], usage_metadata={'input_tokens': 430, 'output_tokens': 463, 'total_tokens': 893, 'input_token_details': {}, 'output_token_details': {}})"
      ]
     },
     "execution_count": 13,
     "metadata": {},
     "output_type": "execute_result"
    }
   ],
   "source": [
    "response"
   ]
  },
  {
   "cell_type": "markdown",
   "id": "55a51f39-702b-4059-a80e-3619ad935f47",
   "metadata": {},
   "source": [
    "### Step 2: Tool Execution\n"
   ]
  },
  {
   "cell_type": "code",
   "execution_count": 11,
   "id": "c388cc7d-6808-45fe-bc86-c30a6c95e2c2",
   "metadata": {},
   "outputs": [
    {
     "name": "stdout",
     "output_type": "stream",
     "text": [
      "Tool call: {'name': 'search_tool', 'args': {'query': 'current weather in Zurich temperature'}, 'id': 'h7dqy0ec6', 'type': 'tool_call'}\n",
      "Tool result preview: 2025 Weather History in Zürich Switzerland\n"
     ]
    }
   ],
   "source": [
    "tool_call = response.tool_calls[-1]\n",
    "print(\"Tool call:\", tool_call)\n",
    "\n",
    "tool_result = tools_by_name[tool_call[\"name\"]].invoke(tool_call[\"args\"])\n",
    "print(\"Tool result preview:\", tool_result[0]['title'])\n",
    "\n",
    "tool_message = ToolMessage(\n",
    "    content=json.dumps(tool_result),\n",
    "    name=tool_call[\"name\"],\n",
    "    tool_call_id=tool_call[\"id\"]\n",
    ")\n",
    "dummy_state[\"messages\"] = add_messages(dummy_state[\"messages\"], [tool_message])"
   ]
  },
  {
   "cell_type": "markdown",
   "id": "197c1b6a-2f31-43de-b7ea-9ba1ed613c94",
   "metadata": {},
   "source": [
    "**What Happens Here:**\n",
    "1. Extract the tool call from the model's response.\n",
    "2. Execute the tool using the specified arguments.\n",
    "3. Create a ToolMessage containing the results.\n",
    "4. Add the tool result to the conversation state.\n"
   ]
  },
  {
   "cell_type": "markdown",
   "id": "3fbdb4fb-0577-4813-b07d-08c37e23260f",
   "metadata": {},
   "source": [
    "### Step 3: Processing Results and Next Action\n"
   ]
  },
  {
   "cell_type": "code",
   "execution_count": 14,
   "id": "ea565af7-fde0-41b9-bbde-ab2893a4896f",
   "metadata": {},
   "outputs": [],
   "source": [
    "response = model_react.invoke({\"scratch_pad\": dummy_state[\"messages\"]})\n",
    "dummy_state['messages'] = add_messages(dummy_state['messages'], [response])\n",
    "\n",
    "# check if the model wants to use another tool\n",
    "if response.tool_calls:\n",
    "    tool_call = response.tool_calls[0]\n",
    "    tool_result = tools_by_name[tool_call[\"name\"]].invoke(tool_call[\"args\"])\n",
    "    tool_message = ToolMessage(\n",
    "        content=json.dumps(tool_result),\n",
    "        name=tool_call[\"name\"],\n",
    "        tool_call_id=tool_call[\"id\"]\n",
    "    )\n",
    "    dummy_state['messages'] = add_messages(dummy_state['messages'], [tool_message])"
   ]
  },
  {
   "cell_type": "markdown",
   "id": "baafde0f-a480-4742-80f5-1e14bc104777",
   "metadata": {},
   "source": [
    "**What Happens Here:**\n",
    "1. The model processes the search results.\n",
    "2. It realizes it needs to use the clothing recommendation tool.\n",
    "3. It extracts weather information and calls the clothing tool.\n",
    "4. It receives clothing recommendations based on the weather data.\n"
   ]
  },
  {
   "cell_type": "markdown",
   "id": "045ee196-ddac-47f3-ba70-d5bef4799153",
   "metadata": {},
   "source": [
    "### Step 4: Final Response Generation\n"
   ]
  },
  {
   "cell_type": "code",
   "execution_count": 15,
   "id": "394e6a22-114c-402d-bf1e-e34cfc15548b",
   "metadata": {},
   "outputs": [
    {
     "name": "stdout",
     "output_type": "stream",
     "text": [
      "Final response generated: True\n",
      "More tools needed: False\n"
     ]
    }
   ],
   "source": [
    "response = model_react.invoke({\"scratch_pad\": dummy_state[\"messages\"]})\n",
    "print(\"Final response generated:\", response.content is not None)\n",
    "print(\"More tools needed:\", bool(response.tool_calls))"
   ]
  },
  {
   "cell_type": "code",
   "execution_count": 22,
   "metadata": {},
   "outputs": [
    {
     "name": "stdout",
     "output_type": "stream",
     "text": [
      "('The current weather in Zurich is **50°F (10°C)** with mostly cloudy '\n",
      " 'conditions, a gentle breeze of 11.5 mph, and 76% humidity. There’s no '\n",
      " 'immediate precipitation reported. \\n'\n",
      " '\\n'\n",
      " '**Clothing recommendation**:  \\n'\n",
      " 'Wear a **warm jacket or sweater** to stay comfortable in the cooler '\n",
      " 'temperature. If there’s wind, a windbreaker could add extra protection.  \\n'\n",
      " '\\n'\n",
      " 'For more details, the weather outlook for October 2025 in Zurich typically '\n",
      " 'ranges between 5°C and 15°C, with occasional light rain. It’s wise to carry '\n",
      " 'an umbrella for the occasional shower! 🌤️')\n"
     ]
    }
   ],
   "source": [
    "from pprint import pprint\n",
    "\n",
    "pprint(response.content)"
   ]
  },
  {
   "cell_type": "markdown",
   "id": "d33e3cfc-6dbe-4f2b-99f4-329a87478a02",
   "metadata": {},
   "source": [
    "**What Happens Here:**\n",
    "1. The model has all necessary information.\n",
    "2. It synthesizes weather data and clothing recommendations.\n",
    "3. It generates a comprehensive response to the user.\n",
    "4. No more tool calls needed—the reasoning cycle is complete.\n"
   ]
  },
  {
   "cell_type": "markdown",
   "id": "2305b33c-5f32-4ee8-be01-30816501f4dc",
   "metadata": {},
   "source": [
    "## Automating ReAct with Graphs\n",
    "\n",
    "### Why Use Graphs?\n",
    "\n",
    "Manual ReAct execution is educational but impractical for real applications. LangGraph automates this process with a state machine that handles the reasoning loop automatically.\n",
    "\n",
    "### Building the Core Functions\n",
    "\n",
    "#### Tool Execution Node\n"
   ]
  },
  {
   "cell_type": "code",
   "execution_count": 23,
   "id": "0d786eae-4c5d-40da-a274-64dfa6f86ffa",
   "metadata": {},
   "outputs": [],
   "source": [
    "def tool_node(state: AgentState):\n",
    "    \"\"\"Execute all tool calls from the last message in the state.\"\"\"\n",
    "    outputs = []\n",
    "    for tool_call in state[\"messages\"][-1].tool_calls:\n",
    "        tool_result = tools_by_name[tool_call[\"name\"]].invoke(tool_call[\"args\"])\n",
    "        outputs.append(\n",
    "            ToolMessage(\n",
    "                content=json.dumps(tool_result),\n",
    "                name=tool_call[\"name\"],\n",
    "                tool_call_id=tool_call[\"id\"],\n",
    "            )\n",
    "        )\n",
    "    return {\"messages\": outputs}"
   ]
  },
  {
   "cell_type": "markdown",
   "id": "8b33bbc6-a922-44ac-8c3d-6973ffe258f7",
   "metadata": {},
   "source": [
    "**Function Purpose:**\n",
    "- Automatically execute all tool calls from the model\n",
    "- Handle multiple simultaneous tool calls\n",
    "- Return properly formatted tool messages\n"
   ]
  },
  {
   "cell_type": "markdown",
   "id": "842a1ae5-ebcc-4704-b894-92d4ee76b2f9",
   "metadata": {},
   "source": [
    "#### Model Invocation Node\n"
   ]
  },
  {
   "cell_type": "code",
   "execution_count": 24,
   "id": "af96880a-194c-4538-8656-d8af7fe5d538",
   "metadata": {},
   "outputs": [],
   "source": [
    "def call_model(state: AgentState):\n",
    "    \"\"\"Invoke the model with the current conversation state.\"\"\"\n",
    "    response = model_react.invoke({\"scratch_pad\": state[\"messages\"]})\n",
    "    return {\"messages\": [response]}"
   ]
  },
  {
   "cell_type": "markdown",
   "id": "e5920e2d-11d6-49fa-99e6-c5e11a427505",
   "metadata": {},
   "source": [
    "**Function Purpose:**\n",
    "- Call the ReAct-enabled model\n",
    "- Pass the full conversation context\n",
    "- Return the model's response (which may include tool calls)\n",
    "\n",
    "#### Decision Logic\n"
   ]
  },
  {
   "cell_type": "code",
   "execution_count": 25,
   "id": "f58e9a84-bc31-461b-989b-fecc6cd21fed",
   "metadata": {},
   "outputs": [],
   "source": [
    "def should_continue(state: AgentState):\n",
    "    \"\"\"Determine whether to continue with tool use or end the conversation.\"\"\"\n",
    "    messages = state[\"messages\"]\n",
    "    last_message = messages[-1]\n",
    "    # If there is no function call, then we finish\n",
    "    if not last_message.tool_calls:\n",
    "        return \"end\"\n",
    "    # Otherwise if there is, we continue\n",
    "    else:\n",
    "        return \"continue\""
   ]
  },
  {
   "cell_type": "markdown",
   "id": "ee6bff47-dc3e-48be-902d-57104edd656d",
   "metadata": {},
   "source": [
    "**Function Purpose:**\n",
    "- Implement the control flow logic\n",
    "- Decide whether the agent needs to use more tools\n",
    "- Route the conversation to either tool execution or completion\n",
    "\n",
    "### Constructing the State Graph\n"
   ]
  },
  {
   "cell_type": "code",
   "execution_count": 26,
   "id": "6fe6f750-26aa-42db-98ad-29d0ba2b4272",
   "metadata": {},
   "outputs": [],
   "source": [
    "from langgraph.graph import StateGraph, END\n",
    "\n",
    "# Define a new graph\n",
    "workflow = StateGraph(AgentState)\n",
    "\n",
    "# Define the two nodes we will cycle between\n",
    "workflow.add_node(\"agent\", call_model)\n",
    "workflow.add_node(\"tools\", tool_node)\n",
    "\n",
    "# Add edges between nodes\n",
    "workflow.add_edge(\"tools\", \"agent\")  # After tools, always go back to agent\n",
    "\n",
    "# Add conditional logic\n",
    "workflow.add_conditional_edges(\n",
    "    \"agent\",\n",
    "    should_continue,\n",
    "    {\n",
    "        \"continue\": \"tools\",  # If tools needed, go to tools node\n",
    "        \"end\": END,          # If done, end the conversation\n",
    "    },\n",
    ")\n",
    "\n",
    "# Set entry point\n",
    "workflow.set_entry_point(\"agent\")\n",
    "\n",
    "# Compile the graph\n",
    "graph = workflow.compile()"
   ]
  },
  {
   "cell_type": "markdown",
   "id": "9d0eed98-c37f-4f99-bf7f-6073f74448ea",
   "metadata": {},
   "source": [
    "**Graph Structure Explained:**\n",
    "1. **Agent Node**: Where reasoning happens and tool calls are generated.\n",
    "2. **Tools Node**: Where tool execution occurs.\n",
    "3. **Conditional Edge**: Determines whether to continue or finish.\n",
    "4. **Entry Point**: Conversation always starts with the agent reasoning.\n",
    "### Visualizing the Graph\n"
   ]
  },
  {
   "cell_type": "code",
   "execution_count": 27,
   "id": "b4232042-190d-4df3-b99f-1acf080d3092",
   "metadata": {},
   "outputs": [
    {
     "data": {
      "image/png": "[encoded data removed]",
      "text/plain": [
       "<IPython.core.display.Image object>"
      ]
     },
     "metadata": {},
     "output_type": "display_data"
    }
   ],
   "source": [
    "from IPython.display import Image, display\n",
    "\n",
    "try:\n",
    "    display(Image(graph.get_graph().draw_mermaid_png()))\n",
    "except Exception:\n",
    "    # This requires some extra dependencies and is optional\n",
    "    pass"
   ]
  },
  {
   "cell_type": "markdown",
   "id": "09ab89a0-d0e1-430e-962c-633951ab417d",
   "metadata": {},
   "source": [
    "This visualization shows the flow: Agent → Decision → Tools → Agent → Decision → End\n"
   ]
  },
  {
   "cell_type": "markdown",
   "id": "012fe16b-bcba-46b2-b734-8b3b307bec5b",
   "metadata": {},
   "source": [
    "## Running the Complete ReAct Agent\n",
    "\n",
    "### Final Execution\n"
   ]
  },
  {
   "cell_type": "code",
   "execution_count": 28,
   "id": "14586bf7-b5b5-4312-a5cc-19aeb6f6fbfd",
   "metadata": {},
   "outputs": [
    {
     "name": "stdout",
     "output_type": "stream",
     "text": [
      "================================\u001b[1m Human Message \u001b[0m=================================\n",
      "\n",
      "What's the weather like in Zurich, and what should I wear based on the temperature?\n",
      "==================================\u001b[1m Ai Message \u001b[0m==================================\n",
      "Tool Calls:\n",
      "  search_tool (2wt7bkehq)\n",
      " Call ID: 2wt7bkehq\n",
      "  Args:\n",
      "    query: current weather in Zurich\n",
      "=================================\u001b[1m Tool Message \u001b[0m=================================\n",
      "Name: search_tool\n",
      "\n",
      "[{\"title\": \"Z\\u00fcrich April 2025 Historical Weather Data (Switzerland)\", \"url\": \"https://weatherspark.com/h/m/60160/2025/4/Historical-Weather-in-April-2025-in-Z%C3%BCrich-Switzerland\", \"content\": \"| 91%  5:40 AM | WNW | 4:36 PM | ENE | 11:18 PM | S | 249,157 mi |\\n\\n| 10  |\\n\\n| 96%  5:54 AM | W | 5:43 PM | E | 11:58 PM | S | 250,613 mi |\\n\\n| 11  |\\n\\n| 98%  6:08 AM | W | 6:49 PM | E  - |\\n\\n| 12  |\\n\\n| 99%  6:21 AM | W | 7:55 PM | ESE | 12:37 AM | S | 251,645 mi |\\n\\n| 13  |\\n\\n| 100%  6:35 AM | WSW | 9:02 PM | ESE | 1:16 AM | S | 252,262 mi |\\n\\n| 14  |\\n\\n| 99%  6:52 AM | WSW | 10:10 PM | ESE | 1:57 AM | S | 252,459 mi |\\n\\n| 15  |\\n\\n| 96%  7:12 AM | WSW | 11:20 PM | SE | 2:42 AM | S | 252,209 mi | [...] Cloud Cover in April 2025 in Z\\u00fcrich1815222911223344556677889910101111121213131414151516161717181819192020212122222323242425252626272728282929303012 AM12 AM3 AM3 AM6 AM6 AM9 AM9 AM12 PM12 PM3 PM3 PM6 PM6 PM9 PM9 PM12 AM12 AMMarMay\\n\\n0% clear 20% mostly clear 40% partly cloudy 60% mostly cloudy 80% overcast 100%\\n\\nno significant cloudno cloud detectedceiling and visibility ok\\n\\nThe hourly reported cloud coverage, categorized by the percentage of the sky covered by clouds. [...] | 16  |\\n\\n| 92%  7:38 AM | SW  3:29 AM | S | 251,468 mi |\\n\\n| 17  |\\n\\n| 86% | 12:27 AM | SE | 8:12 AM | SW  4:20 AM | S | 250,183 mi |\\n\\n| 18  |\\n\\n| 78% | 1:30 AM | SE | 8:57 AM | SW  5:13 AM | S | 248,313 mi |\\n\\n| 19  |\\n\\n| 69% | 2:24 AM | SE | 9:53 AM | SW  6:09 AM | S | 245,842 mi |\\n\\n| 20  |\\n\\n| 59% | 3:08 AM | SE | 11:01 AM | SW  7:04 AM | S | 242,802 mi |\\n\\n| 21  |\\n\\n| 50% | 3:42 AM | SE | 12:16 PM | SW  7:59 AM | S | 239,291 mi |\\n\\n| 22  |\", \"score\": 0.82994765}, {\"title\": \"Weather in Z\\u00fcrich in October 2025 - Detailed Forecast\", \"url\": \"https://www.easeweather.com/europe/switzerland/zurich/october\", \"content\": \"| \\nSunny\\n16\\u00b0\\n | \\nMist\\n19\\u00b0\\n | \\nLight rain shower\\n18\\u00b0\\n | \\nModerate or heavy rain shower\\n14\\u00b0\\n | \\nPatchy rain possible\\n11\\u00b0\\n |\\n\\n| \\nPatchy rain possible\\n14\\u00b0\\n | \\nSunny\\n17\\u00b0\\n | \\nPartly cloudy\\n18\\u00b0\\n | \\nPatchy rain possible\\n17\\u00b0\\n | \\nSunny\\n17\\u00b0\\n | \\nPartly cloudy\\n16\\u00b0\\n | \\nPartly cloudy\\n16\\u00b0\\n |\\n\\n| \\nPartly cloudy\\n16\\u00b0\\n | \\nPartly cloudy\\n17\\u00b0\\n | \\nFog\\n15\\u00b0\\n | \\nPartly cloudy\\n15\\u00b0\\n | \\nPartly cloudy\\n15\\u00b0\\n | \\nOvercast\\n17\\u00b0\\n | \\nOvercast\\n17\\u00b0\\n | [...] | \\nSunny\\n17\\u00b0\\n | \\nModerate rain at times\\n15\\u00b0\\n | \\nPatchy rain possible\\n15\\u00b0\\n | \\nSunny\\n16\\u00b0\\n | \\nPartly cloudy\\n15\\u00b0\\n | \\nPartly cloudy\\n17\\u00b0\\n | \\nPatchy rain possible\\n15\\u00b0\\n |\\n\\n| \\nPartly cloudy\\n15\\u00b0\\n | \\nPatchy rain possible\\n17\\u00b0\\n | \\nOvercast\\n17\\u00b0\\n | \\nModerate rain at times\\n16\\u00b0\\n | \\nPartly cloudy\\n15\\u00b0\\n |  |  |\\n\\n## Temperatures trend during October in Z\\u00fcrich\\n\\nSee the weather trend as well as the moving average line\\n\\n## October weather in Z\\u00fcrich day by day\\n\\nClick on a date for more information [...] | 21 Oct. | Moderate rain at times\\nModerate rain at times\\n| 15\\u00b0 /9\\u00b0 | 4.4 mm | 4 |  |\\n\\n| 22 Oct. | Patchy rain possible\\nPatchy rain possible\\n| 15\\u00b0 /7\\u00b0 | 3 mm | 4 |  |\\n\\n| 23 Oct. | Sunny\\nSunny\\n| 16\\u00b0 /5\\u00b0 | 0.8 mm | 4 |  |\\n\\n| 24 Oct. | Partly cloudy\\nPartly cloudy\\n| 15\\u00b0 /6\\u00b0 | 3.4 mm | 4 |  |\\n\\n| 25 Oct. | Partly cloudy\\nPartly cloudy\\n| 17\\u00b0 /6\\u00b0 | 3.2 mm | 4 |  |\\n\\n| 26 Oct. | Patchy rain possible\\nPatchy rain possible\\n| 15\\u00b0 /8\\u00b0 | 8.7 mm | 4 |  |\", \"score\": 0.7701369}, {\"title\": \"Zurich weather in October 2025 - Weather25.com\", \"url\": \"https://www.weather25.com/europe/switzerland/zurich?page=month&month=October\", \"content\": \"| 26 Partly cloudy 14\\u00b0 /7\\u00b0 | 27 Partly cloudy 14\\u00b0 /7\\u00b0 | 28 Moderate rain 15\\u00b0 /7\\u00b0 | 29 Light rain 14\\u00b0 /7\\u00b0 | 30 Overcast 14\\u00b0 /7\\u00b0 | 31 Fog 14\\u00b0 /6\\u00b0 |  | [...] | Sun | Mon | Tue | Wed | Thu | Fri | Sat |\\n ---  ---  --- \\n|  |  |  | 1 Mist 17\\u00b0 /7\\u00b0 | 2 Mist 18\\u00b0 /8\\u00b0 | 3 Light rain shower 16\\u00b0 /7\\u00b0 | 4 Light rain shower 14\\u00b0 /7\\u00b0 |\\n| 5 Light rain shower 11\\u00b0 /5\\u00b0 | 6 Cloudy 14\\u00b0 /4\\u00b0 | 7 Sunny 17\\u00b0 /6\\u00b0 | 8 Partly cloudy 17\\u00b0 /7\\u00b0 | 9 Patchy rain possible 16\\u00b0 /8\\u00b0 | 10 Patchy rain possible 14\\u00b0 /11\\u00b0 | 11 Mist 16\\u00b0 /8\\u00b0 | [...] The temperatures in Zurich in October are quite cold with temperatures between 5\\u00b0C and 15\\u00b0C, warm clothes are a must.\\n\\nYou can expect about 3 to 8 days of rain in Zurich during the month of October. It\\u2019s a good idea to bring along your umbrella so that you don\\u2019t get caught in poor weather.\\n\\nOur weather forecast can give you a great sense of what weather to expect in Zurich in October 2025.\", \"score\": 0.7293082}, {\"title\": \"Z\\u00fcrich, Switzerland Weather Conditions | Weather Underground\", \"url\": \"https://www.wunderground.com/weather/ch/z%C3%BCrich\", \"content\": \"# Z\\u00fcrich, Z\\u00fcrich, Switzerland Weather Conditionsstar\\\\_ratehome\\n\\nicon\\n\\nThank you for reporting this station. We will review the data in question.\\n\\nYou are about to report this weather station for bad data. Please select the information that is incorrect.\\n\\nSee more\\n\\n(Reset Map)\\n\\nNo PWS\\n\\nReset Map, or Add PWS.\\n\\naccess\\\\_time 1:04 AM CEST on October 5, 2025 (GMT +2) | Updated 7 seconds ago\\n\\nicon\\n\\nCloudy\\n\\nGusts 10 \\u00b0mph\\n\\nTomorrow's temperature is forecast to be MUCH COOLER than today. [...] icon\\nicon\\nicon\\nicon\\nicon\\nicon\\nicon\\nicon\\nAccess Logo\\n\\nWe recognize our responsibility to use data and technology for good. We may use or share your data with our data vendors. Take control of your data.\\n\\nThe Weather Company Logo\\nThe Weather Channel Logo\\nWeather Underground Logo\\nStorm Radar Logo\\n\\n\\u00a9 The Weather Company, LLC 2025\", \"score\": 0.6836946}, {\"title\": \"April - Zurich, Zurich, Switzerland Monthly Weather | AccuWeather\", \"url\": \"https://www.accuweather.com/en/ch/zurich/316622/april-weather/316622\", \"content\": \"Weather Forecasts\\n\\nThunderstorms, snow on tap this weekend as storm hits Rockies, Plains\\n\\n4 hours ago\\n\\nFeatured Stories\\n\\nWeather News\\n\\nAmerican climber Balin Miller dies aged 23 while climbing El Capitan\\n\\n1 day ago\\n\\nAstronomy\\n\\nDraconid meteor shower 2025: How to see October's shooting stars\\n\\n1 day ago\\n\\nWeather News\\n\\nConservationist Jane Goodall dies at 91\\n\\n2 days ago\\n\\nWeather News\\n\\nShutdown threatens to stall rural loans and flood insurance\\n\\n1 day ago\\n\\nWinter Weather [...] ### Hurricane Tracker\\n\\n### Severe Weather\\n\\n### Radar & Maps\\n\\n### News\\n\\n### Video\\n\\nTop Stories\\n\\nWinter Weather\\n\\nWinter forecast 2025-26: Snowy season ahead for parts of the US\\n\\n1 day ago\\n\\nHurricane\\n\\nWhat's next after Imelda? Two areas being monitored, including near US\\n\\n4 hours ago\\n\\nWeather Forecasts\\n\\nKing tides are coming to the Southeast coast: here's what to know\\n\\n3 hours ago\\n\\nWeather Forecasts\\n\\nTemperature swings and some much-needed rain on the way for the East\\n\\n7 hours ago [...] # Zurich, Zurich\\n\\nZurich\\n\\nZurich\\n\\n## Around the Globe\\n\\nAround the Globe\\n\\n### Hurricane Tracker\\n\\n### Severe Weather\\n\\n### Radar & Maps\\n\\n### News & Features\\n\\n### Astronomy\\n\\n### Business\\n\\n### Climate\\n\\n### Health\\n\\n### Recreation\\n\\n### Sports\\n\\n### Travel\\n\\n### Warnings\\n\\n### Data Suite\\n\\n### Forensics\\n\\n### Advertising\\n\\n### Superior Accuracy\\u2122\\n\\n### Video\\n\\n## Monthly\\n\\n## April\\n\\n## 2025\\n\\n## Daily\\n\\n## Temperature Graph\\n\\n## Further Ahead\\n\\nFurther Ahead\\n\\n### July 2025\\n\\n## Around the Globe\\n\\nAround the Globe\", \"score\": 0.5479727}]\n",
      "==================================\u001b[1m Ai Message \u001b[0m==================================\n",
      "\n",
      "The search results indicate that Zurich’s weather for October 2025 (the most recent available forecast) shows temperatures ranging from **5°C to 15°C**, with cloudiness and occasional rain. Here’s what you might expect and wear:\n",
      "\n",
      "### Weather Summary:\n",
      "- **Temperature**: 5°C (41°F) to 15°C (59°F).\n",
      "- **Conditions**: Mostly cloudy with isolated rainfall, especially mid-month.\n",
      "\n",
      "### Clothing Recommendation:\n",
      "1. **Layering**: Light sweaters or fleece jackets for warmth.\n",
      "2. **Outerwear**: Waterproof or water-resistant jackets for occasional rain.\n",
      "3. **Bottoms**: Jeans or thick trousers for cooler temperatures.\n",
      "4. **Footwear**: Sturdy shoes (e.g., boots) to handle wet weather.\n",
      "\n",
      "### Note:\n",
      "This advice is based on the October forecast. If visiting Zurich soon, check for short-term updates for accuracy! 🌧️☔\n"
     ]
    }
   ],
   "source": [
    "def print_stream(stream):\n",
    "    \"\"\"Helper function for formatting the stream nicely.\"\"\"\n",
    "    for s in stream:\n",
    "        message = s[\"messages\"][-1]\n",
    "        if isinstance(message, tuple):\n",
    "            print(message)\n",
    "        else:\n",
    "            message.pretty_print()\n",
    "\n",
    "inputs = {\"messages\": [HumanMessage(content=\"What's the weather like in Zurich, and what should I wear based on the temperature?\")]}\n",
    "\n",
    "print_stream(graph.stream(inputs, stream_mode=\"values\"))"
   ]
  },
  {
   "cell_type": "markdown",
   "id": "84727b52-0fe4-43fc-8740-87ad7f04398c",
   "metadata": {},
   "source": [
    "**What You'll See:**\n",
    "1. **Initial Reasoning**: Agent analyzes the query.\n",
    "2. **Tool Call 1**: Searches for Zurich weather.\n",
    "3. **Tool Result Processing**: Agent examines weather data.\n",
    "4. **Tool Call 2**: Gets clothing recommendations.\n",
    "5. **Final Synthesis**: Agent combines all information into a helpful response.\n"
   ]
  },
  {
   "cell_type": "markdown",
   "id": "9a3078c0-a8d7-428f-a2a8-8cb535479190",
   "metadata": {},
   "source": [
    "### The Complete ReAct Cycle\n",
    "\n",
    "The final execution demonstrates the full ReAct pattern:\n",
    "\n",
    "1. **Reasoning**: \"I need current weather data for Zurich\".\n",
    "2. **Acting**: Calls search_tool(\"Zurich weather today\").\n",
    "3. **Observing**: Processes search results, extracts temperature.\n",
    "4. **Reasoning**: \"Now I need clothing recommendations for this temperature\".\n",
    "5. **Acting**: Calls recommend_clothing(\"temperature from search\").\n",
    "6. **Observing**: Gets clothing suggestions.\n",
    "7. **Reasoning**: \"I can now provide a complete answer\".\n",
    "8. **Final Response**: Synthesizes weather info and clothing recommendations.\n"
   ]
  },
  {
   "cell_type": "markdown",
   "id": "51230d00-7898-4b2d-ae6a-ca884986030d",
   "metadata": {},
   "source": [
    "## Key Takeaways\n"
   ]
  },
  {
   "cell_type": "markdown",
   "id": "8add3292-ae81-4ed1-a45e-a0b01126ba37",
   "metadata": {},
   "source": [
    "### What Makes ReAct Powerful\n",
    "\n",
    "1. **Transparency**: You can see the agent's reasoning process.\n",
    "2. **Adaptability**: The agent can handle unexpected results and change course.\n",
    "3. **Extensibility**: It's easy to add new tools and capabilities.\n",
    "4. **Reliability**: The structured approach reduces hallucination and improves accuracy\n"
   ]
  },
  {
   "cell_type": "markdown",
   "id": "778c903e-4d0d-4b81-8259-355c0bcf50b6",
   "metadata": {},
   "source": [
    "### Best Practices\n",
    "\n",
    "1. **Tool Design**: Make tools focused and reliable.\n",
    "2. **Error Handling**: Plan for tool failures and unexpected results.\n",
    "3. **Context Management**: Keep state manageable and relevant.\n",
    "4. **User Experience**: Provide clear feedback about what the agent is doing.\n",
    "\n",
    "The ReAct framework represents a significant step toward more capable and trustworthy AI agents that can reason through complex problems and take meaningful actions in the real world.\n"
   ]
  },
  {
   "cell_type": "markdown",
   "id": "46b3fa9e-b76f-4186-a4e9-358465c33343",
   "metadata": {},
   "source": [
    "# Exercises\n",
    "\n",
    "Now it's time to put your ReAct knowledge into practice! These exercises will help you build your own tools and extend the agent's capabilities.\n"
   ]
  },
  {
   "cell_type": "markdown",
   "id": "c94e34c9-4f16-40b0-bc21-b11d1b18cd60",
   "metadata": {},
   "source": [
    "## Exercise 1 - Build a Calculator Tool\n",
    "\n",
    "**Objective:** Create a mathematical calculator tool that can handle complex calculations.\n",
    "\n",
    "Your task is to create a calculator tool that can perform mathematical operations. This tool should be able to handle expressions like \"2 + 3 * 4\", \"sqrt(16)\", and \"sin(π/2)\".\n",
    "\n",
    "### Instructions:\n",
    "1. Create a tool called `calculator_tool` using the `@tool` decorator.\n",
    "2. The tool should accept a mathematical expression as a string.\n",
    "3. Use Python's `eval()` function carefully (or better yet, use the `ast` module for safety).\n",
    "4. Test your tool with various mathematical expressions.\n",
    "5. Add your tool to the tools list and test it with the ReAct agent.\n",
    "\n",
    "### Starter Code:\n"
   ]
  },
  {
   "cell_type": "code",
   "execution_count": 49,
   "id": "3eac63ad-c2d8-4a93-909d-72ff401537c1",
   "metadata": {},
   "outputs": [
    {
     "name": "stderr",
     "output_type": "stream",
     "text": [
      "/var/folders/nm/srw3ygl55jbgpddqwgysqjpm0000gn/T/ipykernel_19161/2405236223.py:70: LangChainDeprecationWarning: The method `BaseTool.__call__` was deprecated in langchain-core 0.1.47 and will be removed in 1.0. Use :meth:`~invoke` instead.\n",
      "  calculator_tool(\"15 * 250 +25\")\n"
     ]
    },
    {
     "data": {
      "text/plain": [
       "3775"
      ]
     },
     "execution_count": 49,
     "metadata": {},
     "output_type": "execute_result"
    }
   ],
   "source": [
    "import math\n",
    "import ast\n",
    "import operator\n",
    "\n",
    "@tool\n",
    "def calculator_tool(expression: str) -> str:\n",
    "    \"\"\"\n",
    "    Safely evaluate mathematical expressions.\n",
    "    \n",
    "    :param expression: A mathematical expression as a string (e.g., \"2 + 3 * 4\")\n",
    "    :return: The result of the calculation\n",
    "    \"\"\"\n",
    "    # TODO: Implement safe mathematical evaluation\n",
    "    # Hint: You can use ast.literal_eval for simple expressions\n",
    "    # or create a safe evaluator for more complex math\n",
    "    # try:\n",
    "    \n",
    "    # Define safe operators\n",
    "    safe_operators = {\n",
    "        ast.Add: operator.add,\n",
    "        ast.Sub: operator.sub,\n",
    "        ast.Mult: operator.mul,\n",
    "        ast.Div: operator.truediv,\n",
    "        ast.Pow: operator.pow,\n",
    "        ast.USub: operator.neg,\n",
    "        ast.UAdd: operator.pos,\n",
    "    }\n",
    "    \n",
    "    def eval_node(node):\n",
    "        \"\"\"Recursively evaluate an AST node.\"\"\"\n",
    "        if isinstance(node, ast.Num):  # Number\n",
    "            return node.n\n",
    "        elif isinstance(node, ast.Constant):  # Python 3.8+\n",
    "            return node.value\n",
    "        elif isinstance(node, ast.BinOp):  # Binary operation\n",
    "            left = eval_node(node.left)\n",
    "            right = eval_node(node.right)\n",
    "            op = safe_operators.get(type(node.op))\n",
    "            if op is None:\n",
    "                raise ValueError(f\"Unsupported operation: {type(node.op).__name__}\")\n",
    "            return op(left, right)\n",
    "        elif isinstance(node, ast.UnaryOp):  # Unary operation\n",
    "            operand = eval_node(node.operand)\n",
    "            op = safe_operators.get(type(node.op))\n",
    "            if op is None:\n",
    "                raise ValueError(f\"Unsupported operation: {type(node.op).__name__}\")\n",
    "            return op(operand)\n",
    "        else:\n",
    "            raise ValueError(f\"Unsupported expression type: {type(node).__name__}\")\n",
    "    \n",
    "    try:\n",
    "        # Parse the expression\n",
    "        tree = ast.parse(expression, mode='eval')\n",
    "\n",
    "        ## --Debugging prints--\n",
    "        # print(tree.body.op)\n",
    "        # print(tree.body.left)\n",
    "        # print(tree.body.right)\n",
    "        ## --------------------\n",
    "\n",
    "        # Evaluate the expression\n",
    "        result = eval_node(tree.body)\n",
    "        return result\n",
    "    except ZeroDivisionError:\n",
    "        return \"Error: Division by zero\"\n",
    "    except Exception as e:\n",
    "        return f\"Error: {str(e)}\"\n",
    "\n",
    "\n",
    "calculator_tool(\"15 * 250 +25\")\n",
    "\n",
    "# TODO: Add calculator_tool to your tools list\n",
    "# TODO: Test with the agent: \"What's 15% of 250 plus the square root of 144?\""
   ]
  },
  {
   "cell_type": "code",
   "execution_count": 50,
   "metadata": {},
   "outputs": [],
   "source": [
    "tools=[search_tool, recommend_clothing, calculator_tool]\n",
    "\n",
    "tools_by_name={ tool.name:tool for tool in tools}\n",
    "\n",
    "model_react = chat_prompt | model.bind_tools(tools)"
   ]
  },
  {
   "cell_type": "code",
   "execution_count": 51,
   "metadata": {},
   "outputs": [],
   "source": [
    "# Define a new graph\n",
    "workflow = StateGraph(AgentState)\n",
    "\n",
    "# Define the two nodes we will cycle between\n",
    "workflow.add_node(\"agent\", call_model)\n",
    "workflow.add_node(\"tools\", tool_node)\n",
    "\n",
    "# Add edges between nodes\n",
    "workflow.add_edge(\"tools\", \"agent\")  # After tools, always go back to agent\n",
    "\n",
    "# Add conditional logic\n",
    "workflow.add_conditional_edges(\n",
    "    \"agent\",\n",
    "    should_continue,\n",
    "    {\n",
    "        \"continue\": \"tools\",  # If tools needed, go to tools node\n",
    "        \"end\": END,          # If done, end the conversation\n",
    "    },\n",
    ")\n",
    "\n",
    "# Set entry point\n",
    "workflow.set_entry_point(\"agent\")\n",
    "\n",
    "# Compile the graph\n",
    "graph = workflow.compile()"
   ]
  },
  {
   "cell_type": "code",
   "execution_count": 52,
   "metadata": {},
   "outputs": [
    {
     "name": "stdout",
     "output_type": "stream",
     "text": [
      "================================\u001b[1m Human Message \u001b[0m=================================\n",
      "\n",
      "What's 15% of 250 plus the square root of 144?\n",
      "==================================\u001b[1m Ai Message \u001b[0m==================================\n",
      "Tool Calls:\n",
      "  calculator_tool (x54h9yfk4)\n",
      " Call ID: x54h9yfk4\n",
      "  Args:\n",
      "    expression: 15/100*250 + sqrt(144)\n",
      "=================================\u001b[1m Tool Message \u001b[0m=================================\n",
      "Name: calculator_tool\n",
      "\n",
      "\"Error: Unsupported expression type: Call\"\n",
      "==================================\u001b[1m Ai Message \u001b[0m==================================\n",
      "Tool Calls:\n",
      "  calculator_tool (a39a2sf7h)\n",
      " Call ID: a39a2sf7h\n",
      "  Args:\n",
      "    expression: 15/100*250 + 144**(1/2)\n",
      "=================================\u001b[1m Tool Message \u001b[0m=================================\n",
      "Name: calculator_tool\n",
      "\n",
      "49.5\n",
      "==================================\u001b[1m Ai Message \u001b[0m==================================\n",
      "\n",
      "The result of 15% of 250 plus the square root of 144 is **49.5**.\n",
      "\n",
      "Calculation breakdown:\n",
      "- 15% of 250 = 0.15 × 250 = **37.5**\n",
      "- √144 = **12**\n",
      "- 37.5 + 12 = **49.5**\n"
     ]
    }
   ],
   "source": [
    "inputs = {\"messages\": [HumanMessage(content=\"What's 15% of 250 plus the square root of 144?\")]}\n",
    "\n",
    "print_stream(graph.stream(inputs, stream_mode=\"values\"))"
   ]
  },
  {
   "cell_type": "markdown",
   "id": "b5912dce-5739-456a-970b-978eea689263",
   "metadata": {},
   "source": [
    "## Exercise 2 - Create a News Summary Tool\n",
    "\n",
    "**Objective:** Build a tool that can fetch and summarize recent news articles.\n",
    "\n",
    "Create a news summarization tool that works with the existing search functionality. This tool should take search results and create concise summaries of news articles.\n",
    "\n",
    "### Instructions:\n",
    "1. Create a `news_summarizer_tool` that takes news content and creates summaries.\n",
    "2. The tool should extract key information: headline, date, main points.\n",
    "3. Format the output in a readable way.\n",
    "4. Test it by asking the agent to \"search for recent AI news and summarize the top 3 articles\".\n",
    "\n",
    "### Starter Code:\n"
   ]
  },
  {
   "cell_type": "code",
   "execution_count": 54,
   "metadata": {},
   "outputs": [],
   "source": [
    "search_results = [{\"title\": \"Z\\u00fcrich April 2025 Historical Weather Data (Switzerland)\", \"url\": \"https://weatherspark.com/h/m/60160/2025/4/Historical-Weather-in-April-2025-in-Z%C3%BCrich-Switzerland\", \"content\": \"| 91%  5:40 AM | WNW | 4:36 PM | ENE | 11:18 PM | S | 249,157 mi |\\n\\n| 10  |\\n\\n| 96%  5:54 AM | W | 5:43 PM | E | 11:58 PM | S | 250,613 mi |\\n\\n| 11  |\\n\\n| 98%  6:08 AM | W | 6:49 PM | E  - |\\n\\n| 12  |\\n\\n| 99%  6:21 AM | W | 7:55 PM | ESE | 12:37 AM | S | 251,645 mi |\\n\\n| 13  |\\n\\n| 100%  6:35 AM | WSW | 9:02 PM | ESE | 1:16 AM | S | 252,262 mi |\\n\\n| 14  |\\n\\n| 99%  6:52 AM | WSW | 10:10 PM | ESE | 1:57 AM | S | 252,459 mi |\\n\\n| 15  |\\n\\n| 96%  7:12 AM | WSW | 11:20 PM | SE | 2:42 AM | S | 252,209 mi | [...] Cloud Cover in April 2025 in Z\\u00fcrich1815222911223344556677889910101111121213131414151516161717181819192020212122222323242425252626272728282929303012 AM12 AM3 AM3 AM6 AM6 AM9 AM9 AM12 PM12 PM3 PM3 PM6 PM6 PM9 PM9 PM12 AM12 AMMarMay\\n\\n0% clear 20% mostly clear 40% partly cloudy 60% mostly cloudy 80% overcast 100%\\n\\nno significant cloudno cloud detectedceiling and visibility ok\\n\\nThe hourly reported cloud coverage, categorized by the percentage of the sky covered by clouds. [...] | 16  |\\n\\n| 92%  7:38 AM | SW  3:29 AM | S | 251,468 mi |\\n\\n| 17  |\\n\\n| 86% | 12:27 AM | SE | 8:12 AM | SW  4:20 AM | S | 250,183 mi |\\n\\n| 18  |\\n\\n| 78% | 1:30 AM | SE | 8:57 AM | SW  5:13 AM | S | 248,313 mi |\\n\\n| 19  |\\n\\n| 69% | 2:24 AM | SE | 9:53 AM | SW  6:09 AM | S | 245,842 mi |\\n\\n| 20  |\\n\\n| 59% | 3:08 AM | SE | 11:01 AM | SW  7:04 AM | S | 242,802 mi |\\n\\n| 21  |\\n\\n| 50% | 3:42 AM | SE | 12:16 PM | SW  7:59 AM | S | 239,291 mi |\\n\\n| 22  |\", \"score\": 0.82994765}, {\"title\": \"Weather in Z\\u00fcrich in October 2025 - Detailed Forecast\", \"url\": \"https://www.easeweather.com/europe/switzerland/zurich/october\", \"content\": \"| \\nSunny\\n16\\u00b0\\n | \\nMist\\n19\\u00b0\\n | \\nLight rain shower\\n18\\u00b0\\n | \\nModerate or heavy rain shower\\n14\\u00b0\\n | \\nPatchy rain possible\\n11\\u00b0\\n |\\n\\n| \\nPatchy rain possible\\n14\\u00b0\\n | \\nSunny\\n17\\u00b0\\n | \\nPartly cloudy\\n18\\u00b0\\n | \\nPatchy rain possible\\n17\\u00b0\\n | \\nSunny\\n17\\u00b0\\n | \\nPartly cloudy\\n16\\u00b0\\n | \\nPartly cloudy\\n16\\u00b0\\n |\\n\\n| \\nPartly cloudy\\n16\\u00b0\\n | \\nPartly cloudy\\n17\\u00b0\\n | \\nFog\\n15\\u00b0\\n | \\nPartly cloudy\\n15\\u00b0\\n | \\nPartly cloudy\\n15\\u00b0\\n | \\nOvercast\\n17\\u00b0\\n | \\nOvercast\\n17\\u00b0\\n | [...] | \\nSunny\\n17\\u00b0\\n | \\nModerate rain at times\\n15\\u00b0\\n | \\nPatchy rain possible\\n15\\u00b0\\n | \\nSunny\\n16\\u00b0\\n | \\nPartly cloudy\\n15\\u00b0\\n | \\nPartly cloudy\\n17\\u00b0\\n | \\nPatchy rain possible\\n15\\u00b0\\n |\\n\\n| \\nPartly cloudy\\n15\\u00b0\\n | \\nPatchy rain possible\\n17\\u00b0\\n | \\nOvercast\\n17\\u00b0\\n | \\nModerate rain at times\\n16\\u00b0\\n | \\nPartly cloudy\\n15\\u00b0\\n |  |  |\\n\\n## Temperatures trend during October in Z\\u00fcrich\\n\\nSee the weather trend as well as the moving average line\\n\\n## October weather in Z\\u00fcrich day by day\\n\\nClick on a date for more information [...] | 21 Oct. | Moderate rain at times\\nModerate rain at times\\n| 15\\u00b0 /9\\u00b0 | 4.4 mm | 4 |  |\\n\\n| 22 Oct. | Patchy rain possible\\nPatchy rain possible\\n| 15\\u00b0 /7\\u00b0 | 3 mm | 4 |  |\\n\\n| 23 Oct. | Sunny\\nSunny\\n| 16\\u00b0 /5\\u00b0 | 0.8 mm | 4 |  |\\n\\n| 24 Oct. | Partly cloudy\\nPartly cloudy\\n| 15\\u00b0 /6\\u00b0 | 3.4 mm | 4 |  |\\n\\n| 25 Oct. | Partly cloudy\\nPartly cloudy\\n| 17\\u00b0 /6\\u00b0 | 3.2 mm | 4 |  |\\n\\n| 26 Oct. | Patchy rain possible\\nPatchy rain possible\\n| 15\\u00b0 /8\\u00b0 | 8.7 mm | 4 |  |\", \"score\": 0.7701369}, {\"title\": \"Zurich weather in October 2025 - Weather25.com\", \"url\": \"https://www.weather25.com/europe/switzerland/zurich?page=month&month=October\", \"content\": \"| 26 Partly cloudy 14\\u00b0 /7\\u00b0 | 27 Partly cloudy 14\\u00b0 /7\\u00b0 | 28 Moderate rain 15\\u00b0 /7\\u00b0 | 29 Light rain 14\\u00b0 /7\\u00b0 | 30 Overcast 14\\u00b0 /7\\u00b0 | 31 Fog 14\\u00b0 /6\\u00b0 |  | [...] | Sun | Mon | Tue | Wed | Thu | Fri | Sat |\\n ---  ---  --- \\n|  |  |  | 1 Mist 17\\u00b0 /7\\u00b0 | 2 Mist 18\\u00b0 /8\\u00b0 | 3 Light rain shower 16\\u00b0 /7\\u00b0 | 4 Light rain shower 14\\u00b0 /7\\u00b0 |\\n| 5 Light rain shower 11\\u00b0 /5\\u00b0 | 6 Cloudy 14\\u00b0 /4\\u00b0 | 7 Sunny 17\\u00b0 /6\\u00b0 | 8 Partly cloudy 17\\u00b0 /7\\u00b0 | 9 Patchy rain possible 16\\u00b0 /8\\u00b0 | 10 Patchy rain possible 14\\u00b0 /11\\u00b0 | 11 Mist 16\\u00b0 /8\\u00b0 | [...] The temperatures in Zurich in October are quite cold with temperatures between 5\\u00b0C and 15\\u00b0C, warm clothes are a must.\\n\\nYou can expect about 3 to 8 days of rain in Zurich during the month of October. It\\u2019s a good idea to bring along your umbrella so that you don\\u2019t get caught in poor weather.\\n\\nOur weather forecast can give you a great sense of what weather to expect in Zurich in October 2025.\", \"score\": 0.7293082}, {\"title\": \"Z\\u00fcrich, Switzerland Weather Conditions | Weather Underground\", \"url\": \"https://www.wunderground.com/weather/ch/z%C3%BCrich\", \"content\": \"# Z\\u00fcrich, Z\\u00fcrich, Switzerland Weather Conditionsstar\\\\_ratehome\\n\\nicon\\n\\nThank you for reporting this station. We will review the data in question.\\n\\nYou are about to report this weather station for bad data. Please select the information that is incorrect.\\n\\nSee more\\n\\n(Reset Map)\\n\\nNo PWS\\n\\nReset Map, or Add PWS.\\n\\naccess\\\\_time 1:04 AM CEST on October 5, 2025 (GMT +2) | Updated 7 seconds ago\\n\\nicon\\n\\nCloudy\\n\\nGusts 10 \\u00b0mph\\n\\nTomorrow's temperature is forecast to be MUCH COOLER than today. [...] icon\\nicon\\nicon\\nicon\\nicon\\nicon\\nicon\\nicon\\nAccess Logo\\n\\nWe recognize our responsibility to use data and technology for good. We may use or share your data with our data vendors. Take control of your data.\\n\\nThe Weather Company Logo\\nThe Weather Channel Logo\\nWeather Underground Logo\\nStorm Radar Logo\\n\\n\\u00a9 The Weather Company, LLC 2025\", \"score\": 0.6836946}, {\"title\": \"April - Zurich, Zurich, Switzerland Monthly Weather | AccuWeather\", \"url\": \"https://www.accuweather.com/en/ch/zurich/316622/april-weather/316622\", \"content\": \"Weather Forecasts\\n\\nThunderstorms, snow on tap this weekend as storm hits Rockies, Plains\\n\\n4 hours ago\\n\\nFeatured Stories\\n\\nWeather News\\n\\nAmerican climber Balin Miller dies aged 23 while climbing El Capitan\\n\\n1 day ago\\n\\nAstronomy\\n\\nDraconid meteor shower 2025: How to see October's shooting stars\\n\\n1 day ago\\n\\nWeather News\\n\\nConservationist Jane Goodall dies at 91\\n\\n2 days ago\\n\\nWeather News\\n\\nShutdown threatens to stall rural loans and flood insurance\\n\\n1 day ago\\n\\nWinter Weather [...] ### Hurricane Tracker\\n\\n### Severe Weather\\n\\n### Radar & Maps\\n\\n### News\\n\\n### Video\\n\\nTop Stories\\n\\nWinter Weather\\n\\nWinter forecast 2025-26: Snowy season ahead for parts of the US\\n\\n1 day ago\\n\\nHurricane\\n\\nWhat's next after Imelda? Two areas being monitored, including near US\\n\\n4 hours ago\\n\\nWeather Forecasts\\n\\nKing tides are coming to the Southeast coast: here's what to know\\n\\n3 hours ago\\n\\nWeather Forecasts\\n\\nTemperature swings and some much-needed rain on the way for the East\\n\\n7 hours ago [...] # Zurich, Zurich\\n\\nZurich\\n\\nZurich\\n\\n## Around the Globe\\n\\nAround the Globe\\n\\n### Hurricane Tracker\\n\\n### Severe Weather\\n\\n### Radar & Maps\\n\\n### News & Features\\n\\n### Astronomy\\n\\n### Business\\n\\n### Climate\\n\\n### Health\\n\\n### Recreation\\n\\n### Sports\\n\\n### Travel\\n\\n### Warnings\\n\\n### Data Suite\\n\\n### Forensics\\n\\n### Advertising\\n\\n### Superior Accuracy\\u2122\\n\\n### Video\\n\\n## Monthly\\n\\n## April\\n\\n## 2025\\n\\n## Daily\\n\\n## Temperature Graph\\n\\n## Further Ahead\\n\\nFurther Ahead\\n\\n### July 2025\\n\\n## Around the Globe\\n\\nAround the Globe\", \"score\": 0.5479727}]\n"
   ]
  },
  {
   "cell_type": "code",
   "execution_count": null,
   "id": "fad0592e-0ae3-4f95-865c-00bfab8fd006",
   "metadata": {},
   "outputs": [],
   "source": [
    "@tool\n",
    "def news_summarizer_tool(news_content: str) -> str:\n",
    "    \"\"\"\n",
    "    Summarize news articles from search results.\n",
    "    \n",
    "    :param news_content: Raw news content or search results\n",
    "    :return: A formatted summary of the news\n",
    "    \"\"\"\n",
    "    # TODO: Parse the news content\n",
    "    # TODO: Extract key information (headlines, dates, main points)\n",
    "    # TODO: Format into a readable summary\n",
    "    # Hint: You might want to split by articles and process each one\n",
    "\n",
    "    # simple way of calling the model to summarize\n",
    "    summary_template = ChatPromptTemplate.from_messages([\n",
    "        (\n",
    "            \"system\", \n",
    "            \"\"\"You are a news summarization assistant. Summarize the key points from the provided articles.\n",
    "            Keep the summary concise and informative. Return the summary in a single paragraph.\"\"\"\n",
    "        ),\n",
    "        (\n",
    "            \"human\", \n",
    "            \"Summarize the following news articles:\\n{articles}\"\n",
    "        ),\n",
    "    ])\n",
    "    summary_chain = summary_template | model\n",
    "    response = summary_chain.invoke({\"articles\": news_content})\n",
    "    final_summary = response.content\n",
    "\n",
    "    return final_summary"
   ]
  },
  {
   "cell_type": "code",
   "execution_count": 83,
   "metadata": {},
   "outputs": [
    {
     "data": {
      "text/plain": [
       "\"<think>\\nOkay, I need to summarize the key points from this news article. Let me read through it again.\\n\\nSo, the main topic is the 2025 AI Index Report that highlights global AI growth. First, there's a mention of regulations: in 2024, global AI regulations doubled from 2023 to 59 from U.S. agencies alone. Then, legislative mentions increased by 21.3% across 75 countries. \\n\\nNext, major investments from different countries: Canada $2.4B, China $47.5B in semiconductors, France €109B, India $1.25B, and Saudi Arabia. The report also talks about AI adoption in healthcare with FDA approving 223 devices in 2023 and transportation with Waymo's 150k autonomous rides weekly. \\n\\nPrivate investment in the U.S. is $109.1B, which is 12 times China's investment. Global generative AI investment is $33.9B. Lastly, 78% of organizations use AI, up from 55% in 2023.\\n\\nI need to condense these points into a concise paragraph. Start with the regulations doubling in 2024, mention the legislative mentions increase. Then list the major investments from the countries specified. Highlight healthcare and transportation adoption with specific numbers. Include the U.S. private investment compared to China and generative AI figures. End with the rise in AI usage among organizations. Make sure it's all in one paragraph, connected smoothly.\\n</think>\\n\\nThe 2025 AI Index Report indicates rapid global AI expansion, with U.S. federal AI regulations doubling to 59 in 2024 and legislative references rising 21.3% across 75 countries. Major investments include Canada ($2.4B), China’s $47.5B semiconductor fund, France’s €109B, India ($1.25B), and Saudi Arabia. AI adoption soared in healthcare (223 FDA-approved AI medical devices in 2023) and transportation (Waymo’s 150,000+ weekly autonomous rides). U.S. private AI investment reached $109.1B in 2024—12 times China’s level—and global generative AI funding hit $33.9B. Meanwhile, 78% of organizations reported AI usage in 2024, up from 55% in 2023.\""
      ]
     },
     "execution_count": 83,
     "metadata": {},
     "output_type": "execute_result"
    }
   ],
   "source": [
    "news_content = \"\"\"\n",
    "### 2025 AI Index Report Highlights Global AI Growth\n",
    "\n",
    "In 2024, global AI regulations more than doubled compared to 2023, reaching 59 regulations from U.S. federal agencies alone. Legislative mentions of AI rose 21.3% across 75 countries. Major national investments include Canada ($2.4B), China ($47.5B semiconductor fund), France (€109B), India ($1.25B), and Saudi Arabia. AI adoption is accelerating in healthcare (FDA approved 223 AI medical devices in 2023) and transportation (Waymo provides 150k+ autonomous rides weekly). Private AI investment hit $109.1B in the U.S. in 2024, 12x China's investment, with $33.9B in generative AI investments globally. 78% of organizations reported AI usage in 2024, up from 55% in 2023.\n",
    "\"\"\"\n",
    "\n",
    "summary = news_summarizer_tool(news_content)\n",
    "summary"
   ]
  },
  {
   "cell_type": "code",
   "execution_count": 84,
   "metadata": {},
   "outputs": [
    {
     "data": {
      "text/plain": [
       "'The 2025 AI Index Report indicates rapid global AI expansion, with U.S. federal AI regulations doubling to 59 in 2024 and legislative references rising 21.3% across 75 countries. Major investments include Canada ($2.4B), China’s $47.5B semiconductor fund, France’s €109B, India ($1.25B), and Saudi Arabia. AI adoption soared in healthcare (223 FDA-approved AI medical devices in 2023) and transportation (Waymo’s 150,000+ weekly autonomous rides). U.S. private AI investment reached $109.1B in 2024—12 times China’s level—and global generative AI funding hit $33.9B. Meanwhile, 78% of organizations reported AI usage in 2024, up from 55% in 2023.'"
      ]
     },
     "execution_count": 84,
     "metadata": {},
     "output_type": "execute_result"
    }
   ],
   "source": [
    "summary.split(\"</think>\")[-1].strip()"
   ]
  },
  {
   "cell_type": "code",
   "execution_count": 85,
   "metadata": {},
   "outputs": [],
   "source": [
    "# TODO: Add to tools list and test with:\n",
    "tools=[search_tool, recommend_clothing, calculator_tool, news_summarizer_tool]\n",
    "tools_by_name={ tool.name:tool for tool in tools}"
   ]
  },
  {
   "cell_type": "code",
   "execution_count": 86,
   "metadata": {},
   "outputs": [
    {
     "data": {
      "text/plain": [
       "[StructuredTool(name='search_tool', description='Search the web for information using Tavily API.\\n\\n:param query: The search query string\\n:return: Search results related to the query', args_schema=<class 'langchain_core.utils.pydantic.search_tool'>, func=<function search_tool at 0x106f91bc0>),\n",
       " StructuredTool(name='recommend_clothing', description='Returns a clothing recommendation based on the provided weather description.\\n\\nThis function examines the input string for specific keywords or temperature indicators \\n(e.g., \"snow\", \"freezing\", \"rain\", \"85°F\") to suggest appropriate attire. It handles \\ncommon weather conditions like snow, rain, heat, and cold by providing simple and practical \\nclothing advice.\\n\\n:param weather: A brief description of the weather (e.g., \"Overcast, 64.9°F\")\\n:return: A string with clothing recommendations suitable for the weather', args_schema=<class 'langchain_core.utils.pydantic.recommend_clothing'>, func=<function recommend_clothing at 0x11a8a58a0>),\n",
       " StructuredTool(name='calculator_tool', description='Safely evaluate mathematical expressions.\\n\\n:param expression: A mathematical expression as a string (e.g., \"2 + 3 * 4\")\\n:return: The result of the calculation', args_schema=<class 'langchain_core.utils.pydantic.calculator_tool'>, func=<function calculator_tool at 0x12979fce0>),\n",
       " StructuredTool(name='news_summarizer_tool', description='Summarize news articles from search results.\\n\\n:param news_content: Raw news content or search results\\n:return: A formatted summary of the news', args_schema=<class 'langchain_core.utils.pydantic.news_summarizer_tool'>, func=<function news_summarizer_tool at 0x12b0b4c20>)]"
      ]
     },
     "execution_count": 86,
     "metadata": {},
     "output_type": "execute_result"
    }
   ],
   "source": [
    "tools"
   ]
  },
  {
   "cell_type": "code",
   "execution_count": 87,
   "metadata": {},
   "outputs": [],
   "source": [
    "model_react = chat_prompt | model.bind_tools(tools)"
   ]
  },
  {
   "cell_type": "code",
   "execution_count": 88,
   "metadata": {},
   "outputs": [],
   "source": [
    "# Define a new graph\n",
    "workflow = StateGraph(AgentState)\n",
    "\n",
    "# Define the two nodes we will cycle between\n",
    "workflow.add_node(\"agent\", call_model)\n",
    "workflow.add_node(\"tools\", tool_node)\n",
    "\n",
    "# Add edges between nodes\n",
    "workflow.add_edge(\"tools\", \"agent\")  # After tools, always go back to agent\n",
    "\n",
    "# Add conditional logic\n",
    "workflow.add_conditional_edges(\n",
    "    \"agent\",\n",
    "    should_continue,\n",
    "    {\n",
    "        \"continue\": \"tools\",  # If tools needed, go to tools node\n",
    "        \"end\": END,          # If done, end the conversation\n",
    "    },\n",
    ")\n",
    "\n",
    "# Set entry point\n",
    "workflow.set_entry_point(\"agent\")\n",
    "\n",
    "# Compile the graph\n",
    "graph = workflow.compile()"
   ]
  },
  {
   "cell_type": "markdown",
   "id": "9f642b84-8aa7-472e-93d0-d91b26da6fbf",
   "metadata": {},
   "source": [
    "## Testing Your Solutions\n",
    "\n",
    "For each exercise, test your implementation with these commands:\n"
   ]
  },
  {
   "cell_type": "code",
   "execution_count": 75,
   "id": "adf288e9-4343-42e0-8cd2-257c59c5fd1b",
   "metadata": {},
   "outputs": [
    {
     "name": "stdout",
     "output_type": "stream",
     "text": [
      "================================\u001b[1m Human Message \u001b[0m=================================\n",
      "\n",
      "Calculate 15% of 250 plus the square root of 144\n",
      "==================================\u001b[1m Ai Message \u001b[0m==================================\n",
      "Tool Calls:\n",
      "  calculator_tool (08p1689ea)\n",
      " Call ID: 08p1689ea\n",
      "  Args:\n",
      "    expression: 0.15 * 250 + 144 ** 0.5\n",
      "=================================\u001b[1m Tool Message \u001b[0m=================================\n",
      "Name: calculator_tool\n",
      "\n",
      "49.5\n",
      "==================================\u001b[1m Ai Message \u001b[0m==================================\n",
      "\n",
      "The calculation of 15% of 250 plus the square root of 144 is **49.5**.  \n",
      "\n",
      "### Breakdown:\n",
      "1. **15% of 250** = $ 0.15 \\times 250 = 37.5 $  \n",
      "2. **Square root of 144** = $ \\sqrt{144} = 12 $  \n",
      "3. **Total** = $ 37.5 + 12 = 49.5 $\n"
     ]
    }
   ],
   "source": [
    "# Exercise 1 Test\n",
    "inputs = {\"messages\": [HumanMessage(content=\"Calculate 15% of 250 plus the square root of 144\")]}\n",
    "print_stream(graph.stream(inputs, stream_mode=\"values\"))"
   ]
  },
  {
   "cell_type": "code",
   "execution_count": 89,
   "id": "520dc921-1ffb-42c5-846b-edd2614824d5",
   "metadata": {},
   "outputs": [
    {
     "name": "stdout",
     "output_type": "stream",
     "text": [
      "================================\u001b[1m Human Message \u001b[0m=================================\n",
      "\n",
      "Find recent AI news and summarize the top 3 articles\n",
      "==================================\u001b[1m Ai Message \u001b[0m==================================\n",
      "Tool Calls:\n",
      "  search_tool (mxk5j2eb5)\n",
      " Call ID: mxk5j2eb5\n",
      "  Args:\n",
      "    query: top 3 recent AI news articles 2023\n",
      "=================================\u001b[1m Tool Message \u001b[0m=================================\n",
      "Name: search_tool\n",
      "\n",
      "[{\"title\": \"China is starting to talk about AI superintelligence, and some in the ...\", \"url\": \"https://www.nbcnews.com/tech/tech-news/china-starting-talk-ai-superintelligence-us-are-taking-notice-rcna234675\", \"content\": \"The concept of superintelligence has long been on the minds of \\u2014 if not explicitly guiding \\u2014 prominent American AI companies. For example, OpenAI released an article focused on the safe development of superintelligent AI models in May 2023. \\u201cNow is a good time to start thinking about the governance of superintelligence \\u2014 future AI systems dramatically more capable than even AGI,\\u201d the statement said. [...] \\u201cASI will drive exponential technological leaps, carrying us into an unprecedented age of intelligence,\\u201d Wu said, highlighting ASI\\u2019s ability to help cure diseases, discover cleaner sources of energy and even unlock interstellar travel. [...] As the idea of superintelligence gradually enters mainstream debates, many American politicians have announced that the U.S. is in an AI race with China. The White House\\u2019s current AI manifesto is titled \\u201cWinning the AI Race: America\\u2019s AI Action Plan,\\u201d while Sen. Ted Cruz, R-Texas, proclaimed that \\u201cas a matter of economic security, as a matter of national security, America has to beat China in the AI race.\\u201d\", \"score\": 0.81979275}, {\"title\": \"AI News | Latest AI News, Analysis & Events\", \"url\": \"https://www.artificialintelligence-news.com/\", \"content\": \"Applications \\u00b7 Malaysia launches Ryt Bank, its first AI-powered bank \\u00b7 Finance AI ; Computer Vision \\u00b7 US and Japan announce sweeping AI and tech collaboration.\", \"score\": 0.6954834}, {\"title\": \"AI Magazine: Home of AI and Artificial Intelligence News\", \"url\": \"https://aimagazine.com/\", \"content\": \"Andris Gailitis built Delska by staying focused on infrastructure through 25 years of technology change\\u2026\\n\\n### Amy Bingham\\n\\n### CIO\\n\\n2023 was one of the most difficult years in Pekin Insurance\\u2019s history, but CIO Amy Bingham delivered record profits in 2024 by putting faith in technology\\u2026\\n\\n### Sandeep Pandey\\n\\n### Group Chief Technology and Operations Officer [...] ### AWS & FWD: Reinventing the future of digital insurance\\n\\n## AR & VR\\n\\n### ARtGlass: The World Leader in Wearable AR Experience\\n\\nWhere Innovation Meets Cultural Heritage through Immersive AR\\u2026\\n\\n### Apple\\u2019s Vision Pro Headset marks a New Era of AR Technology\\n\\n### Microsoft and Inworld AI partner to harness Generative AI\\n\\n## Data & Analytics\\n\\n### Bain & Co: AI Infrastructure Needs to Face $800bn Shortfall [...] ### How AI & Digital Twins are Shaping Sustainable Business\\n\\n### Microsoft: Buidling the World\\u2019s Most Powerful AI Data Centre\\n\\n### How Siemens Uses AI to Power the Future of Energy\\n\\n## AI Applications\\n\\n### What the AI Actor Tilly Norwood Means for the Future of Film\\n\\nTilly Norwood, an AI actor created by Xicoia, has been condemned by actors and SAG-AFTRA over concerns about job displacement and the future of filmmaking\\u2026\\n\\n### OutSystems' Agent Workbench Makes Customising AI Agents Easy\", \"score\": 0.5433243}, {\"title\": \"AI News & Artificial Intelligence\", \"url\": \"https://techcrunch.com/category/artificial-intelligence/\", \"content\": \"News coverage on artificial intelligence and machine learning tech, the companies building them, and the ethical issues AI raises today.\", \"score\": 0.40995342}, {\"title\": \"Artificial Intelligence - The New York ...\", \"url\": \"https://www.nytimes.com/spotlight/artificial-intelligence\", \"content\": \"Why A.I. Should Make Parents Rethink Posting Photos of Their Children Online\\u00b7 21 Ways People Are Using A.I. at Work \\u00b7 Chatbots Can Go Into a Delusional Spiral.\", \"score\": 0.3402007}]\n",
      "==================================\u001b[1m Ai Message \u001b[0m==================================\n",
      "Tool Calls:\n",
      "  news_summarizer_tool (0gjeqrr7j)\n",
      " Call ID: 0gjeqrr7j\n",
      "  Args:\n",
      "    news_content: [1] China is emphasizing AI superintelligence (ASI) and its potential to revolutionize technology, including curing diseases and interstellar travel. U.S. companies like OpenAI and policymakers are responding with safety protocols and a perceived 'AI race' with China. [2] Malaysia launches Ryt Bank, its first AI-powered bank, while the U.S. and Japan announce a broad tech collaboration. [3] AI Magazine highlights innovations like Microsoft's AI Data Centre, AI actors in film, and digital transformation in insurance.\n",
      "=================================\u001b[1m Tool Message \u001b[0m=================================\n",
      "Name: news_summarizer_tool\n",
      "\n",
      "\"<think>\\nOkay, let's start by looking at the three articles provided. \\n\\nThe first article is about China focusing on AI superintelligence (ASI) and its potential to revolutionize technology, specifically mentioning curing diseases and interstellar travel. The U.S. is responding with safety protocols and there's a perceived race between the two countries. I need to make sure to capture both China's initiative and the U.S. reaction here.\\n\\nThe second article mentions Malaysia launching Ryt Bank as its first AI-powered bank. Also, the U.S. and Japan are collaborating on a broad tech partnership. These are two separate points about AI in banking and international tech collaboration. I should note both of these developments.\\n\\nThe third article from AI Magazine talks about innovations like Microsoft's AI Data Centre, AI actors in films, and digital transformation in insurance. These are examples of AI applications across different sectors. I need to summarize these innovations concisely.\\n\\nNow, I need to combine all these points into a single paragraph without being too verbose. Start with China's focus on ASI and the U.S. response. Then mention Malaysia's Ryt Bank and the U.S.-Japan tech collaboration. Finally, list the AI innovations from the third article. Make sure each key point is included but the summary remains concise. Avoid using technical jargon and keep the language clear and informative. Also, check that the summary is in a single paragraph as requested.\\n</think>\\n\\nChina is focusing on developing artificial superintelligence (ASI) with goals like disease cures and interstellar travel, prompting U.S. AI firms and policymakers to accelerate safety measures and fueling a \\\"race\\\" for global AI leadership. Meanwhile, Malaysia inaugurated Ryt Bank, Asia's first AI-powered bank, and the U.S. and Japan announced a joint technology partnership. Innovations highlighted in AI Magazine include Microsoft\\u2019s AI Data Centre, AI-driven film roles (like \\\"AI actors\\\"), and digital transformation in the insurance industry, underscoring AI\\u2019s expanding impact across sectors.\"\n",
      "==================================\u001b[1m Ai Message \u001b[0m==================================\n",
      "\n",
      "Here's a concise summary of the top 3 recent AI news developments:  \n",
      "\n",
      "1. **China's ASI Focus & US AI Race**: China is advancing discussions on artificial superintelligence (ASI), envisioning breakthroughs in medicine and space exploration. The U.S. is countering with OpenAI's safety protocols for superintelligence and bipartisan concerns about maintaining AI leadership, as seen in policies like the \"Winning the AI Race\" action plan.  \n",
      "\n",
      "2. **Malaysia's AI-Powered Bank & US-Japan Collaboration**: Malaysia launched *Ryt Bank*, its first AI-driven financial institution. Separately, the U.S. and Japan announced a strategic tech partnership to accelerate AI innovation and global standards collaboration.  \n",
      "\n",
      "3. **AI Innovations in Industry**: Highlights include Microsoft's $100M AI Data Centre project, the controversial AI \"actor\" Tilly Norwood in film, and AI-driven digital transformations in insurance (e.g., Pekin Insurance's 2024 profit surge via AI integration).  \n",
      "\n",
      "These developments reflect AI's accelerating role in governance, finance, and cross-border tech partnerships.\n"
     ]
    }
   ],
   "source": [
    "# Exercise 2 Test  \n",
    "inputs = {\"messages\": [HumanMessage(content=\"Find recent AI news and summarize the top 3 articles\")]}\n",
    "print_stream(graph.stream(inputs, stream_mode=\"values\"))"
   ]
  },
  {
   "cell_type": "code",
   "execution_count": 90,
   "metadata": {},
   "outputs": [
    {
     "name": "stdout",
     "output_type": "stream",
     "text": [
      "('China is focusing on developing artificial superintelligence (ASI) with '\n",
      " 'goals like disease cures and interstellar travel, prompting U.S. AI firms '\n",
      " 'and policymakers to accelerate safety measures and fueling a \"race\" for '\n",
      " \"global AI leadership. Meanwhile, Malaysia inaugurated Ryt Bank, Asia's first \"\n",
      " 'AI-powered bank, and the U.S. and Japan announced a joint technology '\n",
      " 'partnership. Innovations highlighted in AI Magazine include Microsoft’s AI '\n",
      " 'Data Centre, AI-driven film roles (like \"AI actors\"), and digital '\n",
      " 'transformation in the insurance industry, underscoring AI’s expanding impact '\n",
      " 'across sectors.')\n"
     ]
    }
   ],
   "source": [
    "# check news summarizer output\n",
    "\n",
    "summary_output = \"\"\"\n",
    "\"<think>\\nOkay, let's start by looking at the three articles provided. \\n\\nThe first article is about China focusing on AI superintelligence (ASI) and its potential to revolutionize technology, specifically mentioning curing diseases and interstellar travel. The U.S. is responding with safety protocols and there's a perceived race between the two countries. I need to make sure to capture both China's initiative and the U.S. reaction here.\\n\\nThe second article mentions Malaysia launching Ryt Bank as its first AI-powered bank. Also, the U.S. and Japan are collaborating on a broad tech partnership. These are two separate points about AI in banking and international tech collaboration. I should note both of these developments.\\n\\nThe third article from AI Magazine talks about innovations like Microsoft's AI Data Centre, AI actors in films, and digital transformation in insurance. These are examples of AI applications across different sectors. I need to summarize these innovations concisely.\\n\\nNow, I need to combine all these points into a single paragraph without being too verbose. Start with China's focus on ASI and the U.S. response. Then mention Malaysia's Ryt Bank and the U.S.-Japan tech collaboration. Finally, list the AI innovations from the third article. Make sure each key point is included but the summary remains concise. Avoid using technical jargon and keep the language clear and informative. Also, check that the summary is in a single paragraph as requested.\\n</think>\\n\\nChina is focusing on developing artificial superintelligence (ASI) with goals like disease cures and interstellar travel, prompting U.S. AI firms and policymakers to accelerate safety measures and fueling a \\\"race\\\" for global AI leadership. Meanwhile, Malaysia inaugurated Ryt Bank, Asia's first AI-powered bank, and the U.S. and Japan announced a joint technology partnership. Innovations highlighted in AI Magazine include Microsoft\\u2019s AI Data Centre, AI-driven film roles (like \\\"AI actors\\\"), and digital transformation in the insurance industry, underscoring AI\\u2019s expanding impact across sectors.\n",
    "\"\"\"\n",
    "\n",
    "# summary_output.split(\"</think>\")[-1].strip()\n",
    "pprint(summary_output.split(\"</think>\")[-1].strip())"
   ]
  },
  {
   "cell_type": "code",
   "execution_count": null,
   "metadata": {},
   "outputs": [],
   "source": []
  }
 ],
 "metadata": {
  "kernelspec": {
   "display_name": "agents_experimental",
   "language": "python",
   "name": "python3"
  },
  "language_info": {
   "codemirror_mode": {
    "name": "ipython",
    "version": 3
   },
   "file_extension": ".py",
   "mimetype": "text/x-python",
   "name": "python",
   "nbconvert_exporter": "python",
   "pygments_lexer": "ipython3",
   "version": "3.12.11"
  },
  "prev_pub_hash": "8c934cd1f83b596adfcbc5587f1033178f6fdba432838b18df7d9d0e24b2f6c9"
 },
 "nbformat": 4,
 "nbformat_minor": 4
}
