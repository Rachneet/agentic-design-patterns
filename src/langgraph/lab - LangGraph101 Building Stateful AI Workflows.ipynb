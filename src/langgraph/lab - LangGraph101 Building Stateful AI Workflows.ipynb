{
 "cells": [
  {
   "cell_type": "markdown",
   "id": "b8e6319d-2e37-493b-b036-94dec790158e",
   "metadata": {},
   "source": [
    "# **LangGraph 101: Building Stateful AI Workflows**\n"
   ]
  },
  {
   "cell_type": "markdown",
   "id": "24755ecf-521d-4f71-8f7a-4f599871b994",
   "metadata": {},
   "source": [
    "Estimated time needed: **1** hour\n"
   ]
  },
  {
   "cell_type": "markdown",
   "id": "ba8f9eaa-a161-4b78-97df-d01bef7b1fea",
   "metadata": {},
   "source": [
    "In this lab, you'll learn to build intelligent AI agents using LangGraph, a powerful Python framework for creating state-based workflows. You'll start by understanding LangGraph's core components and how they work together to create structured, decision-making systems. You'll learn how to define tasks as nodes, connect them using a graph structure, and create agents that can reason, plan, and act based on inputs. Through hands-on examples, you'll build two practical applications: an authentication workflow that validates user credentials with proper error handling and a question-answering system that responds to queries about LangGraph itself. By the end of this lab, you'll be able to create your own AI agents that can process information, make decisions, and adapt to changing conditions using both linear and cyclical workflows.\n"
   ]
  },
  {
   "cell_type": "markdown",
   "id": "c07ef977-8ce4-425e-9f63-c175b0640d93",
   "metadata": {},
   "source": [
    "## __Table of Contents__\n",
    "\n",
    "<ol>\n",
    "    <li>\n",
    "        <a href=\"#What-is-LangGraph?\">What is LangGraph?</a>\n",
    "    <li>\n",
    "        <a href=\"#Why-LangGraph?\">Why LangGraph?</a>\n",
    "    </li>\n",
    "    <li>\n",
    "        <a href=\"#Setup\">Setup</a>\n",
    "        <ol>\n",
    "            <li><a href=\"#Installing-Required-Libraries\">Installing Required Libraries</a></li>\n",
    "            <li><a href=\"#Importing-Required-Libraries\">Importing Required Libraries</a></li>\n",
    "        </ol>\n",
    "    </li>\n",
    "     <li>\n",
    "        <a href=\"#Components-of-LangGraph\">Components of LangGraph</a>\n",
    "        <ol>\n",
    "            <li><a href=\"#1.-States\">States</a></li>\n",
    "            <li><a href=\"#2.-Nodes\">Nodes</a></li>\n",
    "            <li><a href=\"#3.-Edges\">Edges</a></li>\n",
    "            <li><a href=\"#4.-Conditional-Edges\">Conditional Edges</a></li>\n",
    "        </ol>\n",
    "    </li>\n",
    "    <li>\n",
    "        <a href=\"#Building-an-Authentication-Workflow\">Building an Authentication Workflow</a>\n",
    "        <ol>\n",
    "            <li><a href=\"#Setting-the-Entry-Point\">Setting the Entry Point</a></li>\n",
    "            <li><a href=\"#Compiling-the-Workflow\">Compiling the Workflow</a></li>\n",
    "            <li><a href=\"#Running-the-Application\">Running the Application</a></li>\n",
    "        </ol>\n",
    "    </li>\n",
    "    <li><a href=\"#Building-a-QA-Workflow-Specific-to-the-Guided-Project\">Building a QA Workflow Specific to the Guided Project</a>\n",
    "        <ol>\n",
    "            <li><a href=\"#Defining-the-State-for-the-QA-Workflow\">Defining the State for the QA Workflow</a></li>\n",
    "            <li><a href=\"#Defining-the-Input-Validation-Node\">Defining the Input Validation Node</a></li>\n",
    "            <li><a href=\"#Defining-the-Context-Provider\">Defining the Context Provider</a></li>\n",
    "            <li><a href=\"#Integrating-LLM-for-QA-Workflow\">Integrating LLM for QA Workflow</a></li>\n",
    "            <li><a href=\"#Creating-the-QA-Workflow-Graph\">Creating the QA Workflow Graph</a></li>\n",
    "        </ol>\n",
    "    </li>\n",
    "</ol>\n",
    "\n",
    "<a href=\"#Exercises\">Exercises</a>\n",
    "<ol>\n",
    "    <li><a href=\"#Exercise-1---Define-the-State-type\">Exercise 1: Define the State type</a></li>\n",
    "    <li><a href=\"#Exercise-2---Create-add()-node-Function\">Exercise 2: Create add() node Function</a></li>\n",
    "    <li><a href=\"#Exercise-3---Create-print_out()-node-Function\">Exercise 3: Create print_out() node Function</a></li>\n",
    "    <li><a href=\"#Exercise-4---Stop-Condition\">Exercise 4: Stop Condition</a></li>\n",
    "    <li><a href=\"#Exercise-5---Graph-Construction\">Exercise 5: Graph Construction</a></li>\n",
    "    <li><a href=\"#Exercise-6---Compile-and-Run\">Exercise 6: Compile and Run</a></li>\n",
    "</ol>\n"
   ]
  },
  {
   "cell_type": "markdown",
   "id": "62a6d27c-6898-422e-b198-369c89b0a80a",
   "metadata": {},
   "source": [
    "### What is LangGraph?  \n"
   ]
  },
  {
   "cell_type": "markdown",
   "id": "ab7ffdff-6371-4aa5-8d33-aa133f31af39",
   "metadata": {},
   "source": [
    "LangGraph is a powerful framework designed to help developers build intelligent AI agents that can think, plan, and act on your behalf. At its core, LangGraph allows you to break down complex tasks into smaller, manageable steps, organize these steps logically, and connect them like a roadmap using something called **graphs**. These graphs visually represent the flow of tasks, making it easy to see how each step is connected and in what order they should be executed.  \n",
    "\n",
    "Think of LangGraph as a toolkit for creating smart assistants. These assistants don’t just follow instructions—they understand what you want, figure out the best way to achieve it, and carry out the tasks automatically. By using LangGraph, you can design AI systems that are structured, adaptable, and capable of handling everything from simple workflows to complicated problem-solving tasks.\n"
   ]
  },
  {
   "cell_type": "markdown",
   "id": "8e368618-8abe-43ac-af2d-11e19e67b590",
   "metadata": {},
   "source": [
    "### Why LangGraph?  \n",
    "\n",
    "LangGraph offers unique advantages for building intelligent AI agents, especially when compared to frameworks such as LangChain. One of its standout features is the ability to create **cyclic graphs** in addition to Directed Acyclic Graphs (DAGs). Here's why that matters:  \n",
    "\n",
    "1. **Support for Cyclic Graphs:**  \n",
    "   Although tools such as LangChain are limited to DAGs—where tasks must follow a strict, linear flow without loops—LangGraph allows for **cyclic graphs**, where tasks can revisit earlier steps. This is crucial for workflows that require iterative processes, feedback loops, or retries.\n",
    "\n",
    "   For example:  \n",
    "   - An AI agent analyzing customer feedback might revisit earlier steps to refine its understanding based on new data.  \n",
    "   - A process for refining a document might loop through draft, review, and revise steps multiple times.\n",
    "\n",
    "3. **Enhanced Workflow Flexibility:**  \n",
    "   Cyclic graphs make LangGraph ideal for real-world scenarios where tasks don’t always follow a one-way path. It can handle dynamic workflows where agents need to adapt, reevaluate, or repeat steps as needed, providing greater flexibility.  \n",
    "\n",
    "4. **Powerful Iterative Processes:**  \n",
    "   By enabling loops, LangGraph supports processes such as optimization, data refinement, or real-time adjustments, ensuring the AI agent delivers more accurate and meaningful results.  \n",
    "\n",
    "5. **All-in-One Solution:**  \n",
    "   LangGraph doesn’t just manage tasks but also integrates the benefits of both DAGs (for structured flows) and cyclic graphs (for iterative workflows). This makes it a more versatile framework for designing intelligent, adaptable AI agents.  \n",
    "\n",
    "With LangGraph, you’re not constrained by one-way task flows. Its support for cyclic graphs allows you to model more complex, real-world problems with ease, making it a go-to choice for AI development.  \n"
   ]
  },
  {
   "cell_type": "markdown",
   "id": "895a25ce-5982-47ee-84ba-c6125c988316",
   "metadata": {},
   "source": [
    "----\n"
   ]
  },
  {
   "cell_type": "markdown",
   "id": "1c27c324-9f42-4771-904e-fc7e616c5961",
   "metadata": {},
   "source": [
    "## Setup\n"
   ]
  },
  {
   "cell_type": "markdown",
   "id": "f70399d3-d92b-4c0b-94da-71a57a456961",
   "metadata": {},
   "source": [
    "For this lab, we will be using the following libraries:\n",
    "\n",
    "*   [`langgraph==0.2.57`](https://pypi.org/project/langgraph/) — to build multi-step, stateful, and reactive AI workflows.\n",
    "*   [`langchain-ibm==0.3.10`](https://pypi.org/project/langchain-ibm/) — to integrate IBM services (such as Watsonx) with LangChain tools.\n"
   ]
  },
  {
   "cell_type": "markdown",
   "id": "581ab75a-9192-40dd-a06b-cdf96ff28259",
   "metadata": {},
   "source": [
    "### Installing Required Libraries\n"
   ]
  },
  {
   "cell_type": "markdown",
   "id": "2014a842-c860-458a-b65b-1d733a516aa5",
   "metadata": {},
   "source": [
    "The following required libraries are __not__ pre-installed in the Skills Network Labs environment. __You will need to run the following cell__ to install them:\n"
   ]
  },
  {
   "cell_type": "code",
   "execution_count": null,
   "id": "193ac84b-7de9-41f0-8b95-f964f82ec4a4",
   "metadata": {},
   "outputs": [],
   "source": [
    "# %pip install -q langgraph==0.2.57 "
   ]
  },
  {
   "cell_type": "markdown",
   "id": "c531ac05-dd22-4a26-a9e5-a2d5ec77dd8e",
   "metadata": {},
   "source": [
    "### Importing Required Libraries\n"
   ]
  },
  {
   "cell_type": "code",
   "execution_count": 1,
   "id": "57d05e80-55df-44db-b78f-023623d44ff4",
   "metadata": {},
   "outputs": [],
   "source": [
    "from langgraph.graph import StateGraph"
   ]
  },
  {
   "cell_type": "markdown",
   "id": "393b262d-da4c-46fd-99e7-823b069efd2b",
   "metadata": {},
   "source": [
    "### API Disclaimer\n",
    "This lab uses LLMs provided by Watsonx.ai and OpenAI. This environment has been configured to allow LLM use without API keys so you can prompt them for **free (with limitations)**. With that in mind, if you wish to run this notebook **locally outside** of Skills Network's JupyterLab environment, you will have to configure your own API keys. Please note that using your own API keys means that you will incur personal charges.\n",
    "### Running Locally\n",
    "If you are running this lab locally, you will need to configure your own API keys. This lab uses `ChatOpenAI` and `ChatWatsonx` modules from `langchain`. The following section shows both configurations with instructions. **Replace all instances** of both modules with the completed modules below throughout the lab. \n",
    "\n",
    "<p style='color: red'><b>DO NOT run the following cell if you aren't running locally, it will cause errors.</b>\n",
    "    \n"
   ]
  },
  {
   "cell_type": "code",
   "execution_count": 3,
   "metadata": {},
   "outputs": [],
   "source": [
    "from dotenv import load_dotenv\n",
    "import os\n",
    "\n",
    "load_dotenv()\n",
    "\n",
    "groq_api_key = os.getenv(\"GROQ_API_KEY\")  # Ensure your Groq API key is set # type: ignore\n",
    "if groq_api_key is None:\n",
    "    raise ValueError(\"GROQ_API_KEY environment variable is not set.\")"
   ]
  },
  {
   "cell_type": "code",
   "execution_count": 105,
   "id": "4e592ad4-1965-4b31-867c-33d5368442aa",
   "metadata": {},
   "outputs": [],
   "source": [
    "# IGNORE IF YOU ARE NOT RUNNING LOCALLY\n",
    "from langchain_openai import ChatOpenAI\n",
    "\n",
    "\n",
    "groq_llm = ChatOpenAI(\n",
    "    model=\"llama-3.3-70b-versatile\",  # or another model of your choice\n",
    "    base_url=\"https://api.groq.com/openai/v1\",\n",
    "    api_key = groq_api_key,\n",
    ")"
   ]
  },
  {
   "cell_type": "markdown",
   "id": "541e4edc-8eae-4764-85f5-cf183472a1d0",
   "metadata": {},
   "source": [
    "## Components of LangGraph  \n",
    "\n",
    "LangGraph’s strength lies in its structured and intuitive design, composed of essential building blocks that enable the creation of intelligent AI agents, with default stages denoting start and end of workflow.\n"
   ]
  },
  {
   "cell_type": "markdown",
   "id": "e9b4545c-22a9-48a8-8546-87c8048c0fb4",
   "metadata": {},
   "source": [
    "In this example, we are defining a state structure for a **user authentication workflow**. The state, called `AuthState`, is a typed dictionary that holds information about a user's credentials (username and password) and their authentication status (`is_authenticated`) as shown here: \n"
   ]
  },
  {
   "cell_type": "markdown",
   "id": "ae1ca7c2-fc1c-4181-ba90-4cdfed26d27d",
   "metadata": {},
   "source": [
    "<div style=\"text-align: center;\">\n",
    "    <img src=\"https://cf-courses-data.s3.us.cloud-object-storage.appdomain.cloud/dhl478pwbZzrxzmcjJY4xw/Screenshot%202024-12-20%20at%204-19-46%E2%80%AFPM.png\" alt=\"Screenshot\" width=\"300\">\n",
    "</div>\n"
   ]
  },
  {
   "cell_type": "markdown",
   "id": "757c0977-53b0-44e1-b0cf-a0bf3f212df0",
   "metadata": {},
   "source": [
    "### **1. States**  \n",
    "States represent the **current condition or context** within a workflow. They store and manage information as the agent progresses from one node to the next. \n",
    "\n",
    "For instance:  \n",
    "- A state might capture user input, store the results of a database query, or reflect the status of an ongoing process.  \n",
    "\n",
    "States ensure the AI agent has access to relevant information at the right time, enabling dynamic and context-aware behavior.\n",
    "\n",
    "#### Example: Class Description - `AuthState`  \n",
    "Using `from typing import TypedDict, Optional`, the `AuthState` class is defined as a `TypedDict` that specifies the structure of a dictionary representing a user's authentication state. Each key has a specific type, and all fields are optional (`Optional`), meaning they can either hold a value of the specified type or be `None`.\n",
    "\n",
    "#### State Keys and Types:\n",
    "- **`username`**: `Optional[str]` - The user's username; it can be a string or `None`.\n",
    "- **`password`**: `Optional[str]` - The user's password; it can be a string or `None`.\n",
    "- **`is_authenticated`**: `Optional[bool]` - Indicates whether the user is authenticated; it can be a boolean or `None`.\n",
    "- **`output`**: `Optional[str]` - A message or result related to authentication; it can be a string or `None`.\n",
    "\n",
    "This structure ensures that the authentication state is consistently defined and type-safe, while also accommodating scenarios where some fields may be unavailable or unused.\n"
   ]
  },
  {
   "cell_type": "code",
   "execution_count": 6,
   "id": "cd789257-3086-4e81-bafa-20a8b21f0852",
   "metadata": {},
   "outputs": [],
   "source": [
    "from typing import TypedDict, Optional\n",
    "\n",
    "class AuthState(TypedDict):\n",
    "    username: Optional[str] \n",
    "    password: Optional[str]\n",
    "    is_authenticated: Optional[bool]\n",
    "    output: Optional[str]"
   ]
  },
  {
   "cell_type": "markdown",
   "id": "fc402904-2590-4493-837b-1964ec382db2",
   "metadata": {},
   "source": [
    "### **Example Objects and Their States**\n",
    "\n",
    "#### **Object 1: Successful Login**\n",
    "Here is an example of the  ```AuthState ``` object  with a successful login:\n"
   ]
  },
  {
   "cell_type": "code",
   "execution_count": 7,
   "id": "43c9baca-4a76-4b88-a7ba-e7cc05edbb34",
   "metadata": {},
   "outputs": [
    {
     "name": "stdout",
     "output_type": "stream",
     "text": [
      "auth_state_1: {'username': 'alice123', 'password': '123', 'is_authenticated': True, 'output': 'Login successful.'}\n"
     ]
    }
   ],
   "source": [
    "auth_state_1: AuthState = {\n",
    "    \"username\": \"alice123\",\n",
    "    \"password\": \"123\",\n",
    "    \"is_authenticated\": True,\n",
    "    \"output\": \"Login successful.\"\n",
    "}\n",
    "print(f\"auth_state_1: {auth_state_1}\")"
   ]
  },
  {
   "cell_type": "markdown",
   "id": "51e11e57-b86b-4721-8d48-98b2ff5ccba2",
   "metadata": {},
   "source": [
    "#### Object 2: Unsuccessful Login\n",
    "Here is an example of the  ```AuthState ``` object with an unsuccessful login:\n"
   ]
  },
  {
   "cell_type": "code",
   "execution_count": 8,
   "id": "b8440f4e-57be-42f1-b4bd-453805910abb",
   "metadata": {},
   "outputs": [
    {
     "name": "stdout",
     "output_type": "stream",
     "text": [
      "auth_state_2: {'username': '', 'password': 'wrongpassword', 'is_authenticated': False, 'output': 'Authentication failed. Please try again.'}\n"
     ]
    }
   ],
   "source": [
    "auth_state_2: AuthState = {\n",
    "    \"username\":\"\",\n",
    "    \"password\": \"wrongpassword\",\n",
    "    \"is_authenticated\": False,\n",
    "    \"output\": \"Authentication failed. Please try again.\"\n",
    "}\n",
    "print(f\"auth_state_2: {auth_state_2}\")"
   ]
  },
  {
   "cell_type": "markdown",
   "id": "0eb124bb-48fb-4fad-aeba-3edbc569acfd",
   "metadata": {},
   "source": [
    "This state serves as the backbone for workflows involving user authentication. It will be passed between nodes in a graph to validate the credentials and update the `is_authenticated` field accordingly.\n"
   ]
  },
  {
   "cell_type": "markdown",
   "id": "92f9d5b7-59e2-46b6-a800-697942888f4a",
   "metadata": {},
   "source": [
    "### **2. Nodes**  \n",
    "Nodes are the **core units of action** in LangGraph. Each node represents a specific task or operation that the AI agent needs to perform. \n",
    "\n",
    "For example:  \n",
    "- A node could fetch data from an API, process information, or generate a response.  \n",
    "\n",
    "Nodes can vary in complexity, from simple calculations to executing intricate workflows, and they form the foundation of any graph in LangGraph.  \n"
   ]
  },
  {
   "cell_type": "markdown",
   "id": "36d5be26-ff3b-4a73-9603-ae8ed53a50e9",
   "metadata": {},
   "source": [
    "#### Defining the Input Node\n",
    "\n",
    "<div style=\"text-align: center;\">\n",
    "    <img src=\"https://cf-courses-data.s3.us.cloud-object-storage.appdomain.cloud/QPsWYzaKkacLUn8V1SbyWA/Screenshot%202024-12-20%20at%204-19-46%E2%80%AFPM%20copy-mh.png\" alt=\"Screenshot\" width=\"300\">\n",
    "</div>\n",
    "\n",
    "\n",
    "Now we define the `input_node`, which collects the user's username and password if they are not already provided in the state. This node ensures that the state is populated with the necessary input for authentication.\n",
    "\n",
    "This node is usually the starting point in the graph, ensuring that the required input data is gathered before proceeding to the authentication step.\n"
   ]
  },
  {
   "cell_type": "code",
   "execution_count": 9,
   "id": "e446a6e0-06af-4ce0-8341-c31fe980b431",
   "metadata": {},
   "outputs": [],
   "source": [
    "def input_node(state: AuthState) -> dict:\n",
    "    print(state)\n",
    "    if state.get('username', \"\") ==\"\":\n",
    "        state['username'] = input(\"What is your username?\")\n",
    "\n",
    "    password = input(\"Enter your password: \")\n",
    "\n",
    "    return {\"password\":password}"
   ]
  },
  {
   "cell_type": "markdown",
   "id": "5d9eabe3-72ad-4ba4-9149-8f1cd44c2b94",
   "metadata": {},
   "source": [
    "We pass in the first object with all the fields, and ```input_node``` prompts us for the password:\n"
   ]
  },
  {
   "cell_type": "code",
   "execution_count": 10,
   "id": "5dcbe068-f4c0-4319-825e-947f122a0b4f",
   "metadata": {},
   "outputs": [
    {
     "name": "stdout",
     "output_type": "stream",
     "text": [
      "{'username': 'alice123', 'password': '123', 'is_authenticated': True, 'output': 'Login successful.'}\n"
     ]
    },
    {
     "data": {
      "text/plain": [
       "{'password': 'pass123'}"
      ]
     },
     "execution_count": 10,
     "metadata": {},
     "output_type": "execute_result"
    }
   ],
   "source": [
    "input_node(auth_state_1)"
   ]
  },
  {
   "cell_type": "code",
   "execution_count": 11,
   "id": "d791ee00-5928-4416-9a53-eeefc1195a60",
   "metadata": {},
   "outputs": [
    {
     "name": "stdout",
     "output_type": "stream",
     "text": [
      "{'username': '', 'password': 'wrongpassword', 'is_authenticated': False, 'output': 'Authentication failed. Please try again.'}\n"
     ]
    },
    {
     "data": {
      "text/plain": [
       "{'password': 'pass123'}"
      ]
     },
     "execution_count": 11,
     "metadata": {},
     "output_type": "execute_result"
    }
   ],
   "source": [
    "input_node(auth_state_2)"
   ]
  },
  {
   "cell_type": "markdown",
   "id": "8c7d29db-383e-40bc-9c55-66ed9736b805",
   "metadata": {},
   "source": [
    "In this example, since there is no username provided, the function prompts us to enter one.\n"
   ]
  },
  {
   "cell_type": "markdown",
   "id": "018368f0-db10-4051-94d3-1c5e6f73258a",
   "metadata": {},
   "source": [
    "### Defining the Validate Credentials Node  \n",
    "\n",
    "<div style=\"text-align: center;\">\n",
    "    <img src=\"https://cf-courses-data.s3.us.cloud-object-storage.appdomain.cloud/OI9x1j0MXYtlsjdGGPemqA/Screenshot%202024-12-20%20at%204-19-46%E2%80%AFPM%20copy-mh%20-1-.png\" alt=\"Screenshot\" width=\"300\">\n",
    "</div>\n",
    "\n",
    "\n",
    "The node is a fundamental building block of a graph that encapsulates a unit of computation or functionality. It represents a single step in a workflow or process, typically taking input, performing an action, and providing output. Each node is connected to others to define the flow of logic or data.\n",
    "\n",
    "For your example, the ```validate_credentials_node``` would function as a node in Langraph, performing the task of validating user credentials. \n",
    "\n",
    "The `validate_credentials_node` takes the current state as input and is responsible for checking the user's credentials (username and password) provided in the state. Based on the validation, it updates the state with an `is_authenticated` value, indicating whether the authentication was successful or not. This node ensures that the validation result is added to the state, allowing the graph to determine the next step in the workflow based on whether the authentication was successful.\n"
   ]
  },
  {
   "cell_type": "code",
   "execution_count": 12,
   "id": "620de228-537c-48fd-a045-afbd768b4d9f",
   "metadata": {},
   "outputs": [],
   "source": [
    "def validate_credentials_node(state: AuthState) -> dict:\n",
    "    # Extract username and password from the state\n",
    "    username = state.get(\"username\", \"\")\n",
    "    password = state.get(\"password\", \"\")\n",
    "\n",
    "    print(\"Username :\", username, \"Password :\", password)\n",
    "    # Simulated credential validation\n",
    "    if username == \"test_user\" and password == \"secure_password\":\n",
    "        is_authenticated = True\n",
    "    else:\n",
    "        is_authenticated = False\n",
    "\n",
    "    # Return the updated state with authentication result\n",
    "    return {\"is_authenticated\": is_authenticated}"
   ]
  },
  {
   "cell_type": "markdown",
   "id": "fb2c2565-aad0-423e-b37a-e48fbbc5b303",
   "metadata": {},
   "source": [
    "\n",
    "We can apply ```validate_credentials_node``` to two objects: one with an incorrect format and another with a correct format, to test its functionality.\n",
    "### Incorrect Format\n"
   ]
  },
  {
   "cell_type": "code",
   "execution_count": 13,
   "id": "922ec2a8-9609-41fd-bbe7-6fe9819ae382",
   "metadata": {},
   "outputs": [
    {
     "name": "stdout",
     "output_type": "stream",
     "text": [
      "Username : alice123 Password : 123\n"
     ]
    },
    {
     "data": {
      "text/plain": [
       "{'is_authenticated': False}"
      ]
     },
     "execution_count": 13,
     "metadata": {},
     "output_type": "execute_result"
    }
   ],
   "source": [
    "validate_credentials_node(auth_state_1)"
   ]
  },
  {
   "cell_type": "markdown",
   "id": "d79ebb7c-c4d0-4c46-8805-5ce75c12a3b7",
   "metadata": {},
   "source": [
    "### Correct Format\n"
   ]
  },
  {
   "cell_type": "code",
   "execution_count": 14,
   "id": "dbc67404-b65a-496a-8863-801304c6f831",
   "metadata": {},
   "outputs": [
    {
     "name": "stdout",
     "output_type": "stream",
     "text": [
      "auth_state_3: {'username': 'test_user', 'password': 'secure_password', 'is_authenticated': False, 'output': 'Authentication failed. Please try again.'}\n"
     ]
    }
   ],
   "source": [
    "auth_state_3: AuthState = {\n",
    "    \"username\":\"test_user\",\n",
    "    \"password\":  \"secure_password\",\n",
    "    \"is_authenticated\": False,\n",
    "    \"output\": \"Authentication failed. Please try again.\"\n",
    "}\n",
    "print(f\"auth_state_3: {auth_state_3}\")"
   ]
  },
  {
   "cell_type": "code",
   "execution_count": 15,
   "id": "27ee3daf-0543-4100-bec0-036c9ad2b19d",
   "metadata": {},
   "outputs": [
    {
     "name": "stdout",
     "output_type": "stream",
     "text": [
      "Username : test_user Password : secure_password\n"
     ]
    },
    {
     "data": {
      "text/plain": [
       "{'is_authenticated': True}"
      ]
     },
     "execution_count": 15,
     "metadata": {},
     "output_type": "execute_result"
    }
   ],
   "source": [
    "validate_credentials_node(auth_state_3)"
   ]
  },
  {
   "cell_type": "markdown",
   "id": "3eada36f-ac16-4a10-9dd4-3935440e0cdb",
   "metadata": {},
   "source": [
    "#### Defining the Success Node  \n",
    "\n",
    "<div style=\"text-align: center;\">\n",
    "    <img src=\"https://cf-courses-data.s3.us.cloud-object-storage.appdomain.cloud/PwwDttqbSAwfrYvOQP2X-A/Screenshot%202024-12-20%20at%204-19-46%E2%80%AFPM%20copy-mh%20-2-.png\" alt=\"Screenshot\" width=\"300\">\n",
    "</div>\n",
    "\n",
    "\n",
    "The `success_node` takes the current state as input and is triggered when the authentication process is successful. It returns a success message to indicate that the user has been authenticated.\n"
   ]
  },
  {
   "cell_type": "code",
   "execution_count": 16,
   "id": "0d47398a-cd3e-45af-9611-6ff2b665f36d",
   "metadata": {},
   "outputs": [],
   "source": [
    "# Define the success node\n",
    "def success_node(state: AuthState) -> dict:\n",
    "    return {\"output\": \"Authentication successful! Welcome.\"}"
   ]
  },
  {
   "cell_type": "code",
   "execution_count": 17,
   "id": "50b4d4be-1e98-460e-ab43-1f3ba1291f04",
   "metadata": {},
   "outputs": [
    {
     "data": {
      "text/plain": [
       "{'output': 'Authentication successful! Welcome.'}"
      ]
     },
     "execution_count": 17,
     "metadata": {},
     "output_type": "execute_result"
    }
   ],
   "source": [
    "success_node(auth_state_3)"
   ]
  },
  {
   "cell_type": "markdown",
   "id": "70560443-a0e0-40ef-990c-d5846358c297",
   "metadata": {},
   "source": [
    "This node is connected in the graph to handle the flow when the user's credentials are validated successfully. It provides a positive outcome for the workflow.\n"
   ]
  },
  {
   "cell_type": "markdown",
   "id": "2466e49c-3f90-496e-bb83-5759bab4be5a",
   "metadata": {},
   "source": [
    "#### Defining the Failure Node \n",
    "\n",
    "<div style=\"text-align: center;\">\n",
    "    <img src=\"https://cf-courses-data.s3.us.cloud-object-storage.appdomain.cloud/69hJU9b_hk_UNARWJW6IEw/Screenshot%202024-12-20%20at%204-19-46%E2%80%AFPM%20copy-mh%20-3-.png\" alt=\"Screenshot\" width=\"300\">\n",
    "</div>\n",
    "\n",
    "\n",
    "The `failure_node` takes the current state as input and is triggered when the authentication process fails. It returns an output indicating the failure to authenticate.\n",
    "\n"
   ]
  },
  {
   "cell_type": "code",
   "execution_count": 18,
   "id": "de378b0e-5c8e-4937-b65d-ff4bcaf3a2c0",
   "metadata": {},
   "outputs": [],
   "source": [
    "# Define the failure node\n",
    "def failure_node(state: AuthState) -> dict:\n",
    "    return {\"output\": \"Not Successful, please try again!\"}"
   ]
  },
  {
   "cell_type": "markdown",
   "id": "31787da0-0bef-4ad5-b558-716dab262a1a",
   "metadata": {},
   "source": [
    "This node is connected in the graph to handle the flow when the user's credentials do not pass validation, providing feedback for the failed authentication attempt.\n"
   ]
  },
  {
   "cell_type": "markdown",
   "id": "5b49d27b-aa89-4ddb-a32c-0965a4a3afce",
   "metadata": {},
   "source": [
    "#### Defining the Router Node  \n",
    "\n",
    "<div style=\"text-align: center;\">\n",
    "    <img src=\"https://cf-courses-data.s3.us.cloud-object-storage.appdomain.cloud/FpW7oG5oTxIPsaOqpxT7ow/Screenshot%202024-12-20%20at%204-19-46%E2%80%AFPM%20copy-mh%20-4-.png\" alt=\"Screenshot\" width=\"300\">\n",
    "</div>\n",
    "\n",
    "\n",
    "The `router` node acts as a decision-making point in the workflow. It takes the current state as input and determines the next node to execute based on the `is_authenticated` value in the state.\n"
   ]
  },
  {
   "cell_type": "code",
   "execution_count": 19,
   "id": "bd155764-3ac3-4470-b808-9d795eabe2e9",
   "metadata": {},
   "outputs": [],
   "source": [
    "def router(state: AuthState) -> str:\n",
    "    if state['is_authenticated']:\n",
    "        return \"success_node\"\n",
    "    else:\n",
    "        return \"failure_node\""
   ]
  },
  {
   "cell_type": "markdown",
   "id": "08d56a36-2ef1-4b4e-a6a4-279ed0ad9d90",
   "metadata": {},
   "source": [
    "This node ensures that the graph transitions to the appropriate node—either the success or failure node—based on whether the authentication was successful. It is an essential part of managing conditional logic in the workflow.\n"
   ]
  },
  {
   "cell_type": "markdown",
   "id": "655ba964-02d0-4978-bedb-f7fa7fda5af6",
   "metadata": {},
   "source": [
    "#### Creating the Graph  \n",
    "\n",
    "To begin building the workflow, we need to create a graph that will serve as the foundation for connecting nodes and defining the application's logic. We create a new instance of `StateGraph` using our `AuthState` structure, which acts as a blueprint for the application's state. This graph will manage the flow of execution between nodes, ensuring a seamless and organized workflow.\n"
   ]
  },
  {
   "cell_type": "code",
   "execution_count": 20,
   "id": "bccd3ec2-ca67-42af-aa3e-e60cb38bd305",
   "metadata": {},
   "outputs": [
    {
     "data": {
      "text/plain": [
       "<langgraph.graph.state.StateGraph at 0x10bf285c0>"
      ]
     },
     "execution_count": 20,
     "metadata": {},
     "output_type": "execute_result"
    }
   ],
   "source": [
    "from langgraph.graph import StateGraph\n",
    "from langgraph.graph import START, END\n",
    "\n",
    "# Create an instance of StateGraph with the GraphState structure\n",
    "workflow = StateGraph(AuthState)\n",
    "workflow"
   ]
  },
  {
   "cell_type": "markdown",
   "id": "06c9a1ca-257a-468a-9e63-4b23d6cd4a01",
   "metadata": {},
   "source": [
    "#### Adding Nodes to the Graph  \n",
    "\n",
    "Now, we add nodes to the graph to define the tasks and logic of the workflow. Nodes are added using the `add_node` method, which takes two arguments:  \n",
    "\n",
    "1. **Node Name**: A unique string identifier for the node.  \n",
    "2. **Node Function**: The function that will execute the logic for this node.  \n"
   ]
  },
  {
   "cell_type": "markdown",
   "id": "234a183a-03bf-450d-89f5-dff82bd25f81",
   "metadata": {},
   "source": [
    "To gather user input for authentication, we add the `input_node` to the graph using the `add_node` method. This node prompts the user to enter their username and password if they are not already present in the state.\n",
    "\n",
    "- `\"InputNode\"`: This is the unique identifier for the input node.  \n",
    "- `input_node`: The function that collects the username and password from the user and updates the state accordingly.  \n",
    "\n"
   ]
  },
  {
   "cell_type": "code",
   "execution_count": 21,
   "id": "bdcf7387-7997-485d-ad6d-27beacb3d8b8",
   "metadata": {},
   "outputs": [
    {
     "data": {
      "text/plain": [
       "<langgraph.graph.state.StateGraph at 0x10bf285c0>"
      ]
     },
     "execution_count": 21,
     "metadata": {},
     "output_type": "execute_result"
    }
   ],
   "source": [
    "workflow.add_node(\"InputNode\", input_node)"
   ]
  },
  {
   "cell_type": "markdown",
   "id": "65a47fe8-3a8a-40cc-8f34-dc7dcec505d7",
   "metadata": {},
   "source": [
    "\n",
    "To handle the authentication logic, we add the `validate_credentials_node` to the graph using the `add_node` method. This node validates the username and password provided by the user and updates the state with the authentication result.\n"
   ]
  },
  {
   "cell_type": "code",
   "execution_count": 22,
   "id": "92ed3b22-eb8d-418f-8a49-32b141fb4d7b",
   "metadata": {},
   "outputs": [
    {
     "data": {
      "text/plain": [
       "<langgraph.graph.state.StateGraph at 0x10bf285c0>"
      ]
     },
     "execution_count": 22,
     "metadata": {},
     "output_type": "execute_result"
    }
   ],
   "source": [
    "workflow.add_node(\"ValidateCredential\", validate_credentials_node)"
   ]
  },
  {
   "cell_type": "markdown",
   "id": "20d6bfaf-5202-41c3-bdf5-060d84b2343b",
   "metadata": {},
   "source": [
    "\n",
    "Now, we add the `success_node` to the graph using the `add_node` method. This node will be triggered if the credentials are validated successfully, and it will return a success message.\n",
    "\n"
   ]
  },
  {
   "cell_type": "code",
   "execution_count": 23,
   "id": "b6c3bb0d-3786-4071-8548-fc2eb6c96503",
   "metadata": {},
   "outputs": [
    {
     "data": {
      "text/plain": [
       "<langgraph.graph.state.StateGraph at 0x10bf285c0>"
      ]
     },
     "execution_count": 23,
     "metadata": {},
     "output_type": "execute_result"
    }
   ],
   "source": [
    "workflow.add_node(\"Success\", success_node)"
   ]
  },
  {
   "cell_type": "markdown",
   "id": "1ababea6-e25c-4c21-bc62-6aaa4496d0b9",
   "metadata": {},
   "source": [
    "\n",
    "Next, we add the `failure_node` to the graph using the `add_node` method. This node will be triggered if the credentials are invalid, returning a failure message.\n",
    "\n",
    "\n"
   ]
  },
  {
   "cell_type": "code",
   "execution_count": 24,
   "id": "9165903f-a4d6-4f69-9221-ef42c6804832",
   "metadata": {},
   "outputs": [
    {
     "data": {
      "text/plain": [
       "<langgraph.graph.state.StateGraph at 0x10bf285c0>"
      ]
     },
     "execution_count": 24,
     "metadata": {},
     "output_type": "execute_result"
    }
   ],
   "source": [
    "workflow.add_node(\"Failure\", failure_node)"
   ]
  },
  {
   "cell_type": "markdown",
   "id": "aedc8815-019b-45fe-a275-d0f793d14388",
   "metadata": {},
   "source": [
    "### **3. Edges**  \n",
    "\n",
    "Edges define the **connections between nodes** and represent the flow of execution within the graph. They dictate how the AI agent transitions from one task to another based on predefined logic or conditions. In the authentication workflow, edges guide the application flow, determining the path taken based on the results of each node's execution.\n",
    "\n",
    "#### **Authentication Use Case Example**  \n",
    "- **Input Node**: The edge flows from this node to the **Validate Credentials Node**, where the user input (username and password) is validated.  \n",
    "- **Failure Node**: If authentication fails, the flow moves back to the **Input Node** to prompt the user to re-enter their credentials.\n",
    "- **Success Node**: If authentication succeeds, the flow ends after providing a success message, indicating the successful completion of the authentication process.\n"
   ]
  },
  {
   "cell_type": "markdown",
   "id": "665b4c3b-6da7-44e6-a2af-e431a9337869",
   "metadata": {},
   "source": [
    "#### Adding the Edge Between InputNode and ValidateCredential Node  \n",
    "\n",
    "<div style=\"text-align: center;\">\n",
    "    <img src=\"https://cf-courses-data.s3.us.cloud-object-storage.appdomain.cloud/2M4XoL8bc2Em8o_0T9XQbg/Screenshot%202024-12-20%20at%204-19-46%E2%80%AFPM%20copy-mh%20-5-.png\" alt=\"Screenshot\" width=\"300\">\n",
    "</div>\n",
    "\n",
    "\n",
    "To establish the connection between the `InputNode` and the `ValidateCredential` node, we use the `add_edge` method. This edge represents the flow from the user input phase to the credential validation phase, ensuring that once the user enters their details, the next step is to validate them.\n",
    "\n"
   ]
  },
  {
   "cell_type": "code",
   "execution_count": 25,
   "id": "cb11c961-946d-4121-bd5b-46ea3df0f3f4",
   "metadata": {},
   "outputs": [
    {
     "data": {
      "text/plain": [
       "<langgraph.graph.state.StateGraph at 0x10bf285c0>"
      ]
     },
     "execution_count": 25,
     "metadata": {},
     "output_type": "execute_result"
    }
   ],
   "source": [
    "workflow.add_edge(\"InputNode\", \"ValidateCredential\")"
   ]
  },
  {
   "cell_type": "markdown",
   "id": "361897dc-5ec1-4c5e-bf16-8470d96623fc",
   "metadata": {},
   "source": [
    "\n",
    "`add_edge(start, end)`: This method creates a directed edge between two nodes, defining the flow of execution from one node to another.\n",
    "  - **`start`**: The node from which the flow begins. In this case, it's `\"InputNode\"`, where the user provides their credentials.\n",
    "  - **`end`**: The node to which the flow leads. Here, it's `\"ValidateCredential\"`, where the credentials entered by the user are validated.\n",
    "\n"
   ]
  },
  {
   "cell_type": "markdown",
   "id": "9c9e1850-2a9c-4ba2-b232-19ca5e328a09",
   "metadata": {},
   "source": [
    "#### Adding the Edge Between Success Node and END  \n",
    "\n",
    "<div style=\"text-align: center;\">\n",
    "    <img src=\"https://cf-courses-data.s3.us.cloud-object-storage.appdomain.cloud/8yOLvWWbyVbO8jdmSyEZGg/Screenshot%202024-12-20%20at%204-19-46%E2%80%AFPM%20copy-mh%20-6-.png\" alt=\"Screenshot\" width=\"300\">\n",
    "</div>\n",
    "\n",
    "\n",
    "To define the flow of the application after successful authentication, we create an edge between the **Success Node** and the **END** node. This edge signifies the conclusion of the authentication process, marking the successful completion of the task.\n"
   ]
  },
  {
   "cell_type": "code",
   "execution_count": 26,
   "id": "0011eb06-00dc-4681-83c4-2709a0003f74",
   "metadata": {},
   "outputs": [
    {
     "data": {
      "text/plain": [
       "<langgraph.graph.state.StateGraph at 0x10bf285c0>"
      ]
     },
     "execution_count": 26,
     "metadata": {},
     "output_type": "execute_result"
    }
   ],
   "source": [
    "workflow.add_edge(\"Success\", END)"
   ]
  },
  {
   "cell_type": "markdown",
   "id": "83b8a257-026a-468b-9608-ab2bb8aad3cd",
   "metadata": {},
   "source": [
    "#### Adding the Edge Between Failure Node and InputNode  \n",
    "\n",
    "<div style=\"text-align: center;\">\n",
    "    <img src=\"https://cf-courses-data.s3.us.cloud-object-storage.appdomain.cloud/zixPBpM-2GP1I0_X4wCloA/Screenshot%202024-12-20%20at%204-19-46%E2%80%AFPM%20copy-mh%20-7-.png\" alt=\"Screenshot\" width=\"300\">\n",
    "</div>\n",
    "\n",
    "\n",
    "In the case where the authentication fails, we want to allow the user to re-enter their credentials. To enable this flow, we create an edge between the **Failure Node** and the **InputNode**. This edge represents the transition back to the input phase so the user can attempt to authenticate again.\n"
   ]
  },
  {
   "cell_type": "code",
   "execution_count": 27,
   "id": "6c06ff4a-a5d6-488a-9e9a-6cce98037b23",
   "metadata": {},
   "outputs": [
    {
     "data": {
      "text/plain": [
       "<langgraph.graph.state.StateGraph at 0x10bf285c0>"
      ]
     },
     "execution_count": 27,
     "metadata": {},
     "output_type": "execute_result"
    }
   ],
   "source": [
    "workflow.add_edge(\"Failure\", \"InputNode\")"
   ]
  },
  {
   "cell_type": "markdown",
   "id": "9763b2d7-21d6-4dd2-9aae-95c2574e1c3e",
   "metadata": {},
   "source": [
    "### **4. Conditional Edges**  \n",
    "\n",
    "Conditional edges enable **decision-making** by allowing transitions between nodes based on specific conditions within the state. These edges define the flow of execution based on outcomes such as user input, validation results, or any other predefined logic. By using conditional edges, the AI agent can dynamically choose its path based on the results of previous tasks.  \n",
    "\n",
    "<div style=\"text-align: center;\">\n",
    "    <img src=\"https://cf-courses-data.s3.us.cloud-object-storage.appdomain.cloud/dcXTJEOQ8nhYh7AvVdW9Mw/Screenshot%202024-12-20%20at%204-19-46%E2%80%AFPM%20copy-mh%20-8-.png\" alt=\"Screenshot\" width=\"300\">\n",
    "</div>\n"
   ]
  },
  {
   "cell_type": "markdown",
   "id": "86f743f1-d76a-4433-bc56-a34b8d69a5df",
   "metadata": {},
   "source": [
    "### **Building an Authentication Workflow**\n",
    "\n",
    "#### **Authentication Use Case Example**  \n",
    "In our authentication flow, we can introduce conditional edges that determine whether the user successfully authenticated or not. These edges are used to decide the next step based on the authentication result.\n",
    "\n",
    "- **Validate Credentials Node**: After validating the user credentials, the system uses a conditional edge to decide:\n",
    "  - If `is_authenticated` is `True`, the flow moves to the **Success Node**.\n",
    "  - If `is_authenticated` is `False`, the flow loops back to the **InputNode** so the user can try entering their credentials again.\n"
   ]
  },
  {
   "cell_type": "code",
   "execution_count": 28,
   "id": "3c7ebaf8-6ec6-4fa2-aba7-be1edd48db30",
   "metadata": {},
   "outputs": [
    {
     "data": {
      "text/plain": [
       "<langgraph.graph.state.StateGraph at 0x10bf285c0>"
      ]
     },
     "execution_count": 28,
     "metadata": {},
     "output_type": "execute_result"
    }
   ],
   "source": [
    "workflow.add_conditional_edges(\n",
    "    \"ValidateCredential\", router, {\"success_node\": \"Success\", \"failure_node\": \"Failure\"}\n",
    ")"
   ]
  },
  {
   "cell_type": "markdown",
   "id": "a296b4c0-e7e7-4067-a644-15641fc9a96e",
   "metadata": {},
   "source": [
    "**`add_conditional_edges(start, router, conditions)`**: This method defines the conditional transitions from a given node.\n",
    "  - **`start`**: The node where the conditional edges start (in this case, `\"ValidateCredential\"`).\n",
    "  - **`router`**: A function that determines the condition. It checks the current state (like the `is_authenticated` status) and returns the appropriate node to transition to (either `\"Success\"` or `\"Failure\"`).\n",
    "  - **`conditions`**: A dictionary that maps conditions (such as `\"success_node\"` or `\"failure_node\"`) to target nodes, indicating where to direct the flow based on the condition.\n"
   ]
  },
  {
   "cell_type": "markdown",
   "id": "d9fa0515-1522-4e05-8eca-ef331f739169",
   "metadata": {},
   "source": [
    "#### Setting the Entry Point  \n",
    "\n",
    "<div style=\"text-align: center;\">\n",
    "    <img src=\"https://cf-courses-data.s3.us.cloud-object-storage.appdomain.cloud/rxNr7amJUiaEyhZKYc-JFg/Screenshot%202024-12-20%20at%204-19-46%E2%80%AFPM%20copy-mh%20-9-.png\" alt=\"Screenshot\" width=\"300\">\n",
    "</div>\n",
    "\n",
    "\n",
    "The **entry point** defines where the workflow starts. By setting an entry point, you're specifying the first node that the AI agent will execute when the workflow begins. In our authentication use case, we want the workflow to start at the **InputNode**, where the user will be prompted to enter their credentials.\n",
    "\n",
    "By defining the entry point, we ensure the workflow initiates at the input phase, guiding the user through the authentication process step by step.\n"
   ]
  },
  {
   "cell_type": "code",
   "execution_count": 29,
   "id": "3ae82e7d-4309-4210-9d75-1e1a592f9ef6",
   "metadata": {},
   "outputs": [
    {
     "data": {
      "text/plain": [
       "<langgraph.graph.state.StateGraph at 0x10bf285c0>"
      ]
     },
     "execution_count": 29,
     "metadata": {},
     "output_type": "execute_result"
    }
   ],
   "source": [
    "workflow.set_entry_point(\"InputNode\")"
   ]
  },
  {
   "cell_type": "markdown",
   "id": "41b00a2a-afbb-4a4e-b435-3639ae1231d5",
   "metadata": {},
   "source": [
    "**`set_entry_point(node)`**: This method sets the starting point for the workflow.\n",
    "  - **`node`**: The name of the node where the workflow will begin. In this case, `\"InputNode\"`, which ensures the agent prompts the user for their credentials before proceeding with the authentication process.\n"
   ]
  },
  {
   "cell_type": "markdown",
   "id": "eeeb6c50-4248-4528-a5c8-231b09c242b6",
   "metadata": {},
   "source": [
    "#### Compiling the Workflow  \n",
    "\n",
    "Once all the nodes and edges are defined in the workflow, the next step is to compile it. Compiling the workflow transforms the defined nodes, edges, and logic into a ready-to-use application that can execute the defined tasks sequentially or conditionally, as per the graph's structure.\n"
   ]
  },
  {
   "cell_type": "code",
   "execution_count": null,
   "id": "eab09252-0870-460e-9f5e-d30087321c66",
   "metadata": {},
   "outputs": [],
   "source": [
    "app = workflow.compile()"
   ]
  },
  {
   "cell_type": "code",
   "execution_count": 35,
   "metadata": {},
   "outputs": [
    {
     "data": {
      "image/png": "[encoded data removed]",
      "text/plain": [
       "<IPython.core.display.Image object>"
      ]
     },
     "metadata": {},
     "output_type": "display_data"
    }
   ],
   "source": [
    "from IPython.display import Image, display\n",
    "\n",
    "display(Image(app.get_graph().draw_mermaid_png()))"
   ]
  },
  {
   "cell_type": "markdown",
   "id": "7b500e3c-bc16-4817-abf6-b22747c115f1",
   "metadata": {},
   "source": [
    "\n",
    "#### Running the Application  \n",
    "\n",
    "Once the workflow is compiled, we can run it by invoking the application with the required inputs. The `invoke` method takes an initial state (a dictionary of input values) and starts execution from the entry point defined in the workflow.\n",
    "\n",
    "<p style='color: red'><b>Note:</b> The correct password is <code>secure_password</code>, so make sure to enter that to authenticate successfully.</p>\n"
   ]
  },
  {
   "cell_type": "code",
   "execution_count": null,
   "id": "be497559-9607-451a-8d18-2b018ecfe61a",
   "metadata": {},
   "outputs": [
    {
     "name": "stdout",
     "output_type": "stream",
     "text": [
      "{'username': 'test_user'}\n",
      "Username : test_user Password : test123\n",
      "{'username': 'test_user', 'password': 'test123', 'is_authenticated': False, 'output': 'Not Successful, please try again!'}\n",
      "Username : test_user Password : secure_password\n",
      "{'username': 'test_user', 'password': 'secure_password', 'is_authenticated': True, 'output': 'Authentication successful! Welcome.'}\n"
     ]
    }
   ],
   "source": [
    "inputs = {\"username\": \"test_user\"}\n",
    "result = app.invoke(inputs)\n",
    "print(result)"
   ]
  },
  {
   "cell_type": "markdown",
   "id": "cb0383cb-f5b6-4523-bcc0-b8ee84c7fbd3",
   "metadata": {},
   "source": [
    "Now we are printing the output by accessing the `output` key from the result of the workflow execution.\n"
   ]
  },
  {
   "cell_type": "code",
   "execution_count": null,
   "id": "6c45a3e2-e7a0-4821-8066-5f8ff5d01da1",
   "metadata": {},
   "outputs": [
    {
     "data": {
      "text/plain": [
       "'Authentication successful! Welcome.'"
      ]
     },
     "execution_count": 32,
     "metadata": {},
     "output_type": "execute_result"
    }
   ],
   "source": [
    "result['output']"
   ]
  },
  {
   "cell_type": "markdown",
   "id": "4962f0b0-8584-44ca-9146-114d4866db94",
   "metadata": {},
   "source": [
    "#### **How These Components Work Together**  \n",
    "\n",
    "LangGraph combines these components into a cohesive framework:  \n",
    "1. **Nodes** perform actions based on their defined functionality.  \n",
    "2. **States** carry data that nodes use and update.  \n",
    "3. **Edges** ensure smooth execution by connecting nodes in a logical order.  \n",
    "4. **Conditional Edges** add intelligence by enabling decision-making and dynamic workflows. \n"
   ]
  },
  {
   "cell_type": "markdown",
   "id": "e0c40f0a-d79e-44b9-b45d-5f14f805fa50",
   "metadata": {},
   "source": [
    "### **Building a QA Workflow Specific to the Guided Project**\n",
    "\n",
    "<div style=\"text-align: center;\">\n",
    "    <img src=\"https://cf-courses-data.s3.us.cloud-object-storage.appdomain.cloud/BgP-ruk_KS5H8D7iISsJ6A/Screenshot%202024-12-20%20at%204-20-07%E2%80%AFPM.png\" alt=\"Screenshot\" width=\"150\">\n",
    "</div>\n",
    "\n",
    "\n",
    "Now, we are designing a **Question-Answering (QA) workflow** specifically tailored for a guided project. This workflow leverages LangGraph to create modular, state-driven transitions and ensures that questions related to the guided project are prioritized and handled effectively. \n",
    "\n",
    "The workflow evaluates whether a user’s query is relevant to the guided project (for example, what is this guided project about? or what is LangGraph?). For relevant questions, it uses predefined context to generate an informed response. If the query is unrelated to the guided project, the workflow explicitly communicates that there isn’t enough context to provide an answer, ensuring clarity and transparency in interactions.\n",
    "\n",
    "---\n",
    "\n",
    "### **Workflow Description**\n",
    "\n",
    "1. **Input Validation Node**  \n",
    "   - **Purpose**: Ensures the user has entered a valid question.  \n",
    "   - **Flow**: If the input is valid, it proceeds to evaluate the query’s relevance; otherwise, it terminates with an error message.\n",
    "\n",
    "2. **Context Provider Node**  \n",
    "   - **Purpose**: Checks whether the question is specific to the guided project.  \n",
    "     - For relevant questions, it provides predefined project-specific context.  \n",
    "     - For unrelated questions, it sets the context to `null`.  \n",
    "   - **Flow**: Always transitions to the question-answering step, whether or not context is available.\n",
    "\n",
    "3. **LLM Question-Answering Node**  \n",
    "   - **Purpose**: Uses the context (if available) to answer the question.  \n",
    "     - If context is provided, it generates a detailed response.  \n",
    "     - If context is `null`, it responds with: *\"I don't have enough context to answer your question. Please ask about the guided project.\"*\n"
   ]
  },
  {
   "cell_type": "markdown",
   "id": "c9bca3e5-9d07-473d-a172-58b4fca42647",
   "metadata": {},
   "source": [
    "### Defining the State for the QA Workflow\n",
    "\n",
    "Now, we are defining the **state** for our **Question-Answering (QA) workflow** using the `QAState` TypedDict. This state will be used to store and manage the data as the workflow progresses, including the user's question, the relevant context (if any), and the generated answer.\n",
    "\n",
    "This state structure will allow us to keep track of:\n",
    "- **`question`**: The user's input that will be evaluated to determine if it’s related to the guided project.\n",
    "- **`context`**: The context provided about the guided project, which will help the system generate a more relevant answer. If the question isn't related to the project, this will be `None`.\n",
    "- **`answer`**: The response generated by the LLM, which will depend on the context and the user's question.\n",
    "  \n",
    "In this case the context is :\n",
    "\n",
    "\n",
    "**`This guided project is about using LangGraph, a Python library to design state-based workflows. LangGraph simplifies building complex applications by connecting modular nodes with conditional edges.`**\n"
   ]
  },
  {
   "cell_type": "code",
   "execution_count": 36,
   "id": "6236394f-65c8-4ce6-a9b4-3efcb76392b5",
   "metadata": {},
   "outputs": [],
   "source": [
    "# Define the structure of the QA state\n",
    "class QAState(TypedDict):\n",
    "    # 'question' stores the user's input question. It can be a string or None if not provided.\n",
    "    question: Optional[str]\n",
    "    \n",
    "    # 'context' stores relevant context about the guided project, if the question pertains to it.\n",
    "    # If the question isn't related to the project, this will be None.\n",
    "    context: Optional[str]\n",
    "    \n",
    "    # 'answer' stores the generated response or answer. It can be None until the answer is generated.\n",
    "    answer: Optional[str]"
   ]
  },
  {
   "cell_type": "markdown",
   "id": "3b3b5b83-0c3b-4c55-9e9c-9a31264e4144",
   "metadata": {},
   "source": [
    "To return an example object:\n"
   ]
  },
  {
   "cell_type": "code",
   "execution_count": 37,
   "id": "86db7fe8-dbc9-47c2-a7bd-0be245ac1a16",
   "metadata": {},
   "outputs": [
    {
     "name": "stdout",
     "output_type": "stream",
     "text": [
      "question: What is the purpose of this guided project?\n",
      "context: This project focuses on building a chatbot using Python.\n",
      "answer: None\n"
     ]
    }
   ],
   "source": [
    "# Create an example object\n",
    "qa_state_example = QAState(\n",
    "    question=\"What is the purpose of this guided project?\",\n",
    "    context=\"This project focuses on building a chatbot using Python.\",\n",
    "    answer=None\n",
    ")\n",
    "\n",
    "# Print the attributes\n",
    "for key, value in qa_state_example.items():\n",
    "    print(f\"{key}: {value}\")"
   ]
  },
  {
   "cell_type": "markdown",
   "id": "1fd627ac-90ef-4601-882a-893f4ead729f",
   "metadata": {},
   "source": [
    "#### **Defining the Input Validation Node**\n",
    "\n",
    "<div style=\"text-align: center;\">\n",
    "    <img src=\"https://cf-courses-data.s3.us.cloud-object-storage.appdomain.cloud/QNWh9LRDo4A3uF5cz4bXcQ/Screenshot%202024-12-20%20at%204-20-07%E2%80%AFPM-mh.png\" alt=\"Screenshot\" width=\"150\">\n",
    "</div>\n",
    "\n",
    "\n",
    "In this node, we validate the user's input (the question). The node checks whether the question is provided and if it's not empty. If the question is empty, it returns an error message indicating that the question cannot be empty. If the question is valid, it proceeds to the next node.\n"
   ]
  },
  {
   "cell_type": "code",
   "execution_count": 38,
   "id": "3ed09800-ffed-42fc-945b-3e1f3a903c12",
   "metadata": {},
   "outputs": [],
   "source": [
    "def input_validation_node(state):\n",
    "    # Extract the question from the state, and strip any leading or trailing spaces\n",
    "    question = state.get(\"question\", \"\").strip()\n",
    "    \n",
    "    # If the question is empty, return an error message indicating invalid input\n",
    "    if not question:\n",
    "        return {\"valid\": False, \"error\": \"Question cannot be empty.\"}\n",
    "    \n",
    "    # If the question is valid, return valid status\n",
    "    return {\"valid\": True}"
   ]
  },
  {
   "cell_type": "markdown",
   "id": "a79feef2-ab63-4d2d-9847-05c36e82757e",
   "metadata": {},
   "source": [
    "If the question is valid, it returns a valid status:\n"
   ]
  },
  {
   "cell_type": "code",
   "execution_count": 39,
   "id": "2c7a59a2-62be-445b-84d3-57a6a8ae3905",
   "metadata": {},
   "outputs": [
    {
     "data": {
      "text/plain": [
       "{'valid': True}"
      ]
     },
     "execution_count": 39,
     "metadata": {},
     "output_type": "execute_result"
    }
   ],
   "source": [
    "input_validation_node(qa_state_example)"
   ]
  },
  {
   "cell_type": "markdown",
   "id": "e1bfdf2e-1cae-480f-a34e-32e567635a18",
   "metadata": {},
   "source": [
    "#### **Defining the Context Provider**\n",
    "\n",
    "<div style=\"text-align: center;\">\n",
    "    <img src=\"https://cf-courses-data.s3.us.cloud-object-storage.appdomain.cloud/htDP3RKH9b6X1NHSKME-YQ/Screenshot%202024-12-20%20at%204-20-07%E2%80%AFPM-mh%20-1-.png\" alt=\"Screenshot\" width=\"150\">\n",
    "</div>\n",
    "\n",
    "\n",
    "This node checks if the question is related to the guided project. If it mentions \"LangGraph\" or \"guided project,\" it provides the relevant context. Otherwise, it sets the context to `None':\n"
   ]
  },
  {
   "cell_type": "code",
   "execution_count": 40,
   "id": "871a80a0-8774-444d-9fc4-fe562478d2e8",
   "metadata": {},
   "outputs": [],
   "source": [
    "def context_provider_node(state):\n",
    "    question = state.get(\"question\", \"\").lower()\n",
    "    # Check if the question is related to the guided project\n",
    "    if \"langgraph\" in question or \"guided project\" in question:\n",
    "        context = (\n",
    "            \"This guided project is about using LangGraph, a Python library to design state-based workflows. \"\n",
    "            \"LangGraph simplifies building complex applications by connecting modular nodes with conditional edges.\"\n",
    "        )\n",
    "        return {\"context\": context}\n",
    "    # If unrelated, set context to null\n",
    "    return {\"context\": None}"
   ]
  },
  {
   "cell_type": "markdown",
   "id": "20afa3cb-9962-4907-9030-8625053d3957",
   "metadata": {},
   "source": [
    "#### **Integrating LLM for QA Workflow**  \n",
    "\n",
    "<div style=\"text-align: center;\">\n",
    "    <img src=\"https://cf-courses-data.s3.us.cloud-object-storage.appdomain.cloud/Djs-AScfvwE8fnKButiPXg/Screenshot%202024-12-20%20at%204-20-07%E2%80%AFPM-mh%20-2-.png\" alt=\"Screenshot\" width=\"150\">\n",
    "</div>\n",
    "\n",
    "\n",
    "In this step, we are building a node that utilizes an LLM (Large Language Model) to answer user questions based on the provided context. If the question is unrelated to the guided project, the node handles this gracefully by returning a predefined response. This approach uses IBM's Granite 3.3 model through LangChain's `ChatWatsonX` interface.\n"
   ]
  },
  {
   "cell_type": "code",
   "execution_count": null,
   "id": "b822c464-2dd3-44ff-85a4-d3007bef59a8",
   "metadata": {},
   "outputs": [],
   "source": [
    "def llm_qa_node(state):\n",
    "    # Extract the question and context from the state\n",
    "    question = state.get(\"question\", \"\")\n",
    "    context = state.get(\"context\", None)\n",
    "\n",
    "    # Check for missing context and return a fallback response\n",
    "    if not context:\n",
    "        return {\"answer\": \"I don't have enough context to answer your question.\"}\n",
    "\n",
    "    # Construct the prompt dynamically\n",
    "    prompt = f\"Context: {context}\\nQuestion: {question}\\nAnswer the question based on the provided context.\"\n",
    "\n",
    "    # Use LangChain's ChatOpenAI to get the response\n",
    "    try:\n",
    "        response = groq_llm.invoke(prompt)\n",
    "        return {\"answer\": response.content.strip()}\n",
    "    except Exception as e:\n",
    "        return {\"answer\": f\"An error occurred: {str(e)}\"}"
   ]
  },
  {
   "cell_type": "markdown",
   "id": "aef3f7c0-cf07-413b-baea-9c854b8cf633",
   "metadata": {},
   "source": [
    "#### **Creating the QA Workflow Graph**  \n",
    "In this step, we initialize the **state-based graph** for our QA workflow. We use the `StateGraph` class to define a graph that will handle user questions, provide context if available, and generate answers using an LLM.\n"
   ]
  },
  {
   "cell_type": "code",
   "execution_count": 42,
   "id": "deff48d1-72ed-40bf-b3ed-6176394741ae",
   "metadata": {},
   "outputs": [],
   "source": [
    "qa_workflow = StateGraph(QAState)"
   ]
  },
  {
   "cell_type": "markdown",
   "id": "948f8fbc-bc3c-4954-9c5c-5832eadfdc58",
   "metadata": {},
   "source": [
    "Now, we add the **`InputNode`** to the QA workflow. This node is responsible for validating whether the user-provided question is non-empty and properly formatted.\n"
   ]
  },
  {
   "cell_type": "code",
   "execution_count": 43,
   "id": "81e9e481-bb53-44c9-850b-76ae49a22b38",
   "metadata": {},
   "outputs": [
    {
     "data": {
      "text/plain": [
       "<langgraph.graph.state.StateGraph at 0x10e327020>"
      ]
     },
     "execution_count": 43,
     "metadata": {},
     "output_type": "execute_result"
    }
   ],
   "source": [
    "qa_workflow.add_node(\"InputNode\", input_validation_node)"
   ]
  },
  {
   "cell_type": "markdown",
   "id": "ae26faa9-09fd-4a3c-b4ba-fa8213a192a6",
   "metadata": {},
   "source": [
    "Now, we add the **`ContextNode`** to the QA workflow. This node determines whether the question is related to the guided project and provides relevant context accordingly.\n"
   ]
  },
  {
   "cell_type": "code",
   "execution_count": 44,
   "id": "8a885cfe-654c-4f3e-abc5-907b75596549",
   "metadata": {},
   "outputs": [
    {
     "data": {
      "text/plain": [
       "<langgraph.graph.state.StateGraph at 0x10e327020>"
      ]
     },
     "execution_count": 44,
     "metadata": {},
     "output_type": "execute_result"
    }
   ],
   "source": [
    "qa_workflow.add_node(\"ContextNode\", context_provider_node)"
   ]
  },
  {
   "cell_type": "markdown",
   "id": "58ffc5ee-bfce-441d-8836-1227e1c52d93",
   "metadata": {},
   "source": [
    "Now, we add the **`QANode`** to the QA workflow. This node leverages an LLM (IBM's Granite 3.3) to answer questions based on the provided context.\n"
   ]
  },
  {
   "cell_type": "code",
   "execution_count": 45,
   "id": "8eb03d0e-79f5-4496-881e-4e9ec8d38d02",
   "metadata": {},
   "outputs": [
    {
     "data": {
      "text/plain": [
       "<langgraph.graph.state.StateGraph at 0x10e327020>"
      ]
     },
     "execution_count": 45,
     "metadata": {},
     "output_type": "execute_result"
    }
   ],
   "source": [
    "qa_workflow.add_node(\"QANode\", llm_qa_node)"
   ]
  },
  {
   "cell_type": "markdown",
   "id": "46bc2759-5c8c-48f0-887f-986643c7ec0e",
   "metadata": {},
   "source": [
    "<div style=\"text-align: center;\">\n",
    "    <img src=\"https://cf-courses-data.s3.us.cloud-object-storage.appdomain.cloud/0K3mU7FSZFw0tnAXiN22ag/Screenshot%202024-12-20%20at%204-20-07%E2%80%AFPM-mh%20-3-.png\" alt=\"Screenshot\" width=\"150\">\n",
    "</div>\n",
    "\n",
    "\n",
    "Now, we set the **entry point** for our QA workflow to the **`InputNode`**. This is the first node that will be executed when the workflow starts, ensuring that the user's input is validated before any other operations occur.\n"
   ]
  },
  {
   "cell_type": "code",
   "execution_count": 46,
   "id": "c9508ca4-6452-48c6-8b9e-7f28b68f3cfc",
   "metadata": {},
   "outputs": [
    {
     "data": {
      "text/plain": [
       "<langgraph.graph.state.StateGraph at 0x10e327020>"
      ]
     },
     "execution_count": 46,
     "metadata": {},
     "output_type": "execute_result"
    }
   ],
   "source": [
    "qa_workflow.set_entry_point(\"InputNode\")"
   ]
  },
  {
   "cell_type": "markdown",
   "id": "13cdd87c-f916-4bc5-837c-a6b46c17c215",
   "metadata": {},
   "source": [
    "<div style=\"text-align: center;\">\n",
    "    <img src=\"https://cf-courses-data.s3.us.cloud-object-storage.appdomain.cloud/VFdsfj9Q26M9z45QilEVrQ/Screenshot%202024-12-20%20at%204-20-07%E2%80%AFPM-mh%20-4-.png\" alt=\"Screenshot\" width=\"150\">\n",
    "</div>\n",
    "\n",
    "\n",
    "In this step, we define the connection or **edge** between the **`InputNode`** and the **`ContextNode`**. This means that after the user input is validated by the **`InputNode`**, the workflow will automatically transition to the **`ContextNode`** to determine whether additional context is needed for the question.\n"
   ]
  },
  {
   "cell_type": "code",
   "execution_count": 47,
   "id": "e603612f-0f3c-40f7-b786-bb53ee86d154",
   "metadata": {},
   "outputs": [
    {
     "data": {
      "text/plain": [
       "<langgraph.graph.state.StateGraph at 0x10e327020>"
      ]
     },
     "execution_count": 47,
     "metadata": {},
     "output_type": "execute_result"
    }
   ],
   "source": [
    "qa_workflow.add_edge(\"InputNode\", \"ContextNode\")"
   ]
  },
  {
   "cell_type": "markdown",
   "id": "3a33b620-4cb5-45a5-9259-c4e5a14fe7d6",
   "metadata": {},
   "source": [
    "<div style=\"text-align: center;\">\n",
    "    <img src=\"https://cf-courses-data.s3.us.cloud-object-storage.appdomain.cloud/kd4OXfGZ4oQeTipTjIq6GQ/Screenshot%202024-12-20%20at%204-20-07%E2%80%AFPM-mh%20-5-.png\" alt=\"Screenshot\" width=\"150\">\n",
    "</div>\n",
    "\n",
    "\n",
    "Now, we define the connection or **edge** between the **`ContextNode`** and the **`QANode`**. Once the **`ContextNode`** has determined whether there is context available for the question, the workflow will transition to the **`QANode`** to provide the answer based on the question and the context.\n"
   ]
  },
  {
   "cell_type": "code",
   "execution_count": 48,
   "id": "1cf1ef0c-0ed4-4abd-84bf-8c72dd50388d",
   "metadata": {},
   "outputs": [
    {
     "data": {
      "text/plain": [
       "<langgraph.graph.state.StateGraph at 0x10e327020>"
      ]
     },
     "execution_count": 48,
     "metadata": {},
     "output_type": "execute_result"
    }
   ],
   "source": [
    "qa_workflow.add_edge(\"ContextNode\", \"QANode\")"
   ]
  },
  {
   "cell_type": "markdown",
   "id": "73dce0f5-eae1-42ab-a910-4b62e7a3d904",
   "metadata": {},
   "source": [
    "<div style=\"text-align: center;\">\n",
    "    <img src=\"https://cf-courses-data.s3.us.cloud-object-storage.appdomain.cloud/ZBynpO0vyZbUD3fzWVc6LQ/Screenshot%202024-12-20%20at%204-20-07%E2%80%AFPM-mh%20-6-.png\" alt=\"Screenshot\" width=\"150\">\n",
    "</div>\n",
    "\n",
    "\n",
    "Now, we define the final edge in our workflow. After the **`QANode`** has generated an answer based on the context and the user's question, we move to the **`END`** node, which represents the completion of the workflow.\n"
   ]
  },
  {
   "cell_type": "code",
   "execution_count": 49,
   "id": "6dad7a67-1187-4efe-9bbc-7c9aeb353612",
   "metadata": {},
   "outputs": [
    {
     "data": {
      "text/plain": [
       "<langgraph.graph.state.StateGraph at 0x10e327020>"
      ]
     },
     "execution_count": 49,
     "metadata": {},
     "output_type": "execute_result"
    }
   ],
   "source": [
    "qa_workflow.add_edge(\"QANode\", END)"
   ]
  },
  {
   "cell_type": "markdown",
   "id": "e26e8dad-1cef-4ce3-91ee-127368b88bd6",
   "metadata": {},
   "source": [
    "Now that we've added the nodes and edges, we can compile the workflow using the `compile()` method. This converts the workflow into an executable application that processes input data and follows the defined flow.\n"
   ]
  },
  {
   "cell_type": "code",
   "execution_count": 50,
   "id": "10ee4f67-831d-4e86-854e-6e3400e910cf",
   "metadata": {},
   "outputs": [],
   "source": [
    "qa_app = qa_workflow.compile()"
   ]
  },
  {
   "cell_type": "markdown",
   "id": "9f33a31d-ea8d-484e-8480-ed15db7f645f",
   "metadata": {},
   "source": [
    "#### Ask an Irrelevant Question\n",
    "Now, we can invoke the compiled QA workflow by passing in an irrelevant question. The system will process this question and move through the nodes. Since the question is unrelated to the guided project, the system will provide a response indicating that it doesn't have enough context.\n"
   ]
  },
  {
   "cell_type": "code",
   "execution_count": 51,
   "id": "45edd8cf-8acf-4a19-bf76-eede24b926b5",
   "metadata": {},
   "outputs": [
    {
     "data": {
      "text/plain": [
       "{'question': 'What is the weather today?',\n",
       " 'context': None,\n",
       " 'answer': \"I don't have enough context to answer your question.\"}"
      ]
     },
     "execution_count": 51,
     "metadata": {},
     "output_type": "execute_result"
    }
   ],
   "source": [
    "qa_app.invoke({\"question\": \"What is the weather today?\"})"
   ]
  },
  {
   "cell_type": "markdown",
   "id": "587b3f63-d17a-4a03-b689-bdbba1d99a8a",
   "metadata": {},
   "source": [
    "#### Ask Relevant Question\n",
    "\n",
    "\n",
    "Next, we ask a relevant question related to the guided project. The system will use the provided context about LangGraph and respond with an answer based on the relevant information.\n"
   ]
  },
  {
   "cell_type": "code",
   "execution_count": 52,
   "id": "d6e505f4-fb12-4a0f-a451-833cb7980714",
   "metadata": {},
   "outputs": [
    {
     "data": {
      "text/plain": [
       "{'question': 'What is LangGraph?',\n",
       " 'context': 'This guided project is about using LangGraph, a Python library to design state-based workflows. LangGraph simplifies building complex applications by connecting modular nodes with conditional edges.',\n",
       " 'answer': \"<think>\\nOkay, let's tackle this question. The user wants to know what LangGraph is based on the provided context. \\n\\nFirst, I need to look at the context given. The context says it's a guided project using LangGraph, a Python library for designing state-based workflows. It also mentions that LangGraph simplifies building complex applications by connecting modular nodes with conditional edges. \\n\\nSo, the key points here are: \\n- It's a Python library.\\n- The main purpose is to design state-based workflows.\\n- It helps in creating complex apps by using modular nodes and conditional edges.\\n\\nI should make sure the answer includes these elements without adding extra information. Maybe I should explain what state-based workflows are, but the context doesn't elaborate, so probably keep it simple. Also, mention the use of modular components and conditional edges as part of its functionality. \\n\\nWait, the question is straightforward. The user just needs a clear answer based on the context. So the answer should state that LangGraph is a Python library for state-based workflows, allowing modular nodes and conditional edges to build complex applications. That should cover the main points from the context.\\n</think>\\n\\nLangGraph is a Python library designed to simplify the creation of complex applications by enabling developers to design **state-based workflows**. It achieves this by connecting **modular nodes** (representing discrete tasks or components) using **conditional edges**, which determine how control flows between nodes based on specific logic or states. This approach allows for structured, reusable, and scalable workflows, particularly in scenarios where processes depend on dynamic or conditional decision-making.\"}"
      ]
     },
     "execution_count": 52,
     "metadata": {},
     "output_type": "execute_result"
    }
   ],
   "source": [
    "qa_app.invoke({\"question\": \"What is LangGraph?\"})"
   ]
  },
  {
   "cell_type": "code",
   "execution_count": 57,
   "id": "d73446cc-82e8-44b7-b3b3-cec95f003038",
   "metadata": {},
   "outputs": [
    {
     "name": "stdout",
     "output_type": "stream",
     "text": [
      "('\\n'\n",
      " '\\n'\n",
      " 'The best guided project using **LangGraph** would be one that effectively '\n",
      " 'demonstrates its core strengths: **state-based workflows**, **modular '\n",
      " 'nodes**, and **conditional edges** to build complex, dynamic systems. A '\n",
      " 'standout example is:\\n'\n",
      " '\\n'\n",
      " '### **\"Customer Support Workflow Automation\"**\\n'\n",
      " '- **Objective**: Build a multi-step customer support chatbot that routes '\n",
      " 'user queries to appropriate departments, handles escalations, and maintains '\n",
      " 'conversation state.\\n'\n",
      " '- **Key Components**:\\n'\n",
      " '  1. **State Management**: Track user input, conversation history, and '\n",
      " 'current step (e.g., issue type, urgency).\\n'\n",
      " '  2. **Modular Nodes**:\\n'\n",
      " '     - Node to classify queries (e.g., billing, technical issues).\\n'\n",
      " '     - Node to gather additional details if needed.\\n'\n",
      " '     - Node to resolve the query or escalate.\\n'\n",
      " '  3. **Conditional Edges**: Route based on user responses (e.g., if \"refund\" '\n",
      " 'is mentioned, trigger the billing resolver; if unresolved, escalate to '\n",
      " 'support manager).\\n'\n",
      " '- **Why It’s Ideal**: \\n'\n",
      " '  - Highlights **state transitions** (e.g., unresolved → escalation).\\n'\n",
      " '  - Shows **conditional logic** (dynamic routing).\\n'\n",
      " '  - Emphasizes **modularity** (reusable nodes for validation, routing, '\n",
      " 'resolution).\\n'\n",
      " '  - Pragmatic application of LangGraph for real-world automation.\\n'\n",
      " '\\n'\n",
      " 'This project aligns with LangGraph’s design philosophy by solving a complex, '\n",
      " 'multi-step problem with clear branching logic, making it both educational '\n",
      " 'and practical.')\n"
     ]
    }
   ],
   "source": [
    "response = qa_app.invoke({\"question\": \"What is the best guided project?\"})\n",
    "\n",
    "from pprint import pprint\n",
    "# pprint(response)\n",
    "pprint(response[\"answer\"].split(\"</think>\")[-1])"
   ]
  },
  {
   "cell_type": "markdown",
   "id": "870204d4-566d-4f93-9ee5-fd9f8ef03c2a",
   "metadata": {},
   "source": [
    "## Exercises\n",
    "\n",
    "In this exercise, you are going to create a simple counter using LangGraph.\n"
   ]
  },
  {
   "cell_type": "markdown",
   "id": "f2620dc0-0bfd-4521-a51c-0b06b40d25dd",
   "metadata": {},
   "source": [
    "### Exercise 1 - Define the State type\n",
    "\n",
    "Here, you will define the state schema used by the graph. It should keep track of:\n",
    "- `n`: a counter starting from 1.\n",
    "- `letter`: a randomly generated lowercase letter at each step.\n"
   ]
  },
  {
   "cell_type": "code",
   "execution_count": 58,
   "id": "a085e5a1-f225-4168-8c18-5a1831ca49e7",
   "metadata": {},
   "outputs": [],
   "source": [
    "import random\n",
    "import string\n",
    "from typing import TypedDict\n",
    "\n",
    "from langgraph.graph import StateGraph, END"
   ]
  },
  {
   "cell_type": "code",
   "execution_count": 59,
   "id": "08e01604-bd72-4068-99a2-a881e49c41e1",
   "metadata": {},
   "outputs": [],
   "source": [
    "class CounterState(TypedDict):\n",
    "    n: int\n",
    "    letter: Optional[str]"
   ]
  },
  {
   "cell_type": "code",
   "execution_count": 60,
   "metadata": {},
   "outputs": [],
   "source": [
    "example_state: CounterState = {\n",
    "    \"n\": 0,\n",
    "    \"letter\": None\n",
    "}"
   ]
  },
  {
   "cell_type": "markdown",
   "id": "92341642-2f84-4b22-ac03-c09dda226b9e",
   "metadata": {},
   "source": [
    "<details>\n",
    "    <summary>Click here for the solution</summary>\n",
    "\n",
    "```python\n",
    "# Define the state type\n",
    "class ChainState(TypedDict):\n",
    "    n: int\n",
    "    letter: str\n",
    "```\n",
    "\n",
    "</details>\n"
   ]
  },
  {
   "cell_type": "markdown",
   "id": "fcd842ee-5c5a-4386-ae3f-27a32418d2a8",
   "metadata": {},
   "source": [
    "### Exercise 2 - Create `add()` node Function\n",
    "\n",
    "This node should represent the `increment` step such that:\n",
    "- It adds 1 to the current value of n.\n",
    "- It randomly selects a lowercase letter and updates the letter field.\n"
   ]
  },
  {
   "cell_type": "code",
   "execution_count": 98,
   "id": "aff80ebd-b5f8-4082-ad38-1085579e3157",
   "metadata": {},
   "outputs": [],
   "source": [
    "import random\n",
    "\n",
    "def add_node(state: CounterState) -> CounterState:\n",
    "    n = state.get(\"n\", 0) + 1\n",
    "    letter = random.choice(string.ascii_lowercase)\n",
    "\n",
    "    return {**state, \"n\": n, \"letter\": letter}"
   ]
  },
  {
   "cell_type": "code",
   "execution_count": 99,
   "metadata": {},
   "outputs": [
    {
     "data": {
      "text/plain": [
       "{'n': 1, 'letter': 'c'}"
      ]
     },
     "execution_count": 99,
     "metadata": {},
     "output_type": "execute_result"
    }
   ],
   "source": [
    "add_node(example_state)"
   ]
  },
  {
   "cell_type": "markdown",
   "id": "63d15c6c-a4b3-40df-8b20-b5dddee26314",
   "metadata": {},
   "source": [
    "<details>\n",
    "    <summary>Click here for the solution</summary>\n",
    "\n",
    "```python\n",
    "def add(state: ChainState) -> ChainState:\n",
    "    random_letter = random.choice(string.ascii_lowercase)\n",
    "    return {\n",
    "        **state,\n",
    "        \"n\": state[\"n\"] + 1,\n",
    "        \"letter\": random_letter,\n",
    "    }\n",
    "```\n",
    "\n",
    "</details>\n"
   ]
  },
  {
   "cell_type": "markdown",
   "id": "7a9d5a91-34a4-4cee-9c1e-8fe218f78688",
   "metadata": {},
   "source": [
    "### Exercise 3 - Create `print_out()` node Function\n",
    "\n",
    "This node should print the current state such that:\n",
    "- It logs the value of n and the current random letter.\n",
    "- The state is returned.\n"
   ]
  },
  {
   "cell_type": "code",
   "execution_count": 100,
   "id": "39d4aa60-9978-4853-92fc-2236afa0540c",
   "metadata": {},
   "outputs": [],
   "source": [
    "def print_node(state: CounterState) -> CounterState:\n",
    "    n = state.get(\"n\", 0)\n",
    "    letter = state.get(\"letter\", \"\")\n",
    "    print(f\"Current count: {n}, Letter: {letter}\")\n",
    "    return state"
   ]
  },
  {
   "cell_type": "markdown",
   "id": "d9b59cfc-e42a-4112-818b-f94ffeec9761",
   "metadata": {},
   "source": [
    "<details>\n",
    "    <summary>Click here for the solution</summary>\n",
    "\n",
    "```python\n",
    "def print_out(state: ChainState) -> ChainState:\n",
    "    print(\"Current n:\", state[\"n\"], \"Letter:\", state[\"letter\"])\n",
    "    return state\n",
    "```\n",
    "\n",
    "</details>\n"
   ]
  },
  {
   "cell_type": "markdown",
   "id": "1fd8c4b9-5daa-4eb6-bbbc-63284e3bc684",
   "metadata": {},
   "source": [
    "### Exercise 4 - Stop Condition\n",
    "\n",
    "Create a function that has a termination condition:\n",
    "- If the counter reaches 13 or more, the workflow should end.\n",
    "- Otherwise, it should loop back to add node.\n"
   ]
  },
  {
   "cell_type": "code",
   "execution_count": 109,
   "id": "ed9a54b4-f61f-4955-8e03-e0490ab4bd3c",
   "metadata": {},
   "outputs": [],
   "source": [
    "def stop_condition(state: CounterState) -> bool:\n",
    "    if state.get(\"n\", 0) >= 13:\n",
    "        return True\n",
    "    return False"
   ]
  },
  {
   "cell_type": "markdown",
   "id": "8745f324-5c9c-4383-a24b-6c40f0d04746",
   "metadata": {},
   "source": [
    "<details>\n",
    "    <summary>Click here for the solution</summary>\n",
    "\n",
    "```python\n",
    "def stop_condition(state: ChainState) -> bool:\n",
    "    return state[\"n\"] >= 13\n",
    "```\n",
    "\n",
    "</details>\n"
   ]
  },
  {
   "cell_type": "markdown",
   "id": "7840aca9-a165-4a17-bf39-298a5405c9d8",
   "metadata": {},
   "source": [
    "### Exercise 5 - Graph Construction\n",
    "\n",
    "In this exercise, you'll build the LangGraph flow:\n",
    "\n",
    "- Create a `StateGraph` object using the `ChainState` that you made.\n",
    "- Add nodes `add` and `print`.\n",
    "- Add an edge between `add` and `print`\n",
    "- Add a conditional edge between `print` and `END` based on `stop_condition`.\n",
    "- Set `add` as entry point of the graph.\n"
   ]
  },
  {
   "cell_type": "code",
   "execution_count": 110,
   "id": "b39a14bc-881d-4a96-a14a-34ce0f291151",
   "metadata": {},
   "outputs": [],
   "source": [
    "# Create an instance of StateGraph with the GraphState structure\n",
    "counter_workflow = StateGraph(CounterState)\n",
    "\n",
    "counter_workflow.add_node(\"AddNode\", add_node)\n",
    "counter_workflow.add_node(\"PrintNode\", print_node)\n",
    "counter_workflow.set_entry_point(\"AddNode\")\n",
    "\n",
    "counter_workflow.add_edge(\"AddNode\", \"PrintNode\")\n",
    "counter_workflow.add_conditional_edges(\"PrintNode\", stop_condition, {True: END, False: \"AddNode\"})\n",
    "counter_app = counter_workflow.compile()"
   ]
  },
  {
   "cell_type": "code",
   "execution_count": 111,
   "metadata": {},
   "outputs": [
    {
     "data": {
      "image/png": "[encoded data removed]",
      "text/plain": [
       "<IPython.core.display.Image object>"
      ]
     },
     "metadata": {},
     "output_type": "display_data"
    }
   ],
   "source": [
    "from IPython.display import Image, display\n",
    "display(Image(counter_app.get_graph().draw_mermaid_png()))"
   ]
  },
  {
   "cell_type": "markdown",
   "id": "028582ed-0578-4d50-b997-9cb2de9e1c00",
   "metadata": {},
   "source": [
    "<details>\n",
    "    <summary>Click here for the solution</summary>\n",
    "\n",
    "```python\n",
    "workflow = StateGraph(ChainState)\n",
    "\n",
    "workflow.add_node(\"add\", add)\n",
    "workflow.add_node(\"print\", print_out)\n",
    "\n",
    "workflow.add_edge(\"add\", \"print\")\n",
    "\n",
    "workflow.add_conditional_edges(\"print\", stop_condition, {\n",
    "    True: END,\n",
    "    False: \"add\",\n",
    "})\n",
    "\n",
    "workflow.set_entry_point(\"add\")\n",
    "```\n",
    "\n",
    "</details>\n"
   ]
  },
  {
   "cell_type": "markdown",
   "id": "a9adc001-9971-4ec3-a68d-5aef9a94f60c",
   "metadata": {},
   "source": [
    "### Exercise 6 - Compile and Run\n",
    "\n",
    "Compile the graph and start execution with the given initial input:\n",
    "- The counter should begin at 1.\n",
    "- Keep letter empty (to be filled in by the add node).\n"
   ]
  },
  {
   "cell_type": "code",
   "execution_count": 112,
   "id": "1ee767ba-b38d-49bd-87f4-5bdb5e4f6372",
   "metadata": {},
   "outputs": [
    {
     "name": "stdout",
     "output_type": "stream",
     "text": [
      "Current count: 2, Letter: h\n",
      "Current count: 3, Letter: j\n",
      "Current count: 4, Letter: w\n",
      "Current count: 5, Letter: j\n",
      "Current count: 6, Letter: m\n",
      "Current count: 7, Letter: p\n",
      "Current count: 8, Letter: t\n",
      "Current count: 9, Letter: g\n",
      "Current count: 10, Letter: l\n",
      "Current count: 11, Letter: w\n",
      "Current count: 12, Letter: a\n",
      "Current count: 13, Letter: a\n"
     ]
    },
    {
     "data": {
      "text/plain": [
       "{'n': 13, 'letter': 'a'}"
      ]
     },
     "execution_count": 112,
     "metadata": {},
     "output_type": "execute_result"
    }
   ],
   "source": [
    "counter_app.invoke({\"n\": 1, \"letter\": \"\"})"
   ]
  },
  {
   "cell_type": "markdown",
   "id": "8d53048c-b4c9-4732-b525-cdd7dc881800",
   "metadata": {},
   "source": [
    "<details>\n",
    "    <summary>Click here for the solution</summary>\n",
    "\n",
    "```python\n",
    "app = workflow.compile()\n",
    "\n",
    "result = app.invoke({\"n\": 1, \"letter\": \"\"})\n",
    "```\n",
    "\n",
    "</details>\n"
   ]
  }
 ],
 "metadata": {
  "kernelspec": {
   "display_name": "agents_experimental",
   "language": "python",
   "name": "python3"
  },
  "language_info": {
   "codemirror_mode": {
    "name": "ipython",
    "version": 3
   },
   "file_extension": ".py",
   "mimetype": "text/x-python",
   "name": "python",
   "nbconvert_exporter": "python",
   "pygments_lexer": "ipython3",
   "version": "3.12.11"
  },
  "prev_pub_hash": "fb4ae08008613d26c653404f56fb8ca5eaf05d14883bfadd0cb1ee8b04dde74e"
 },
 "nbformat": 4,
 "nbformat_minor": 4
}
