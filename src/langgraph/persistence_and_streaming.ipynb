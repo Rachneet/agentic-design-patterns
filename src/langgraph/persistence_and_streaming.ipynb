{
 "cells": [
  {
   "cell_type": "code",
   "execution_count": 1,
   "id": "6bf4f59b",
   "metadata": {},
   "outputs": [
    {
     "name": "stderr",
     "output_type": "stream",
     "text": [
      "/Users/rachneet/projects/agents_experimental/.venv/lib/python3.12/site-packages/tqdm/auto.py:21: TqdmWarning: IProgress not found. Please update jupyter and ipywidgets. See https://ipywidgets.readthedocs.io/en/stable/user_install.html\n",
      "  from .autonotebook import tqdm as notebook_tqdm\n"
     ]
    },
    {
     "data": {
      "text/plain": [
       "True"
      ]
     },
     "execution_count": 1,
     "metadata": {},
     "output_type": "execute_result"
    }
   ],
   "source": [
    "from typing import TypedDict, Annotated\n",
    "import operator\n",
    "\n",
    "from langgraph.graph import StateGraph, END\n",
    "\n",
    "from langchain_core.messages import AnyMessage, SystemMessage, HumanMessage, ToolMessage\n",
    "from langchain_huggingface import HuggingFaceEndpoint, ChatHuggingFace\n",
    "from langchain_community.tools.tavily_search import TavilySearchResults\n",
    "\n",
    "from dotenv import load_dotenv\n",
    "load_dotenv()"
   ]
  },
  {
   "cell_type": "code",
   "execution_count": 2,
   "id": "93ef777a",
   "metadata": {},
   "outputs": [],
   "source": [
    "llm = HuggingFaceEndpoint(\n",
    "    repo_id=\"Qwen/Qwen3-Next-80B-A3B-Instruct\",\n",
    "    max_new_tokens=1024,\n",
    "    temperature=0,\n",
    ")\n",
    "\n",
    "chat_model = ChatHuggingFace(llm=llm)"
   ]
  },
  {
   "cell_type": "code",
   "execution_count": 3,
   "id": "423d1b9d",
   "metadata": {},
   "outputs": [],
   "source": [
    "class AgentState(TypedDict):\n",
    "    messages: Annotated[list[AnyMessage], operator.add]"
   ]
  },
  {
   "cell_type": "code",
   "execution_count": 4,
   "id": "516953a5",
   "metadata": {},
   "outputs": [],
   "source": [
    "import sqlite3\n",
    "from langgraph.checkpoint.sqlite import SqliteSaver\n",
    "\n",
    "# memory = SqliteSaver.from_conn_string(\":memory:\")\n",
    "conn = sqlite3.connect(\"agent_memory.db\", check_same_thread=False)\n",
    "memory = SqliteSaver(conn)"
   ]
  },
  {
   "cell_type": "code",
   "execution_count": 5,
   "id": "5843b9e4",
   "metadata": {},
   "outputs": [],
   "source": [
    "class Agent:\n",
    "\n",
    "    def __init__(self, model, tools, checkpointer, system=\"\"):\n",
    "\n",
    "        self.system = system\n",
    "        graph = StateGraph(AgentState)\n",
    "\n",
    "        graph.add_node(\"llm\", self.call_model)\n",
    "        graph.add_node(\"action\", self.take_action)\n",
    "        graph.add_conditional_edges(\n",
    "            \"llm\",\n",
    "            self.exists_action,\n",
    "            {\n",
    "                True: \"action\", False: END\n",
    "            }\n",
    "        )\n",
    "        graph.add_edge(\"action\", \"llm\")\n",
    "        graph.set_entry_point(\"llm\")\n",
    "\n",
    "        self.graph = graph.compile(checkpointer=checkpointer)\n",
    "        self.tools = {t.name: t for t in tools}\n",
    "        self.model = model.bind_tools(tools)\n",
    "\n",
    "    def call_model(self, state: AgentState):\n",
    "        messages = state[\"messages\"]\n",
    "        if self.system:\n",
    "            messages = [SystemMessage(content=self.system)] + messages\n",
    "        message = self.model.invoke(messages)\n",
    "        return {\"messages\": [message]}\n",
    "\n",
    "    def take_action(self, state: AgentState):\n",
    "        tool_calls = state[\"messages\"][-1].tool_calls\n",
    "        results = []\n",
    "\n",
    "        for t in tool_calls:\n",
    "            print(f\"Calling: '{t}' \")\n",
    "            result = self.tools[t[\"name\"]].invoke(t[\"args\"])\n",
    "            results.append(ToolMessage(\n",
    "                tool_call_id=t[\"id\"], \n",
    "                name=t[\"name\"], \n",
    "                content=str(result)\n",
    "            ))\n",
    "        \n",
    "        return {\"messages\": results}\n",
    "\n",
    "    def exists_action(self, state: AgentState):\n",
    "        result = state[\"messages\"][-1]\n",
    "        return len(result.tool_calls) > 0"
   ]
  },
  {
   "cell_type": "code",
   "execution_count": 10,
   "id": "e15bed81",
   "metadata": {},
   "outputs": [
    {
     "name": "stderr",
     "output_type": "stream",
     "text": [
      "/var/folders/nm/srw3ygl55jbgpddqwgysqjpm0000gn/T/ipykernel_31337/1493036220.py:7: LangChainDeprecationWarning: The class `TavilySearchResults` was deprecated in LangChain 0.3.25 and will be removed in 1.0. An updated version of the class exists in the :class:`~langchain-tavily package and should be used instead. To use it run `pip install -U :class:`~langchain-tavily` and import as `from :class:`~langchain_tavily import TavilySearch``.\n",
      "  tool = TavilySearchResults(max_results=2)\n"
     ]
    }
   ],
   "source": [
    "prompt = \"\"\"You are a smart research assistant. Use the search engine to look up information. \\\n",
    "You are allowed to make multiple calls (either together or in sequence). \\\n",
    "Only look up information when you are sure of what you want. \\\n",
    "If you need to look up some information before asking a follow up question, you are allowed to do that!\n",
    "\"\"\"\n",
    "\n",
    "tool = TavilySearchResults(max_results=2)"
   ]
  },
  {
   "cell_type": "code",
   "execution_count": null,
   "id": "30ca32fd",
   "metadata": {},
   "outputs": [],
   "source": [
    "abot = Agent(chat_model, [tool], checkpointer=memory, system=prompt)"
   ]
  },
  {
   "cell_type": "code",
   "execution_count": 31,
   "id": "9a2cf752",
   "metadata": {},
   "outputs": [],
   "source": [
    "messages = [HumanMessage(content=\"What is the weather in Darmstadt, Germany?\")]"
   ]
  },
  {
   "cell_type": "code",
   "execution_count": 32,
   "id": "2313e85c",
   "metadata": {},
   "outputs": [],
   "source": [
    "thread = {\n",
    "    \"configurable\": {\"thread_id\": \"1\"}\n",
    "}"
   ]
  },
  {
   "cell_type": "code",
   "execution_count": 33,
   "id": "6e033c13",
   "metadata": {},
   "outputs": [
    {
     "name": "stdout",
     "output_type": "stream",
     "text": [
      "[AIMessage(content='', additional_kwargs={'tool_calls': [{'function': {'arguments': '{\"query\": \"current weather in Darmstadt, Germany\"}', 'name': 'tavily_search_results_json', 'description': None}, 'id': 'call_1260f4beadc84ebcac4b0a', 'type': 'function'}]}, response_metadata={'token_usage': {'completion_tokens': 30, 'prompt_tokens': 261, 'total_tokens': 291}, 'model_name': 'Qwen/Qwen3-Next-80B-A3B-Instruct', 'system_fingerprint': '', 'finish_reason': 'tool_calls', 'logprobs': None}, id='run--391e8e5b-1684-4a37-a1ef-998af1c65618-0', tool_calls=[{'name': 'tavily_search_results_json', 'args': {'query': 'current weather in Darmstadt, Germany'}, 'id': 'call_1260f4beadc84ebcac4b0a', 'type': 'tool_call'}], usage_metadata={'input_tokens': 261, 'output_tokens': 30, 'total_tokens': 291})]\n",
      "Calling: '{'name': 'tavily_search_results_json', 'args': {'query': 'current weather in Darmstadt, Germany'}, 'id': 'call_1260f4beadc84ebcac4b0a', 'type': 'tool_call'}' \n",
      "[ToolMessage(content='[{\\'title\\': \\'Weather for Darmstadt, Hesse, Germany - Time and Date\\', \\'url\\': \\'https://www.timeanddate.com/weather/germany/darmstadt\\', \\'content\\': \\'timeanddate.com\\\\nFlag for Germany\\\\n\\\\n# Weather in Darmstadt, Hesse, Germany\\\\n\\\\nPassing clouds.\\\\n\\\\nFeels Like: 61 °F  \\\\nForecast: 60 / 50 °F  \\\\nWind: 9 mph ↑ from South\\\\n\\\\n|  |  |\\\\n --- |\\\\n| Location: | Frankfurt-M-Flughafen Airport |\\\\n| Current Time: | Oct 22, 2025 at 3:38:45 pm |\\\\n| Latest Report: | Oct 22, 2025 at 3:20 pm |\\\\n| Visibility: | N/A |\\\\n| Pressure: | 29.53 \"Hg |\\\\n| Humidity: | 77% |\\\\n| Dew Point: | 54 °F |\\\\n\\\\nLocation of Darmstadt\\\\nLocation\\\\n\\\\n## Upcoming 5 hours [...] | Amount of Snow | 0.00\" | 0.00\" | 0.00\" | 0.00\" | 0.00\" | 0.00\" | 0.00\" |\\\\n|  |  |  |  |  |  |  |  |\\\\n ---  ---  ---  --- |\\\\n| \\\\\\\\ Updated Wednesday, October 22, 2025 9:42:33 am Darmstadt time - Weather by CustomWeather, © 2025 | | | | | | | | [...] 59 / 52 °F\\\\n\\\\n61 / 54 °F\\\\n\\\\n61 / 54 °F\\\\n\\\\n62 / 55 °F\\\\n\\\\n58 / 51 °F\\\\n\\\\n57 / 49 °F\\\\n\\\\nDetailed forecast for 14 days\\\\n\\\\nNeed some help?\\\\n\\\\nIllustration of a pink shield with a white heart.\\\\n\\\\n#### Love Our Site? Become a Supporter\\\\n\\\\nThe timeanddate logo\\\\n\\\\n© Time and Date AS 1995–2025\\\\n\\\\n#### Company\\\\n\\\\n#### Legal\\\\n\\\\n#### Services\\\\n\\\\n#### Sites\\\\n\\\\n#### Follow Us\\\\n\\\\n© Time and Date AS 1995–2025.\\\\nPrivacy & Terms\\', \\'score\\': 0.95089215}, {\\'title\\': \\'Darmstadt weather in October 2025 - Weather25.com\\', \\'url\\': \\'https://www.weather25.com/europe/germany/hesse/darmstadt?page=month&month=October\\', \\'content\\': \\'weather25.com\\\\nSearch\\\\nweather in Germany\\\\nRemove from your favorite locations\\\\nAdd to my locations\\\\nShare\\\\nweather in Germany\\\\n\\\\n# Darmstadt weather in October 2025\\\\n\\\\nLight rain shower\\\\nModerate rain at times\\\\nPatchy rain possible\\\\nLight rain shower\\\\nLight rain shower\\\\nLight drizzle\\\\nPatchy rain possible\\\\nPartly cloudy\\\\nPatchy rain possible\\\\nOvercast\\\\nMist\\\\nMist\\\\nLight drizzle\\\\nPatchy rain possible\\\\n\\\\n## The average weather in Darmstadt in October [...] | 26 Light rain shower 10° /7° | 27 Light drizzle 7° /6° | 28 Patchy rain possible 12° /9° | 29 Partly cloudy 13° /8° | 30 Patchy rain possible 13° /6° | 31 Overcast 14° /11° |  | [...] Light rain shower\\\\nLight drizzle\\\\nOvercast\\\\nLight rain shower\\\\nPatchy rain possible\\\\nModerate rain\\\\nLight drizzle\\\\nLight rain\\\\nLight rain\\\\nOvercast\\\\nPatchy rain possible\\\\nLight rain shower\\\\nPatchy rain possible\\\\nLight rain shower\\\\nOvercast\\\\nPatchy rain possible\\\\nOvercast\\\\nCloudy\\\\nOvercast\\\\nLight rain\\\\nPatchy rain possible\\\\nLight rain shower\\\\nModerate rain at times\\\\nPatchy rain possible\\\\nLight rain shower\\\\nLight rain shower\\\\nLight drizzle\\\\nPatchy rain possible\\\\nPartly cloudy\\\\nPatchy rain possible\\\\nOvercast\\', \\'score\\': 0.8834878}]', name='tavily_search_results_json', tool_call_id='call_1260f4beadc84ebcac4b0a')]\n",
      "[AIMessage(content='As of the latest report on October 22, 2025, the weather in Darmstadt, Germany is as follows:\\n\\n- **Conditions**: Passing clouds\\n- **Temperature**: 60°F (high) / 50°F (low)\\n- **Feels Like**: 61°F\\n- **Wind**: 9 mph from the South\\n- **Humidity**: 77%\\n- **Dew Point**: 54°F\\n- **Pressure**: 29.53 \"Hg\\n\\nThe forecast indicates partly cloudy to overcast conditions with a chance of light rain showers and patchy rain in the coming days. \\n\\nFor more detailed forecasts, you can check [Time and Date](https://www.timeanddate.com/weather/germany/darmstadt).', additional_kwargs={}, response_metadata={'token_usage': {'completion_tokens': 164, 'prompt_tokens': 1254, 'total_tokens': 1418}, 'model_name': 'Qwen/Qwen3-Next-80B-A3B-Instruct', 'system_fingerprint': '', 'finish_reason': 'stop', 'logprobs': None}, id='run--261ac48c-4146-4eb3-a9e2-10d210acebfd-0', usage_metadata={'input_tokens': 1254, 'output_tokens': 164, 'total_tokens': 1418})]\n"
     ]
    }
   ],
   "source": [
    "for event in abot.graph.stream({\"messages\": messages}, thread):\n",
    "    for v in event.values():\n",
    "        print(v['messages'])"
   ]
  },
  {
   "cell_type": "code",
   "execution_count": 34,
   "id": "96408044",
   "metadata": {},
   "outputs": [
    {
     "name": "stdout",
     "output_type": "stream",
     "text": [
      "[AIMessage(content='', additional_kwargs={'tool_calls': [{'function': {'arguments': '{\"query\": \"current weather in Munich, Germany\"}', 'name': 'tavily_search_results_json', 'description': None}, 'id': 'call_bf813d349e2549659ae22a', 'type': 'function'}]}, response_metadata={'token_usage': {'completion_tokens': 28, 'prompt_tokens': 1437, 'total_tokens': 1465}, 'model_name': 'Qwen/Qwen3-Next-80B-A3B-Instruct', 'system_fingerprint': '', 'finish_reason': 'tool_calls', 'logprobs': None}, id='run--ed49adc9-af52-474b-9b91-bcff33c5a688-0', tool_calls=[{'name': 'tavily_search_results_json', 'args': {'query': 'current weather in Munich, Germany'}, 'id': 'call_bf813d349e2549659ae22a', 'type': 'tool_call'}], usage_metadata={'input_tokens': 1437, 'output_tokens': 28, 'total_tokens': 1465})]\n",
      "Calling: '{'name': 'tavily_search_results_json', 'args': {'query': 'current weather in Munich, Germany'}, 'id': 'call_bf813d349e2549659ae22a', 'type': 'tool_call'}' \n",
      "[ToolMessage(content=\"[{'title': 'Munich weather in October 2025 - Weather25.com', 'url': 'https://www.weather25.com/europe/germany/bavaria/munich?page=month&month=October', 'content': 'weather25.com\\\\nSearch\\\\nweather in Germany\\\\nRemove from your favorite locations\\\\nAdd to my locations\\\\nShare\\\\nweather in Germany\\\\n\\\\n# Munich weather in October 2025\\\\n\\\\nLight rain\\\\nLight rain\\\\nPatchy rain possible\\\\nLight rain\\\\nPatchy rain possible\\\\nLight sleet\\\\nLight rain\\\\nPartly cloudy\\\\nOvercast\\\\nLight drizzle\\\\nClear\\\\nClear\\\\nSunny\\\\nLight drizzle\\\\n\\\\n## The average weather in Munich in October\\\\n\\\\nThe temperatures in Munich in October are quite cold with temperatures between 5°C and 14°C, warm clothes are a must. [...] | 26 Patchy rain possible 8° /5° | 27 Light sleet 6° /4° | 28 Light rain 9° /4° | 29 Partly cloudy 12° /5° | 30 Overcast 12° /2° | 31 Light drizzle 12° /9° |  | [...] | 12 Light rain shower 14° /6° | 13 Sunny 15° /7° | 14 Light rain shower 14° /6° | 15 Overcast 14° /7° | 16 Partly cloudy 14° /7° | 17 Partly cloudy 15° /7° | 18 Patchy rain possible 14° /6° |\\\\n| 19 Partly cloudy 15° /7° | 20 Partly cloudy 17° /8° | 21 Light drizzle 15° /9° | 22 Light rain 12° /10° | 23 Light rain 15° /8° | 24 Patchy rain possible 9° /4° | 25 Light rain 12° /5° |', 'score': 0.91399205}, {'title': 'Munich, Bavaria, Germany Monthly Weather - AccuWeather', 'url': 'https://www.accuweather.com/en/de/munich/80331/october-weather/178086', 'content': '# Munich, Bavaria\\\\n\\\\nMunich\\\\n\\\\nBavaria\\\\n\\\\n## Around the Globe\\\\n\\\\nAround the Globe\\\\n\\\\n### Hurricane Tracker\\\\n\\\\n### Severe Weather\\\\n\\\\n### Radar & Maps\\\\n\\\\n### News & Features\\\\n\\\\n### Astronomy\\\\n\\\\n### Business\\\\n\\\\n### Climate\\\\n\\\\n### Health\\\\n\\\\n### Recreation\\\\n\\\\n### Sports\\\\n\\\\n### Travel\\\\n\\\\n### Warnings\\\\n\\\\n### Data Suite\\\\n\\\\n### Forensics\\\\n\\\\n### Advertising\\\\n\\\\n### Superior Accuracy™\\\\n\\\\n### Video\\\\n\\\\n## Monthly\\\\n\\\\n## October\\\\n\\\\n## 2025\\\\n\\\\n## Daily\\\\n\\\\n## Temperature Graph\\\\n\\\\n## Further Ahead\\\\n\\\\nFurther Ahead\\\\n\\\\n### November 2025\\\\n\\\\n### December 2025\\\\n\\\\n### January 2026 [...] Storms to bring severe weather, flash flood threat in multiple states\\\\n\\\\n6 hours ago\\\\n\\\\nSevere Weather\\\\n\\\\nLouisiana teen dies after lightning strike, 20th death of 2025\\\\n\\\\n19 hours ago\\\\n\\\\nFeatured Stories\\\\n\\\\nTravel\\\\n\\\\nPlane makes emergency landing, pilots hear knocking on cockpit door\\\\n\\\\n21 hours ago\\\\n\\\\nWeather News\\\\n\\\\nPolar bears take over abandoned island in Russia\\\\n\\\\n1 day ago\\\\n\\\\nWeather News\\\\n\\\\nWhich season is the wettest by region?\\\\n\\\\n17 hours ago\\\\n\\\\nRecreation [...] Runner wrestles bear in Japanese woods: ‘In one bite my arm was done’\\\\n\\\\n1 day ago\\\\n\\\\nAstronomy\\\\n\\\\nSunlight on demand: the satellites that could brighten our nights\\\\n\\\\n1 day ago\\\\n\\\\n## Weather Near Munich:\\\\n\\\\n...\\\\n\\\\n...\\\\n\\\\n...', 'score': 0.56575525}]\", name='tavily_search_results_json', tool_call_id='call_bf813d349e2549659ae22a')]\n",
      "[AIMessage(content='Based on the available information for October 2025, the weather in Munich, Germany is characterized by cool temperatures and frequent precipitation:\\n\\n- **Temperature Range**: Around 5°C to 14°C (41°F to 57°F)\\n- **Conditions**: Mix of light rain, patchy rain, light drizzle, partly cloudy, and overcast skies. There is also a possibility of light sleet.\\n- **Specific Forecast (October 22, 2025)**: Light rain with temperatures around 12°C (54°F) high and 10°C (50°F) low.\\n- **General Outlook**: October in Munich is typically cool and damp, with frequent rainfall and limited sunshine. Warm clothing is recommended.\\n\\nFor more detailed and real-time updates, you can check sources like [Weather25](https://www.weather25.com/europe/germany/bavaria/munich) or [AccuWeather](https://www.accuweather.com/en/de/munich/80331/october-weather/178086).', additional_kwargs={}, response_metadata={'token_usage': {'completion_tokens': 230, 'prompt_tokens': 2384, 'total_tokens': 2614}, 'model_name': 'Qwen/Qwen3-Next-80B-A3B-Instruct', 'system_fingerprint': '', 'finish_reason': 'stop', 'logprobs': None}, id='run--5a6ed5ef-0376-4e08-a47c-264b40cfa240-0', usage_metadata={'input_tokens': 2384, 'output_tokens': 230, 'total_tokens': 2614})]\n"
     ]
    }
   ],
   "source": [
    "messages = [HumanMessage(content=\"What is the weather in Munich, Germany?\")]\n",
    "for event in abot.graph.stream({\"messages\": messages}, thread):\n",
    "    for v in event.values():\n",
    "        print(v['messages'])"
   ]
  },
  {
   "cell_type": "code",
   "execution_count": 35,
   "id": "cc3948ae",
   "metadata": {},
   "outputs": [
    {
     "name": "stdout",
     "output_type": "stream",
     "text": [
      "[AIMessage(content='Between Darmstadt and Munich, **Darmstadt** is warmer based on the current weather data for October 22, 2025:\\n\\n- **Darmstadt**:  \\n  - Temperature: ~60°F (15.5°C) high / 50°F (10°C) low  \\n  - Feels like: 61°F (16°C)\\n\\n- **Munich**:  \\n  - Temperature: ~54°F (12°C) high / 50°F (10°C) low (with light rain)  \\n\\nDarmstadt is experiencing slightly higher temperatures, particularly in its daytime highs, making it warmer than Munich at this time.', additional_kwargs={}, response_metadata={'token_usage': {'completion_tokens': 144, 'prompt_tokens': 2628, 'total_tokens': 2772}, 'model_name': 'Qwen/Qwen3-Next-80B-A3B-Instruct', 'system_fingerprint': '', 'finish_reason': 'stop', 'logprobs': None}, id='run--0fef6452-9b1a-4096-bd2b-8ad497940e2e-0', usage_metadata={'input_tokens': 2628, 'output_tokens': 144, 'total_tokens': 2772})]\n"
     ]
    }
   ],
   "source": [
    "messages = [HumanMessage(content=\"What is warmer?\")]\n",
    "for event in abot.graph.stream({\"messages\": messages}, thread):\n",
    "    for v in event.values():\n",
    "        print(v['messages'])"
   ]
  },
  {
   "cell_type": "code",
   "execution_count": 36,
   "id": "e030f352",
   "metadata": {},
   "outputs": [
    {
     "name": "stdout",
     "output_type": "stream",
     "text": [
      "[AIMessage(content=\"Could you clarify what you're comparing? For example, are you asking about temperatures in different places, materials, or conditions? Let me know so I can help!\", additional_kwargs={}, response_metadata={'token_usage': {'completion_tokens': 33, 'prompt_tokens': 254, 'total_tokens': 287}, 'model_name': 'Qwen/Qwen3-Next-80B-A3B-Instruct', 'system_fingerprint': '', 'finish_reason': 'stop', 'logprobs': None}, id='run--ab2b4a58-22f8-47c4-892a-3a3163a57b95-0', usage_metadata={'input_tokens': 254, 'output_tokens': 33, 'total_tokens': 287})]\n"
     ]
    }
   ],
   "source": [
    "messages = [HumanMessage(content=\"What is warmer?\")]\n",
    "# change thread id to see the history vanish\n",
    "thread = {\n",
    "    \"configurable\": {\"thread_id\": \"2\"}\n",
    "}\n",
    "for event in abot.graph.stream({\"messages\": messages}, thread):\n",
    "    for v in event.values():\n",
    "        print(v['messages'])"
   ]
  },
  {
   "cell_type": "markdown",
   "id": "09ab907f",
   "metadata": {},
   "source": [
    "## Streaming Tokens"
   ]
  },
  {
   "cell_type": "code",
   "execution_count": 13,
   "id": "d8ba5fcd",
   "metadata": {},
   "outputs": [],
   "source": [
    "import aiosqlite\n",
    "from langgraph.checkpoint.sqlite.aio import AsyncSqliteSaver\n",
    "\n",
    "async_conn = aiosqlite.connect(\"async_agent_memory.db\", check_same_thread=False)\n",
    "memory = AsyncSqliteSaver(async_conn)\n",
    "\n",
    "abot = Agent(chat_model, [tool], system=prompt, checkpointer=memory)"
   ]
  },
  {
   "cell_type": "code",
   "execution_count": 15,
   "id": "55e79194",
   "metadata": {},
   "outputs": [
    {
     "name": "stdout",
     "output_type": "stream",
     "text": [
      "Calling: '{'name': 'tavily_search_results_json', 'args': {'query': 'current weather in Darmstadt, Germany today'}, 'id': 'call_92e4f2badded43fb9a5c29', 'type': 'tool_call'}' \n",
      "As| of today|, October| 22,| 202|5, the weather| in Darmstadt|, Germany, is| **overcast** with| a high of |63°F (|17°C).| \n",
      "\n",
      "Tonight, conditions| will remain cloudy, with| a couple of late|-night showers expected. The low| temperature will be around 5|3°F (1|2°C). \n",
      "\n",
      "|Rain is expected to| start within the next minute|, according to the| minute-by-minute forecast.| The upcoming days will| continue to feature show|ery and windy conditions through| Thursday evening.\n",
      "\n",
      "For real|-time updates, it|'s always best to| check a live weather| service like Accu|Weather or a similar platform|.|"
     ]
    }
   ],
   "source": [
    "messages = [HumanMessage(content=\"What is the weather in Darmstadt, Germany?\")]\n",
    "thread = {\"configurable\": {\"thread_id\": \"4\"}}\n",
    "\n",
    "async for event in abot.graph.astream_events({\"messages\": messages}, thread, version=\"v1\"):\n",
    "    kind = event[\"event\"]\n",
    "    if kind == \"on_chat_model_stream\":\n",
    "        content = event[\"data\"][\"chunk\"].content\n",
    "        if content:\n",
    "            # Empty content in the context of OpenAI means\n",
    "            # that the model is asking for a tool to be invoked.\n",
    "            # So we only print non-empty content\n",
    "            print(content, end=\"|\")"
   ]
  },
  {
   "cell_type": "code",
   "execution_count": null,
   "id": "a2ad7467",
   "metadata": {},
   "outputs": [],
   "source": []
  }
 ],
 "metadata": {
  "kernelspec": {
   "display_name": "agents_experimental",
   "language": "python",
   "name": "python3"
  },
  "language_info": {
   "codemirror_mode": {
    "name": "ipython",
    "version": 3
   },
   "file_extension": ".py",
   "mimetype": "text/x-python",
   "name": "python",
   "nbconvert_exporter": "python",
   "pygments_lexer": "ipython3",
   "version": "3.12.11"
  }
 },
 "nbformat": 4,
 "nbformat_minor": 5
}
