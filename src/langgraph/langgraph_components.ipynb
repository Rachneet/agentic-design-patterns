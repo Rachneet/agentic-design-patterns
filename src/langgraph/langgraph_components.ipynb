{
 "cells": [
  {
   "cell_type": "code",
   "execution_count": 1,
   "id": "846af684",
   "metadata": {},
   "outputs": [
    {
     "data": {
      "text/plain": [
       "True"
      ]
     },
     "execution_count": 1,
     "metadata": {},
     "output_type": "execute_result"
    }
   ],
   "source": [
    "from typing import TypedDict, Annotated\n",
    "import operator\n",
    "\n",
    "from langgraph.graph import StateGraph, END\n",
    "\n",
    "from langchain_core.messages import AnyMessage, SystemMessage, HumanMessage, ToolMessage\n",
    "from langchain_huggingface import HuggingFaceEndpoint, ChatHuggingFace\n",
    "from langchain_community.tools.tavily_search import TavilySearchResults\n",
    "\n",
    "from dotenv import load_dotenv\n",
    "load_dotenv()"
   ]
  },
  {
   "cell_type": "code",
   "execution_count": 2,
   "id": "a5145521",
   "metadata": {},
   "outputs": [],
   "source": [
    "llm = HuggingFaceEndpoint(\n",
    "    repo_id=\"Qwen/Qwen3-Next-80B-A3B-Instruct\",\n",
    "    max_new_tokens=1024,\n",
    "    temperature=0,\n",
    ")\n",
    "\n",
    "chat_model = ChatHuggingFace(llm=llm)"
   ]
  },
  {
   "cell_type": "code",
   "execution_count": 4,
   "id": "0e59172b",
   "metadata": {},
   "outputs": [
    {
     "name": "stdout",
     "output_type": "stream",
     "text": [
      "<class 'langchain_community.tools.tavily_search.tool.TavilySearchResults'>\n",
      "tavily_search_results_json\n"
     ]
    },
    {
     "name": "stderr",
     "output_type": "stream",
     "text": [
      "/var/folders/nm/srw3ygl55jbgpddqwgysqjpm0000gn/T/ipykernel_27119/356220288.py:1: LangChainDeprecationWarning: The class `TavilySearchResults` was deprecated in LangChain 0.3.25 and will be removed in 1.0. An updated version of the class exists in the :class:`~langchain-tavily package and should be used instead. To use it run `pip install -U :class:`~langchain-tavily` and import as `from :class:`~langchain_tavily import TavilySearch``.\n",
      "  tool = TavilySearchResults(max_results=2)\n"
     ]
    }
   ],
   "source": [
    "tool = TavilySearchResults(max_results=2)\n",
    "print(type(tool))\n",
    "print(tool.name)"
   ]
  },
  {
   "cell_type": "code",
   "execution_count": 5,
   "id": "baf6b608",
   "metadata": {},
   "outputs": [],
   "source": [
    "class AgentState(TypedDict):\n",
    "    messages: Annotated[list[AnyMessage], operator.add]"
   ]
  },
  {
   "cell_type": "code",
   "execution_count": 18,
   "id": "4cf287a9",
   "metadata": {},
   "outputs": [],
   "source": [
    "class Agent:\n",
    "\n",
    "    def __init__(self, model, tools, system=\"\"):\n",
    "\n",
    "        self.system = system\n",
    "        graph = StateGraph(AgentState)\n",
    "\n",
    "        graph.add_node(\"llm\", self.call_model)\n",
    "        graph.add_node(\"action\", self.take_action)\n",
    "        graph.add_conditional_edges(\n",
    "            \"llm\",\n",
    "            self.exists_action,\n",
    "            {\n",
    "                True: \"action\", False: END\n",
    "            }\n",
    "        )\n",
    "        graph.add_edge(\"action\", \"llm\")\n",
    "        graph.set_entry_point(\"llm\")\n",
    "\n",
    "        self.graph = graph.compile()\n",
    "        self.tools = {t.name: t for t in tools}\n",
    "        self.model = model.bind_tools(tools)\n",
    "\n",
    "    def call_model(self, state: AgentState):\n",
    "        messages = state[\"messages\"]\n",
    "        if self.system:\n",
    "            messages = [SystemMessage(content=self.system)] + messages\n",
    "        message = self.model.invoke(messages)\n",
    "        return {\"messages\": [message]}\n",
    "\n",
    "    def take_action(self, state: AgentState):\n",
    "        tool_calls = state[\"messages\"][-1].tool_calls\n",
    "        results = []\n",
    "\n",
    "        for t in tool_calls:\n",
    "            print(f\"Calling: '{t}' \")\n",
    "            result = self.tools[t[\"name\"]].invoke(t[\"args\"])\n",
    "            results.append(ToolMessage(\n",
    "                tool_call_id=t[\"id\"], \n",
    "                name=t[\"name\"], \n",
    "                content=str(result)\n",
    "            ))\n",
    "        \n",
    "        return {\"messages\": results}\n",
    "\n",
    "    def exists_action(self, state: AgentState):\n",
    "        result = state[\"messages\"][-1]\n",
    "        return len(result.tool_calls) > 0"
   ]
  },
  {
   "cell_type": "code",
   "execution_count": 19,
   "id": "d158d0ce",
   "metadata": {},
   "outputs": [],
   "source": [
    "prompt = \"\"\"You are a smart research assistant. Use the search engine to look up information. \\\n",
    "You are allowed to make multiple calls (either together or in sequence). \\\n",
    "Only look up information when you are sure of what you want. \\\n",
    "If you need to look up some information before asking a follow up question, you are allowed to do that!\n",
    "\"\"\"\n",
    "\n",
    "abot = Agent(chat_model, [tool], system=prompt)"
   ]
  },
  {
   "cell_type": "code",
   "execution_count": 20,
   "id": "43544213",
   "metadata": {},
   "outputs": [
    {
     "data": {
      "image/png": "[encoded data removed]",
      "text/plain": [
       "<IPython.core.display.Image object>"
      ]
     },
     "metadata": {},
     "output_type": "display_data"
    }
   ],
   "source": [
    "from IPython.display import Image, display\n",
    "\n",
    "display(Image(abot.graph.get_graph().draw_mermaid_png()))"
   ]
  },
  {
   "cell_type": "code",
   "execution_count": 21,
   "id": "e15f988a",
   "metadata": {},
   "outputs": [
    {
     "name": "stdout",
     "output_type": "stream",
     "text": [
      "Calling: '{'name': 'tavily_search_results_json', 'args': {'query': 'current weather in Darmstadt, Germany'}, 'id': 'call_f5c0ad5e5fc548f99d21af', 'type': 'tool_call'}' \n"
     ]
    }
   ],
   "source": [
    "messages = [HumanMessage(content=\"What is the weather in Darmstadt, Germany?\")]\n",
    "result = abot.graph.invoke({\"messages\": messages}) # state"
   ]
  },
  {
   "cell_type": "code",
   "execution_count": 22,
   "id": "09f2eeba",
   "metadata": {},
   "outputs": [
    {
     "data": {
      "text/plain": [
       "{'messages': [HumanMessage(content='What is the weather in Darmstadt, Germany?', additional_kwargs={}, response_metadata={}),\n",
       "  AIMessage(content='', additional_kwargs={'tool_calls': [{'function': {'arguments': '{\"query\": \"current weather in Darmstadt, Germany\"}', 'name': 'tavily_search_results_json', 'description': None}, 'id': 'call_f5c0ad5e5fc548f99d21af', 'type': 'function'}]}, response_metadata={'token_usage': {'completion_tokens': 30, 'prompt_tokens': 261, 'total_tokens': 291}, 'model_name': 'Qwen/Qwen3-Next-80B-A3B-Instruct', 'system_fingerprint': '', 'finish_reason': 'tool_calls', 'logprobs': None}, id='run--501fbba6-1135-47b7-a3bc-212e0b367cec-0', tool_calls=[{'name': 'tavily_search_results_json', 'args': {'query': 'current weather in Darmstadt, Germany'}, 'id': 'call_f5c0ad5e5fc548f99d21af', 'type': 'tool_call'}], usage_metadata={'input_tokens': 261, 'output_tokens': 30, 'total_tokens': 291}),\n",
       "  ToolMessage(content='[{\\'title\\': \\'Darmstadt , Hesse, Germany Weather Forecast | AccuWeather\\', \\'url\\': \\'https://www.accuweather.com/en/de/darmstadt/64283/weather-forecast/168715\\', \\'content\\': \"# Darmstadt, Hesse\\\\n\\\\nDarmstadt\\\\n\\\\nHesse\\\\n\\\\n## Around the Globe\\\\n\\\\nAround the Globe\\\\n\\\\n### Hurricane Tracker\\\\n\\\\n### Severe Weather\\\\n\\\\n### Radar & Maps\\\\n\\\\n### News & Features\\\\n\\\\n### Astronomy\\\\n\\\\n### Business\\\\n\\\\n### Climate\\\\n\\\\n### Health\\\\n\\\\n### Recreation\\\\n\\\\n### Sports\\\\n\\\\n### Travel\\\\n\\\\n### Warnings\\\\n\\\\n### Data Suite\\\\n\\\\n### Forensics\\\\n\\\\n### Advertising\\\\n\\\\n### Superior Accuracy™\\\\n\\\\n### Video\\\\n\\\\n## Today\\\\n\\\\n## Today\\'s Weather\\\\n\\\\nWed, Oct 22\\\\n\\\\nOvercast\\\\nHi: 62°\\\\n\\\\nTonight: Cloudy and not as cool; a couple of late-night showers\\\\nLo: 53° [...] Windy; showers around early\\\\n\\\\nFri\\\\n\\\\n10/24\\\\n\\\\nWindy and cooler\\\\n\\\\nAn evening shower or two\\\\n\\\\nSat\\\\n\\\\n10/25\\\\n\\\\nBreezy; an a.m. shower or two\\\\n\\\\nA shower early; breezy\\\\n\\\\nSun\\\\n\\\\n10/26\\\\n\\\\nOccasional rain, mainly early\\\\n\\\\nPartly cloudy, a shower late\\\\n\\\\nMon\\\\n\\\\n10/27\\\\n\\\\nShowers around in the morning\\\\n\\\\nA passing shower or two\\\\n\\\\nTue\\\\n\\\\n10/28\\\\n\\\\nA couple of afternoon showers\\\\n\\\\nCloudy\\\\n\\\\nWed\\\\n\\\\n10/29\\\\n\\\\nAn a.m. shower; mostly cloudy\\\\n\\\\nPartly cloudy\\\\n\\\\nThu\\\\n\\\\n10/30\\\\n\\\\nPartly sunny\\\\n\\\\nIncreasing clouds\\\\n\\\\nFri\\\\n\\\\n10/31\\\\n\\\\nCloudy\\\\n\\\\nRain; not as cold early [...] ## Current Weather\\\\n\\\\n12:25 PM\\\\n\\\\n### MINUTECAST™\\\\n\\\\nRain starting in 46 min\\\\n\\\\n## Looking Ahead\\\\n\\\\nExpect showery weather late Wednesday night through Thursday evening\\\\n\\\\n## Darmstadt Weather Radar\\\\n\\\\nDarmstadt Weather Radar\\\\n\\\\n## Hourly Weather\\\\n\\\\nrain drop\\\\n\\\\nrain drop\\\\n\\\\nrain drop\\\\n\\\\nrain drop\\\\n\\\\nrain drop\\\\n\\\\nrain drop\\\\n\\\\nrain drop\\\\n\\\\nrain drop\\\\n\\\\nrain drop\\\\n\\\\nrain drop\\\\n\\\\nrain drop\\\\n\\\\nrain drop\\\\n\\\\n## 10-Day Weather Forecast\\\\n\\\\nToday\\\\n\\\\n10/22\\\\n\\\\nOvercast\\\\n\\\\nNight: A couple of showers late\\\\n\\\\nThu\\\\n\\\\n10/23\\\\n\\\\nA shower; windy in the p.m.\", \\'score\\': 0.73778254}, {\\'title\\': \\'Weather25 Darmstadt local weather for today, 14 days, monthly forecast\\', \\'url\\': \\'https://www.weather25.com/europe/germany/hesse/darmstadt\\', \\'content\\': \\'The current temperature in Darmstadt is °. You can find more detailed information about the weather in Darmstadt including humidity, wind, chance of rain and more on the Darmstadt current weather page.\\\\n\\\\nWeather25.com provides all the information that you need to know about the weather in Darmstadt, Germany. Stay up to date on current weather conditions which are updated every minute. [...] This page provides access to information such as the weather forecast for the next 14 days, the average weather by month, and the full hourly weather forecast for today and tomorrow.\\\\n\\\\nThe 14-day forecast lets you know the anticipated weather day by day. The average weather by month will give you an idea of weather trends in Darmstadt. For example, the weather in Darmstadt in October 2025.\\\\n\\\\nThese trends can be helpful when planning trips to Darmstadt or preparing for the weather in advance. [...] weather25.com\\\\nSearch\\\\nweather in Germany\\\\nRemove from your favorite locations\\\\nAdd to my locations\\\\nShare\\\\nweather in Germany\\\\n\\\\n# The weather in Darmstadt, Germany\\\\n\\\\n## Darmstadt weather by months\\\\n\\\\n## Darmstadt weather\\\\n\\\\n## Darmstadt 14 day weather\\\\n\\\\n## The weather today in Darmstadt\\\\n\\\\nWind Darmstadt\\\\nChance of rain\\\\nHumidity Darmstadt\\\\n\\\\n## Germany weather Darmstadt weather report\\\\n\\\\nGermany weather \\\\n\\\\nLooking for Darmstadt weather updates? You’ve come to the right place!\\', \\'score\\': 0.6141863}]', name='tavily_search_results_json', tool_call_id='call_f5c0ad5e5fc548f99d21af'),\n",
       "  AIMessage(content='The current weather in Darmstadt, Germany, as of the latest information, is overcast with a high of 62°F (approximately 17°C) and a low of 53°F (approximately 12°C). There is a chance of showers late in the night, and the weather is expected to remain cloudy with occasional rain through the upcoming days. Windy conditions are also anticipated, especially in the afternoon and evening.\\n\\nFor real-time updates, you can check live weather services like AccuWeather or Weather25.', additional_kwargs={}, response_metadata={'token_usage': {'completion_tokens': 110, 'prompt_tokens': 1288, 'total_tokens': 1398}, 'model_name': 'Qwen/Qwen3-Next-80B-A3B-Instruct', 'system_fingerprint': '', 'finish_reason': 'stop', 'logprobs': None}, id='run--85bb20a5-d33e-4743-9ff3-80d1b51d05c1-0', usage_metadata={'input_tokens': 1288, 'output_tokens': 110, 'total_tokens': 1398})]}"
      ]
     },
     "execution_count": 22,
     "metadata": {},
     "output_type": "execute_result"
    }
   ],
   "source": [
    "result"
   ]
  },
  {
   "cell_type": "code",
   "execution_count": 24,
   "id": "e55f3d0b",
   "metadata": {},
   "outputs": [
    {
     "name": "stdout",
     "output_type": "stream",
     "text": [
      "('The current weather in Darmstadt, Germany, as of the latest information, is '\n",
      " 'overcast with a high of 62°F (approximately 17°C) and a low of 53°F '\n",
      " '(approximately 12°C). There is a chance of showers late in the night, and '\n",
      " 'the weather is expected to remain cloudy with occasional rain through the '\n",
      " 'upcoming days. Windy conditions are also anticipated, especially in the '\n",
      " 'afternoon and evening.\\n'\n",
      " '\\n'\n",
      " 'For real-time updates, you can check live weather services like AccuWeather '\n",
      " 'or Weather25.')\n"
     ]
    }
   ],
   "source": [
    "from pprint import pprint\n",
    "\n",
    "pprint(result[\"messages\"][-1].content)"
   ]
  },
  {
   "cell_type": "code",
   "execution_count": 25,
   "id": "2fc9061f",
   "metadata": {},
   "outputs": [
    {
     "name": "stdout",
     "output_type": "stream",
     "text": [
      "Calling: '{'name': 'tavily_search_results_json', 'args': {'query': 'who won the Super Bowl in 2024'}, 'id': 'call_4b31fabfcc6246a2b91292', 'type': 'tool_call'}' \n",
      "Calling: '{'name': 'tavily_search_results_json', 'args': {'query': 'where is the headquarters of the Kansas City Chiefs located'}, 'id': 'call_0cd8052ffaab4177ac5d46', 'type': 'tool_call'}' \n",
      "Calling: '{'name': 'tavily_search_results_json', 'args': {'query': 'GDP of Missouri state 2024'}, 'id': 'call_c7c9d3bd7734420d9b4e9b', 'type': 'tool_call'}' \n"
     ]
    }
   ],
   "source": [
    "query = \"Who won the super bowl in 2024? In what state is the winning team headquarters located? \\\n",
    "What is the GDP of that state? Answer each question.\" \n",
    "messages = [HumanMessage(content=query)]\n",
    "\n",
    "abot = Agent(chat_model, [tool], system=prompt)\n",
    "result = abot.graph.invoke({\"messages\": messages})"
   ]
  },
  {
   "cell_type": "code",
   "execution_count": 26,
   "id": "6094e1a2",
   "metadata": {},
   "outputs": [
    {
     "name": "stdout",
     "output_type": "stream",
     "text": [
      "('The Kansas City Chiefs won the Super Bowl in 2024, defeating the San '\n",
      " 'Francisco 49ers 25-22 in overtime. \\n'\n",
      " '\\n'\n",
      " 'The headquarters of the Kansas City Chiefs is located in Missouri, '\n",
      " 'specifically at 1 Arrowhead Drive, Kansas City, Missouri.\\n'\n",
      " '\\n'\n",
      " 'As of 2024, the gross domestic product (GDP) of Missouri was $356.7 billion, '\n",
      " 'representing a 2.3% increase from 2023.')\n"
     ]
    }
   ],
   "source": [
    "pprint(result[\"messages\"][-1].content)"
   ]
  },
  {
   "cell_type": "code",
   "execution_count": null,
   "id": "553d7422",
   "metadata": {},
   "outputs": [],
   "source": []
  }
 ],
 "metadata": {
  "kernelspec": {
   "display_name": "agents_experimental",
   "language": "python",
   "name": "python3"
  },
  "language_info": {
   "codemirror_mode": {
    "name": "ipython",
    "version": 3
   },
   "file_extension": ".py",
   "mimetype": "text/x-python",
   "name": "python",
   "nbconvert_exporter": "python",
   "pygments_lexer": "ipython3",
   "version": "3.12.11"
  }
 },
 "nbformat": 4,
 "nbformat_minor": 5
}
