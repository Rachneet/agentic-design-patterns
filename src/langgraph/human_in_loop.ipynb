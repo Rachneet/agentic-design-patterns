{
 "cells": [
  {
   "cell_type": "code",
   "execution_count": 1,
   "id": "61de4a54",
   "metadata": {},
   "outputs": [
    {
     "name": "stderr",
     "output_type": "stream",
     "text": [
      "/Users/rachneet/projects/agents_experimental/.venv/lib/python3.12/site-packages/tqdm/auto.py:21: TqdmWarning: IProgress not found. Please update jupyter and ipywidgets. See https://ipywidgets.readthedocs.io/en/stable/user_install.html\n",
      "  from .autonotebook import tqdm as notebook_tqdm\n"
     ]
    },
    {
     "data": {
      "text/plain": [
       "True"
      ]
     },
     "execution_count": 1,
     "metadata": {},
     "output_type": "execute_result"
    }
   ],
   "source": [
    "from typing import TypedDict, Annotated\n",
    "import operator\n",
    "\n",
    "from langgraph.graph import StateGraph, END\n",
    "\n",
    "from langchain_core.messages import AnyMessage, SystemMessage, HumanMessage, ToolMessage\n",
    "from langchain_huggingface import HuggingFaceEndpoint, ChatHuggingFace\n",
    "from langchain_community.tools.tavily_search import TavilySearchResults\n",
    "\n",
    "from dotenv import load_dotenv\n",
    "load_dotenv()"
   ]
  },
  {
   "cell_type": "code",
   "execution_count": 49,
   "id": "b09b7847",
   "metadata": {},
   "outputs": [],
   "source": [
    "llm = HuggingFaceEndpoint(\n",
    "    repo_id=\"Qwen/Qwen3-Next-80B-A3B-Instruct\",\n",
    "    max_new_tokens=1024,\n",
    "    temperature=0,\n",
    "    provider=\"together\"\n",
    ")\n",
    "\n",
    "chat_model = ChatHuggingFace(llm=llm)"
   ]
  },
  {
   "cell_type": "code",
   "execution_count": 100,
   "id": "76ff0720",
   "metadata": {},
   "outputs": [],
   "source": [
    "import sqlite3\n",
    "from langgraph.checkpoint.sqlite import SqliteSaver\n",
    "\n",
    "# memory = SqliteSaver.from_conn_string(\":memory:\")\n",
    "conn = sqlite3.connect(\"agent_memory.db\", check_same_thread=False)\n",
    "memory = SqliteSaver(conn)"
   ]
  },
  {
   "cell_type": "code",
   "execution_count": 66,
   "id": "c9ffa73a",
   "metadata": {},
   "outputs": [],
   "source": [
    "from uuid import uuid4\n",
    "from langchain_core.messages import AnyMessage, SystemMessage, HumanMessage, AIMessage\n",
    "\n",
    "\"\"\"\n",
    "In previous examples we've annotated the `messages` state key\n",
    "with the default `operator.add` or `+` reducer, which always\n",
    "appends new messages to the end of the existing messages array.\n",
    "\n",
    "Now, to support replacing existing messages, we annotate the\n",
    "`messages` key with a customer reducer function, which replaces\n",
    "messages with the same `id`, and appends them otherwise.\n",
    "\"\"\"\n",
    "def reduce_messages(left: list[AnyMessage], right: list[AnyMessage]) -> list[AnyMessage]:\n",
    "    # assign ids to messages that don't have them\n",
    "    for message in right:\n",
    "        if not message.id:\n",
    "            message.id = str(uuid4())\n",
    "    # merge the new messages with the existing messages\n",
    "    merged = left.copy()\n",
    "    for message in right:\n",
    "        for i, existing in enumerate(merged):\n",
    "            # replace any existing messages with the same id\n",
    "            if existing.id == message.id:\n",
    "                merged[i] = message\n",
    "                break\n",
    "        else:\n",
    "            # append any new messages to the end\n",
    "            merged.append(message)\n",
    "    return merged\n",
    "\n",
    "class AgentState(TypedDict):\n",
    "    messages: Annotated[list[AnyMessage], reduce_messages]"
   ]
  },
  {
   "cell_type": "code",
   "execution_count": 67,
   "id": "5b95dda9",
   "metadata": {},
   "outputs": [],
   "source": [
    "tool = TavilySearchResults(max_results=2)"
   ]
  },
  {
   "cell_type": "code",
   "execution_count": 68,
   "id": "24c605e3",
   "metadata": {},
   "outputs": [],
   "source": [
    "class Agent:\n",
    "\n",
    "    def __init__(self, model, tools, checkpointer, system=\"\"):\n",
    "\n",
    "        self.system = system\n",
    "        graph = StateGraph(AgentState)\n",
    "\n",
    "        graph.add_node(\"llm\", self.call_model)\n",
    "        graph.add_node(\"action\", self.take_action)\n",
    "        graph.add_conditional_edges(\n",
    "            \"llm\",\n",
    "            self.exists_action,\n",
    "            {\n",
    "                True: \"action\", False: END\n",
    "            }\n",
    "        )\n",
    "        graph.add_edge(\"action\", \"llm\")\n",
    "        graph.set_entry_point(\"llm\")\n",
    "\n",
    "        self.graph = graph.compile(\n",
    "            checkpointer=checkpointer,\n",
    "            interrupt_before=[\"action\"]  # interrupt before tool call\n",
    "        )\n",
    "        self.tools = {t.name: t for t in tools}\n",
    "        self.model = model.bind_tools(tools)\n",
    "\n",
    "    def call_model(self, state: AgentState):\n",
    "        messages = state[\"messages\"]\n",
    "        if self.system:\n",
    "            messages = [SystemMessage(content=self.system)] + messages\n",
    "        message = self.model.invoke(messages)\n",
    "        return {\"messages\": [message]}\n",
    "\n",
    "    def take_action(self, state: AgentState):\n",
    "        tool_calls = state[\"messages\"][-1].tool_calls\n",
    "        results = []\n",
    "\n",
    "        for t in tool_calls:\n",
    "            print(f\"Calling: '{t}' \")\n",
    "            result = self.tools[t[\"name\"]].invoke(t[\"args\"])\n",
    "            results.append(ToolMessage(\n",
    "                tool_call_id=t[\"id\"], \n",
    "                name=t[\"name\"], \n",
    "                content=str(result)\n",
    "            ))\n",
    "        \n",
    "        return {\"messages\": results}\n",
    "\n",
    "    def exists_action(self, state: AgentState):\n",
    "        result = state[\"messages\"][-1]\n",
    "        return len(result.tool_calls) > 0"
   ]
  },
  {
   "cell_type": "code",
   "execution_count": 69,
   "id": "3962ccc6",
   "metadata": {},
   "outputs": [],
   "source": [
    "prompt = \"\"\"You are a smart research assistant. Use the search engine to look up information. \\\n",
    "You are allowed to make multiple calls (either together or in sequence). \\\n",
    "Only look up information when you are sure of what you want. \\\n",
    "If you need to look up some information before asking a follow up question, you are allowed to do that!\n",
    "\"\"\""
   ]
  },
  {
   "cell_type": "code",
   "execution_count": 70,
   "id": "5034a0aa",
   "metadata": {},
   "outputs": [],
   "source": [
    "abot = Agent(chat_model, [tool], checkpointer=memory, system=prompt)"
   ]
  },
  {
   "cell_type": "code",
   "execution_count": 71,
   "id": "d8a6c8ab",
   "metadata": {},
   "outputs": [
    {
     "name": "stdout",
     "output_type": "stream",
     "text": [
      "{'messages': [AIMessage(content='', additional_kwargs={'tool_calls': [{'function': {'arguments': '{\"query\": \"current weather in Berlin\"}', 'name': 'tavily_search_results_json', 'description': None}, 'id': 'call_c5a7e9259d6f4d6182b0603b', 'type': 'function'}]}, response_metadata={'token_usage': {'completion_tokens': 27, 'prompt_tokens': 252, 'total_tokens': 279}, 'model_name': 'Qwen/Qwen3-Next-80B-A3B-Instruct', 'system_fingerprint': None, 'finish_reason': 'tool_calls', 'logprobs': None}, id='run--e06350f9-b6bb-49ae-81ec-802518c0aa3b-0', tool_calls=[{'name': 'tavily_search_results_json', 'args': {'query': 'current weather in Berlin'}, 'id': 'call_c5a7e9259d6f4d6182b0603b', 'type': 'tool_call'}], usage_metadata={'input_tokens': 252, 'output_tokens': 27, 'total_tokens': 279})]}\n",
      "()\n"
     ]
    }
   ],
   "source": [
    "messages = [HumanMessage(content=\"What is the weather in berlin?\")]\n",
    "thread = {\n",
    "    \"configurable\": {\"thread_id\": \"1\"}\n",
    "}\n",
    "for event in abot.graph.stream({\"messages\": messages}, thread):\n",
    "    for v in event.values():\n",
    "        print(v)"
   ]
  },
  {
   "cell_type": "code",
   "execution_count": 72,
   "id": "365677c6",
   "metadata": {},
   "outputs": [
    {
     "data": {
      "text/plain": [
       "StateSnapshot(values={'messages': [HumanMessage(content='What is the weather in berlin?', additional_kwargs={}, response_metadata={}, id='881e7262-03df-49ae-a3d8-e37a49a45e6d'), AIMessage(content='', additional_kwargs={'tool_calls': [{'function': {'arguments': '{\"query\": \"current weather in Berlin\"}', 'name': 'tavily_search_results_json', 'description': None}, 'id': 'call_c5a7e9259d6f4d6182b0603b', 'type': 'function'}]}, response_metadata={'token_usage': {'completion_tokens': 27, 'prompt_tokens': 252, 'total_tokens': 279}, 'model_name': 'Qwen/Qwen3-Next-80B-A3B-Instruct', 'system_fingerprint': None, 'finish_reason': 'tool_calls', 'logprobs': None}, id='run--e06350f9-b6bb-49ae-81ec-802518c0aa3b-0', tool_calls=[{'name': 'tavily_search_results_json', 'args': {'query': 'current weather in Berlin'}, 'id': 'call_c5a7e9259d6f4d6182b0603b', 'type': 'tool_call'}], usage_metadata={'input_tokens': 252, 'output_tokens': 27, 'total_tokens': 279})]}, next=('action',), config={'configurable': {'thread_id': '1', 'checkpoint_ns': '', 'checkpoint_id': '1f0af568-321f-6cde-8001-16943595fd6e'}}, metadata={'source': 'loop', 'step': 1, 'parents': {}}, created_at='2025-10-22T14:50:55.057624+00:00', parent_config={'configurable': {'thread_id': '1', 'checkpoint_ns': '', 'checkpoint_id': '1f0af568-1eb3-6204-8000-755e145aaca6'}}, tasks=(PregelTask(id='b8392a47-5fae-9430-57ab-b333412211cd', name='action', path=('__pregel_pull', 'action'), error=None, interrupts=(), state=None, result=None),), interrupts=())"
      ]
     },
     "execution_count": 72,
     "metadata": {},
     "output_type": "execute_result"
    }
   ],
   "source": [
    "abot.graph.get_state(thread)"
   ]
  },
  {
   "cell_type": "code",
   "execution_count": 73,
   "id": "9997feb0",
   "metadata": {},
   "outputs": [
    {
     "data": {
      "text/plain": [
       "('action',)"
      ]
     },
     "execution_count": 73,
     "metadata": {},
     "output_type": "execute_result"
    }
   ],
   "source": [
    "abot.graph.get_state(thread).next"
   ]
  },
  {
   "cell_type": "markdown",
   "id": "83fcfc31",
   "metadata": {},
   "source": [
    "### continue after interrupt"
   ]
  },
  {
   "cell_type": "code",
   "execution_count": 74,
   "id": "1e488cb5",
   "metadata": {},
   "outputs": [
    {
     "name": "stdout",
     "output_type": "stream",
     "text": [
      "Calling: '{'name': 'tavily_search_results_json', 'args': {'query': 'current weather in Berlin'}, 'id': 'call_c5a7e9259d6f4d6182b0603b', 'type': 'tool_call'}' \n",
      "{'messages': [ToolMessage(content=\"[{'title': 'Berlin weather in October 2025 - Weather25.com', 'url': 'https://www.weather25.com/europe/germany/berlin?page=month&month=October', 'content': 'weather25.com\\\\nSearch\\\\nweather in Germany\\\\nRemove from your favorite locations\\\\nAdd to my locations\\\\nShare\\\\nweather in Germany\\\\n\\\\n# Berlin weather in October 2025\\\\n\\\\nLight rain shower\\\\nLight drizzle\\\\nLight drizzle\\\\nPatchy rain possible\\\\nPatchy rain possible\\\\nModerate rain\\\\nModerate rain\\\\nClear\\\\nCloudy\\\\nLight drizzle\\\\nMist\\\\nPartly cloudy\\\\nPatchy rain possible\\\\nPartly cloudy\\\\n\\\\n## The average weather in Berlin in October [...] | 26 Patchy rain possible 10° /7° | 27 Moderate rain 9° /7° | 28 Moderate rain 10° /8° | 29 Sunny 12° /7° | 30 Cloudy 12° /6° | 31 Light drizzle 13° /10° |  | [...] | Sun | Mon | Tue | Wed | Thu | Fri | Sat |\\\\n ---  ---  --- \\\\n|  |  |  | 1 Partly cloudy 17° /10° | 2 Overcast 17° /11° | 3 Partly cloudy 18° /10° | 4 Light rain 16° /10° |\\\\n| 5 Light rain shower 16° /9° | 6 Sunny 15° /10° | 7 Sunny 17° /9° | 8 Light rain 16° /9° | 9 Light rain shower 16° /9° | 10 Light rain shower 16° /10° | 11 Patchy rain possible 15° /9° |', 'score': 0.87807417}, {'title': 'Berlin, Berlin, Germany Monthly Weather - AccuWeather', 'url': 'https://www.accuweather.com/en/de/berlin/10178/october-weather/178087', 'content': '# Berlin, Berlin\\\\n\\\\nBerlin\\\\n\\\\nBerlin\\\\n\\\\n## Around the Globe\\\\n\\\\nAround the Globe\\\\n\\\\n### Hurricane Tracker\\\\n\\\\n### Severe Weather\\\\n\\\\n### Radar & Maps\\\\n\\\\n### News & Features\\\\n\\\\n### Astronomy\\\\n\\\\n### Business\\\\n\\\\n### Climate\\\\n\\\\n### Health\\\\n\\\\n### Recreation\\\\n\\\\n### Sports\\\\n\\\\n### Travel\\\\n\\\\n### Warnings\\\\n\\\\n### Data Suite\\\\n\\\\n### Forensics\\\\n\\\\n### Advertising\\\\n\\\\n### Superior Accuracy™\\\\n\\\\n### Video\\\\n\\\\n## Monthly\\\\n\\\\n## October\\\\n\\\\n## 2025\\\\n\\\\n## Daily\\\\n\\\\n## Temperature Graph\\\\n\\\\n## Further Ahead\\\\n\\\\nFurther Ahead\\\\n\\\\n### November 2025\\\\n\\\\n### December 2025\\\\n\\\\n### January 2026 [...] Storms to bring severe weather, flash flood threat in multiple states\\\\n\\\\n7 hours ago\\\\n\\\\nSevere Weather\\\\n\\\\nLouisiana teen dies after lightning strike, 20th death of 2025\\\\n\\\\n21 hours ago\\\\n\\\\nFeatured Stories\\\\n\\\\nTravel\\\\n\\\\nUnited flight’s window may have been struck by weather balloon\\\\n\\\\n59 minutes ago\\\\n\\\\nWeather News\\\\n\\\\nPolar bears take over abandoned island in Russia\\\\n\\\\n2 days ago\\\\n\\\\nWeather News\\\\n\\\\nWhich season is the wettest by region?\\\\n\\\\n18 hours ago\\\\n\\\\nRecreation [...] Runner wrestles bear in Japanese woods: ‘In one bite my arm was done’\\\\n\\\\n2 days ago\\\\n\\\\nAstronomy\\\\n\\\\nSunlight on demand: the satellites that could brighten our nights\\\\n\\\\n1 day ago\\\\n\\\\n## Weather Near Berlin:\\\\n\\\\n...\\\\n\\\\n...\\\\n\\\\n...', 'score': 0.54521364}]\", name='tavily_search_results_json', id='99c97ff7-955f-49c9-90b2-a21af701eae3', tool_call_id='call_c5a7e9259d6f4d6182b0603b')]}\n",
      "{'messages': [AIMessage(content='The provided search results contain weather forecasts for Berlin in October 2025, which is in the future and not relevant to the current date. Unfortunately, I cannot provide the real-time weather for Berlin at this moment.\\n\\nTo get the current weather in Berlin, I recommend checking a reliable weather service like AccuWeather, the Weather Channel, or a similar platform. Alternatively, you can use a weather app or search engine for up-to-date information.', additional_kwargs={}, response_metadata={'token_usage': {'completion_tokens': 92, 'prompt_tokens': 1144, 'total_tokens': 1236}, 'model_name': 'Qwen/Qwen3-Next-80B-A3B-Instruct', 'system_fingerprint': None, 'finish_reason': 'stop', 'logprobs': None}, id='run--83fa01be-5bf1-483d-b3bb-ef5099629c8c-0', usage_metadata={'input_tokens': 1144, 'output_tokens': 92, 'total_tokens': 1236})]}\n"
     ]
    }
   ],
   "source": [
    "for event in abot.graph.stream(None, thread):\n",
    "    for v in event.values():\n",
    "        print(v)"
   ]
  },
  {
   "cell_type": "code",
   "execution_count": 75,
   "id": "f18d038d",
   "metadata": {},
   "outputs": [
    {
     "data": {
      "text/plain": [
       "StateSnapshot(values={'messages': [HumanMessage(content='What is the weather in berlin?', additional_kwargs={}, response_metadata={}, id='881e7262-03df-49ae-a3d8-e37a49a45e6d'), AIMessage(content='', additional_kwargs={'tool_calls': [{'function': {'arguments': '{\"query\": \"current weather in Berlin\"}', 'name': 'tavily_search_results_json', 'description': None}, 'id': 'call_c5a7e9259d6f4d6182b0603b', 'type': 'function'}]}, response_metadata={'token_usage': {'completion_tokens': 27, 'prompt_tokens': 252, 'total_tokens': 279}, 'model_name': 'Qwen/Qwen3-Next-80B-A3B-Instruct', 'system_fingerprint': None, 'finish_reason': 'tool_calls', 'logprobs': None}, id='run--e06350f9-b6bb-49ae-81ec-802518c0aa3b-0', tool_calls=[{'name': 'tavily_search_results_json', 'args': {'query': 'current weather in Berlin'}, 'id': 'call_c5a7e9259d6f4d6182b0603b', 'type': 'tool_call'}], usage_metadata={'input_tokens': 252, 'output_tokens': 27, 'total_tokens': 279}), ToolMessage(content=\"[{'title': 'Berlin weather in October 2025 - Weather25.com', 'url': 'https://www.weather25.com/europe/germany/berlin?page=month&month=October', 'content': 'weather25.com\\\\nSearch\\\\nweather in Germany\\\\nRemove from your favorite locations\\\\nAdd to my locations\\\\nShare\\\\nweather in Germany\\\\n\\\\n# Berlin weather in October 2025\\\\n\\\\nLight rain shower\\\\nLight drizzle\\\\nLight drizzle\\\\nPatchy rain possible\\\\nPatchy rain possible\\\\nModerate rain\\\\nModerate rain\\\\nClear\\\\nCloudy\\\\nLight drizzle\\\\nMist\\\\nPartly cloudy\\\\nPatchy rain possible\\\\nPartly cloudy\\\\n\\\\n## The average weather in Berlin in October [...] | 26 Patchy rain possible 10° /7° | 27 Moderate rain 9° /7° | 28 Moderate rain 10° /8° | 29 Sunny 12° /7° | 30 Cloudy 12° /6° | 31 Light drizzle 13° /10° |  | [...] | Sun | Mon | Tue | Wed | Thu | Fri | Sat |\\\\n ---  ---  --- \\\\n|  |  |  | 1 Partly cloudy 17° /10° | 2 Overcast 17° /11° | 3 Partly cloudy 18° /10° | 4 Light rain 16° /10° |\\\\n| 5 Light rain shower 16° /9° | 6 Sunny 15° /10° | 7 Sunny 17° /9° | 8 Light rain 16° /9° | 9 Light rain shower 16° /9° | 10 Light rain shower 16° /10° | 11 Patchy rain possible 15° /9° |', 'score': 0.87807417}, {'title': 'Berlin, Berlin, Germany Monthly Weather - AccuWeather', 'url': 'https://www.accuweather.com/en/de/berlin/10178/october-weather/178087', 'content': '# Berlin, Berlin\\\\n\\\\nBerlin\\\\n\\\\nBerlin\\\\n\\\\n## Around the Globe\\\\n\\\\nAround the Globe\\\\n\\\\n### Hurricane Tracker\\\\n\\\\n### Severe Weather\\\\n\\\\n### Radar & Maps\\\\n\\\\n### News & Features\\\\n\\\\n### Astronomy\\\\n\\\\n### Business\\\\n\\\\n### Climate\\\\n\\\\n### Health\\\\n\\\\n### Recreation\\\\n\\\\n### Sports\\\\n\\\\n### Travel\\\\n\\\\n### Warnings\\\\n\\\\n### Data Suite\\\\n\\\\n### Forensics\\\\n\\\\n### Advertising\\\\n\\\\n### Superior Accuracy™\\\\n\\\\n### Video\\\\n\\\\n## Monthly\\\\n\\\\n## October\\\\n\\\\n## 2025\\\\n\\\\n## Daily\\\\n\\\\n## Temperature Graph\\\\n\\\\n## Further Ahead\\\\n\\\\nFurther Ahead\\\\n\\\\n### November 2025\\\\n\\\\n### December 2025\\\\n\\\\n### January 2026 [...] Storms to bring severe weather, flash flood threat in multiple states\\\\n\\\\n7 hours ago\\\\n\\\\nSevere Weather\\\\n\\\\nLouisiana teen dies after lightning strike, 20th death of 2025\\\\n\\\\n21 hours ago\\\\n\\\\nFeatured Stories\\\\n\\\\nTravel\\\\n\\\\nUnited flight’s window may have been struck by weather balloon\\\\n\\\\n59 minutes ago\\\\n\\\\nWeather News\\\\n\\\\nPolar bears take over abandoned island in Russia\\\\n\\\\n2 days ago\\\\n\\\\nWeather News\\\\n\\\\nWhich season is the wettest by region?\\\\n\\\\n18 hours ago\\\\n\\\\nRecreation [...] Runner wrestles bear in Japanese woods: ‘In one bite my arm was done’\\\\n\\\\n2 days ago\\\\n\\\\nAstronomy\\\\n\\\\nSunlight on demand: the satellites that could brighten our nights\\\\n\\\\n1 day ago\\\\n\\\\n## Weather Near Berlin:\\\\n\\\\n...\\\\n\\\\n...\\\\n\\\\n...', 'score': 0.54521364}]\", name='tavily_search_results_json', id='99c97ff7-955f-49c9-90b2-a21af701eae3', tool_call_id='call_c5a7e9259d6f4d6182b0603b'), AIMessage(content='The provided search results contain weather forecasts for Berlin in October 2025, which is in the future and not relevant to the current date. Unfortunately, I cannot provide the real-time weather for Berlin at this moment.\\n\\nTo get the current weather in Berlin, I recommend checking a reliable weather service like AccuWeather, the Weather Channel, or a similar platform. Alternatively, you can use a weather app or search engine for up-to-date information.', additional_kwargs={}, response_metadata={'token_usage': {'completion_tokens': 92, 'prompt_tokens': 1144, 'total_tokens': 1236}, 'model_name': 'Qwen/Qwen3-Next-80B-A3B-Instruct', 'system_fingerprint': None, 'finish_reason': 'stop', 'logprobs': None}, id='run--83fa01be-5bf1-483d-b3bb-ef5099629c8c-0', usage_metadata={'input_tokens': 1144, 'output_tokens': 92, 'total_tokens': 1236})]}, next=(), config={'configurable': {'thread_id': '1', 'checkpoint_ns': '', 'checkpoint_id': '1f0af568-ec29-6990-8003-8a2ef11156fb'}}, metadata={'source': 'loop', 'step': 3, 'parents': {}}, created_at='2025-10-22T14:51:14.565149+00:00', parent_config={'configurable': {'thread_id': '1', 'checkpoint_ns': '', 'checkpoint_id': '1f0af568-e397-60ca-8002-39b2ce3299fa'}}, tasks=(), interrupts=())"
      ]
     },
     "execution_count": 75,
     "metadata": {},
     "output_type": "execute_result"
    }
   ],
   "source": [
    "abot.graph.get_state(thread)"
   ]
  },
  {
   "cell_type": "code",
   "execution_count": 76,
   "id": "11b4be5e",
   "metadata": {},
   "outputs": [
    {
     "data": {
      "text/plain": [
       "()"
      ]
     },
     "execution_count": 76,
     "metadata": {},
     "output_type": "execute_result"
    }
   ],
   "source": [
    "abot.graph.get_state(thread).next"
   ]
  },
  {
   "cell_type": "code",
   "execution_count": 77,
   "id": "4b34330b",
   "metadata": {},
   "outputs": [
    {
     "name": "stdout",
     "output_type": "stream",
     "text": [
      "{'messages': [AIMessage(content='', additional_kwargs={'tool_calls': [{'function': {'arguments': '{\"query\": \"current weather in Los Angeles\"}', 'name': 'tavily_search_results_json', 'description': None}, 'id': 'call_20923e42804e406c9a987cb4', 'type': 'function'}]}, response_metadata={'token_usage': {'completion_tokens': 28, 'prompt_tokens': 251, 'total_tokens': 279}, 'model_name': 'Qwen/Qwen3-Next-80B-A3B-Instruct', 'system_fingerprint': None, 'finish_reason': 'tool_calls', 'logprobs': None}, id='run--abf337e6-79aa-4ae2-8ec8-074dd49acefe-0', tool_calls=[{'name': 'tavily_search_results_json', 'args': {'query': 'current weather in Los Angeles'}, 'id': 'call_20923e42804e406c9a987cb4', 'type': 'tool_call'}], usage_metadata={'input_tokens': 251, 'output_tokens': 28, 'total_tokens': 279})]}\n",
      "()\n",
      "\n",
      " StateSnapshot(values={'messages': [HumanMessage(content='Whats the weather in LA?', additional_kwargs={}, response_metadata={}, id='bf1a9a9b-3b88-4677-a1d3-9bc48368d885'), AIMessage(content='', additional_kwargs={'tool_calls': [{'function': {'arguments': '{\"query\": \"current weather in Los Angeles\"}', 'name': 'tavily_search_results_json', 'description': None}, 'id': 'call_20923e42804e406c9a987cb4', 'type': 'function'}]}, response_metadata={'token_usage': {'completion_tokens': 28, 'prompt_tokens': 251, 'total_tokens': 279}, 'model_name': 'Qwen/Qwen3-Next-80B-A3B-Instruct', 'system_fingerprint': None, 'finish_reason': 'tool_calls', 'logprobs': None}, id='run--abf337e6-79aa-4ae2-8ec8-074dd49acefe-0', tool_calls=[{'name': 'tavily_search_results_json', 'args': {'query': 'current weather in Los Angeles'}, 'id': 'call_20923e42804e406c9a987cb4', 'type': 'tool_call'}], usage_metadata={'input_tokens': 251, 'output_tokens': 28, 'total_tokens': 279})]}, next=('action',), config={'configurable': {'thread_id': '3', 'checkpoint_ns': '', 'checkpoint_id': '1f0af569-a9d5-6444-8001-35bfd81b0fb0'}}, metadata={'source': 'loop', 'step': 1, 'parents': {}}, created_at='2025-10-22T14:51:34.453540+00:00', parent_config={'configurable': {'thread_id': '3', 'checkpoint_ns': '', 'checkpoint_id': '1f0af569-6b8b-6562-8000-8e16c71f9a5c'}}, tasks=(PregelTask(id='48c56117-d29d-1bcb-8cfa-99c5e0805b28', name='action', path=('__pregel_pull', 'action'), error=None, interrupts=(), state=None, result=None),), interrupts=()) \n",
      "\n",
      "Calling: '{'name': 'tavily_search_results_json', 'args': {'query': 'current weather in Los Angeles'}, 'id': 'call_20923e42804e406c9a987cb4', 'type': 'tool_call'}' \n",
      "{'messages': [ToolMessage(content=\"[{'title': 'Weather in Los Angeles in October 2025 (California)', 'url': 'https://world-weather.info/forecast/usa/los_angeles/october-2025/', 'content': 'Weather in Los Angeles in October 2025. Los Angeles Weather Forecast for ... Wednesday, 22 October. Day. +72°. 5.1. 29.7. 59%. +59°. 07:04 am. 06:10 pm. Waxing', 'score': 0.9126935}, {'title': 'Los Angeles weather in October 2025 | Weather25.com', 'url': 'https://www.weather25.com/north-america/usa/california/los-angeles?page=month&month=October', 'content': 'weather25.com\\\\nSearch\\\\nweather in United States\\\\nRemove from your favorite locations\\\\nAdd to my locations\\\\nShare\\\\nweather in United States\\\\n\\\\n# Los Angeles weather in October 2025\\\\n\\\\nOvercast\\\\nPartly cloudy\\\\nPartly cloudy\\\\nClear\\\\nClear\\\\nClear\\\\nClear\\\\nClear\\\\nPartly cloudy\\\\nClear\\\\nClear\\\\nClear\\\\nClear\\\\nClear\\\\n\\\\n## The average weather in Los Angeles in October\\\\n\\\\nThe temperatures in Los Angeles in October are comfortable with low of 18°C and and high up to 27°C. [...] | 19 Sunny 28° /19° | 20 Sunny 28° /19° | 21 Sunny 27° /19° | 22 Overcast 25° /14° | 23 Partly cloudy 23° /15° | 24 Partly cloudy 26° /17° | 25 Sunny 27° /19° |\\\\n| 26 Sunny 24° /18° | 27 Sunny 25° /18° | 28 Sunny 30° /20° | 29 Sunny 29° /21° | 30 Partly cloudy 27° /21° | 31 Sunny 28° /20° |  | [...] | Sun | Mon | Tue | Wed | Thu | Fri | Sat |\\\\n ---  ---  --- \\\\n|  |  |  | 1 Sunny 27° /20° | 2 Sunny 28° /19° | 3 Sunny 29° /20° | 4 Partly cloudy 29° /20° |\\\\n| 5 Sunny 29° /20° | 6 Sunny 29° /20° | 7 Sunny 28° /20° | 8 Sunny 26° /19° | 9 Sunny 26° /18° | 10 Sunny 27° /19° | 11 Partly cloudy 26° /18° |\\\\n| 12 Sunny 27° /18° | 13 Sunny 25° /18° | 14 Sunny 25° /17° | 15 Sunny 26° /18° | 16 Partly cloudy 28° /19° | 17 Sunny 26° /18° | 18 Sunny 27° /18° |', 'score': 0.87605256}]\", name='tavily_search_results_json', id='71ed0a0c-18cb-472a-99eb-ce9620cfb42b', tool_call_id='call_20923e42804e406c9a987cb4')]}\n",
      "{'messages': [AIMessage(content='The provided search results show weather forecasts for Los Angeles in October 2025, which is in the future and not relevant to the current weather. Unfortunately, I cannot provide the real-time weather for Los Angeles at this moment. I recommend checking a reliable weather service like the National Weather Service, AccuWeather, or a weather app for up-to-date conditions.', additional_kwargs={}, response_metadata={'token_usage': {'completion_tokens': 75, 'prompt_tokens': 1064, 'total_tokens': 1139}, 'model_name': 'Qwen/Qwen3-Next-80B-A3B-Instruct', 'system_fingerprint': None, 'finish_reason': 'stop', 'logprobs': None}, id='run--a7a5d03e-d548-4d20-8486-6bede70450c7-0', usage_metadata={'input_tokens': 1064, 'output_tokens': 75, 'total_tokens': 1139})]}\n"
     ]
    }
   ],
   "source": [
    "messages = [HumanMessage(\"Whats the weather in LA?\")]\n",
    "thread = {\"configurable\": {\"thread_id\": \"3\"}}\n",
    "for event in abot.graph.stream({\"messages\": messages}, thread):\n",
    "    for v in event.values():\n",
    "        print(v)\n",
    "while abot.graph.get_state(thread).next:\n",
    "    print(\"\\n\", abot.graph.get_state(thread),\"\\n\")\n",
    "    _input = input(\"proceed?\")\n",
    "    if _input != \"y\":\n",
    "        print(\"aborting\")\n",
    "        break\n",
    "    for event in abot.graph.stream(None, thread):\n",
    "        for v in event.values():\n",
    "            print(v)"
   ]
  },
  {
   "cell_type": "markdown",
   "id": "8e3bbf5d",
   "metadata": {},
   "source": [
    "## Modify the state"
   ]
  },
  {
   "cell_type": "code",
   "execution_count": 78,
   "id": "6557224d",
   "metadata": {},
   "outputs": [
    {
     "name": "stdout",
     "output_type": "stream",
     "text": [
      "{'messages': [AIMessage(content='', additional_kwargs={'tool_calls': [{'function': {'arguments': '{\"query\": \"current weather in Los Angeles\"}', 'name': 'tavily_search_results_json', 'description': None}, 'id': 'call_86ca497f53b64c7a9f5e61d1', 'type': 'function'}]}, response_metadata={'token_usage': {'completion_tokens': 28, 'prompt_tokens': 251, 'total_tokens': 279}, 'model_name': 'Qwen/Qwen3-Next-80B-A3B-Instruct', 'system_fingerprint': None, 'finish_reason': 'tool_calls', 'logprobs': None}, id='run--555c4ba8-462a-466a-93db-d29467cb4cd2-0', tool_calls=[{'name': 'tavily_search_results_json', 'args': {'query': 'current weather in Los Angeles'}, 'id': 'call_86ca497f53b64c7a9f5e61d1', 'type': 'tool_call'}], usage_metadata={'input_tokens': 251, 'output_tokens': 28, 'total_tokens': 279})]}\n",
      "()\n"
     ]
    }
   ],
   "source": [
    "messages = [HumanMessage(\"Whats the weather in LA?\")]\n",
    "thread = {\"configurable\": {\"thread_id\": \"6\"}}\n",
    "for event in abot.graph.stream({\"messages\": messages}, thread):\n",
    "    for v in event.values():\n",
    "        print(v)"
   ]
  },
  {
   "cell_type": "code",
   "execution_count": 79,
   "id": "7152a008",
   "metadata": {},
   "outputs": [
    {
     "data": {
      "text/plain": [
       "StateSnapshot(values={'messages': [HumanMessage(content='Whats the weather in LA?', additional_kwargs={}, response_metadata={}, id='8f480365-4bfe-477b-b560-4c0801a5134a'), AIMessage(content='', additional_kwargs={'tool_calls': [{'function': {'arguments': '{\"query\": \"current weather in Los Angeles\"}', 'name': 'tavily_search_results_json', 'description': None}, 'id': 'call_86ca497f53b64c7a9f5e61d1', 'type': 'function'}]}, response_metadata={'token_usage': {'completion_tokens': 28, 'prompt_tokens': 251, 'total_tokens': 279}, 'model_name': 'Qwen/Qwen3-Next-80B-A3B-Instruct', 'system_fingerprint': None, 'finish_reason': 'tool_calls', 'logprobs': None}, id='run--555c4ba8-462a-466a-93db-d29467cb4cd2-0', tool_calls=[{'name': 'tavily_search_results_json', 'args': {'query': 'current weather in Los Angeles'}, 'id': 'call_86ca497f53b64c7a9f5e61d1', 'type': 'tool_call'}], usage_metadata={'input_tokens': 251, 'output_tokens': 28, 'total_tokens': 279})]}, next=('action',), config={'configurable': {'thread_id': '6', 'checkpoint_ns': '', 'checkpoint_id': '1f0af56b-5f55-649e-8001-d165a9c1f616'}}, metadata={'source': 'loop', 'step': 1, 'parents': {}}, created_at='2025-10-22T14:52:20.328752+00:00', parent_config={'configurable': {'thread_id': '6', 'checkpoint_ns': '', 'checkpoint_id': '1f0af56b-0c44-6d2c-8000-9a61255a516f'}}, tasks=(PregelTask(id='c63f7afa-020e-f33c-0b57-dcb94d1faf31', name='action', path=('__pregel_pull', 'action'), error=None, interrupts=(), state=None, result=None),), interrupts=())"
      ]
     },
     "execution_count": 79,
     "metadata": {},
     "output_type": "execute_result"
    }
   ],
   "source": [
    "abot.graph.get_state(thread)"
   ]
  },
  {
   "cell_type": "code",
   "execution_count": 80,
   "id": "61a8e008",
   "metadata": {},
   "outputs": [],
   "source": [
    "current_values = abot.graph.get_state(thread)"
   ]
  },
  {
   "cell_type": "code",
   "execution_count": 81,
   "id": "55f90670",
   "metadata": {},
   "outputs": [
    {
     "data": {
      "text/plain": [
       "AIMessage(content='', additional_kwargs={'tool_calls': [{'function': {'arguments': '{\"query\": \"current weather in Los Angeles\"}', 'name': 'tavily_search_results_json', 'description': None}, 'id': 'call_86ca497f53b64c7a9f5e61d1', 'type': 'function'}]}, response_metadata={'token_usage': {'completion_tokens': 28, 'prompt_tokens': 251, 'total_tokens': 279}, 'model_name': 'Qwen/Qwen3-Next-80B-A3B-Instruct', 'system_fingerprint': None, 'finish_reason': 'tool_calls', 'logprobs': None}, id='run--555c4ba8-462a-466a-93db-d29467cb4cd2-0', tool_calls=[{'name': 'tavily_search_results_json', 'args': {'query': 'current weather in Los Angeles'}, 'id': 'call_86ca497f53b64c7a9f5e61d1', 'type': 'tool_call'}], usage_metadata={'input_tokens': 251, 'output_tokens': 28, 'total_tokens': 279})"
      ]
     },
     "execution_count": 81,
     "metadata": {},
     "output_type": "execute_result"
    }
   ],
   "source": [
    "current_values.values['messages'][-1]"
   ]
  },
  {
   "cell_type": "code",
   "execution_count": 82,
   "id": "c53443fe",
   "metadata": {},
   "outputs": [
    {
     "data": {
      "text/plain": [
       "[{'name': 'tavily_search_results_json',\n",
       "  'args': {'query': 'current weather in Los Angeles'},\n",
       "  'id': 'call_86ca497f53b64c7a9f5e61d1',\n",
       "  'type': 'tool_call'}]"
      ]
     },
     "execution_count": 82,
     "metadata": {},
     "output_type": "execute_result"
    }
   ],
   "source": [
    "current_values.values['messages'][-1].tool_calls"
   ]
  },
  {
   "cell_type": "code",
   "execution_count": 83,
   "id": "eb9cc83f",
   "metadata": {},
   "outputs": [],
   "source": [
    "_id = current_values.values['messages'][-1].tool_calls[0]['id']\n",
    "current_values.values['messages'][-1].tool_calls = [\n",
    "    {'name': 'tavily_search_results_json',\n",
    "  'args': {'query': 'current weather in Louisiana'},\n",
    "  'id': _id}\n",
    "]"
   ]
  },
  {
   "cell_type": "code",
   "execution_count": 84,
   "id": "52dab022",
   "metadata": {},
   "outputs": [
    {
     "data": {
      "text/plain": [
       "{'configurable': {'thread_id': '6',\n",
       "  'checkpoint_ns': '',\n",
       "  'checkpoint_id': '1f0af56b-e6f1-60ba-8002-4e42fc61dc09'}}"
      ]
     },
     "execution_count": 84,
     "metadata": {},
     "output_type": "execute_result"
    }
   ],
   "source": [
    "abot.graph.update_state(thread, current_values.values)"
   ]
  },
  {
   "cell_type": "code",
   "execution_count": 85,
   "id": "ef7449f0",
   "metadata": {},
   "outputs": [
    {
     "data": {
      "text/plain": [
       "StateSnapshot(values={'messages': [HumanMessage(content='Whats the weather in LA?', additional_kwargs={}, response_metadata={}, id='8f480365-4bfe-477b-b560-4c0801a5134a'), AIMessage(content='', additional_kwargs={'tool_calls': [{'function': {'arguments': '{\"query\": \"current weather in Los Angeles\"}', 'name': 'tavily_search_results_json', 'description': None}, 'id': 'call_86ca497f53b64c7a9f5e61d1', 'type': 'function'}]}, response_metadata={'token_usage': {'completion_tokens': 28, 'prompt_tokens': 251, 'total_tokens': 279}, 'model_name': 'Qwen/Qwen3-Next-80B-A3B-Instruct', 'system_fingerprint': None, 'finish_reason': 'tool_calls', 'logprobs': None}, id='run--555c4ba8-462a-466a-93db-d29467cb4cd2-0', tool_calls=[{'name': 'tavily_search_results_json', 'args': {'query': 'current weather in Louisiana'}, 'id': 'call_86ca497f53b64c7a9f5e61d1', 'type': 'tool_call'}], usage_metadata={'input_tokens': 251, 'output_tokens': 28, 'total_tokens': 279})]}, next=('action',), config={'configurable': {'thread_id': '6', 'checkpoint_ns': '', 'checkpoint_id': '1f0af56b-e6f1-60ba-8002-4e42fc61dc09'}}, metadata={'source': 'update', 'step': 2, 'parents': {}}, created_at='2025-10-22T14:52:34.548335+00:00', parent_config={'configurable': {'thread_id': '6', 'checkpoint_ns': '', 'checkpoint_id': '1f0af56b-5f55-649e-8001-d165a9c1f616'}}, tasks=(PregelTask(id='4401c25a-ff80-db5f-dde9-535c8ac7bd7f', name='action', path=('__pregel_pull', 'action'), error=None, interrupts=(), state=None, result=None),), interrupts=())"
      ]
     },
     "execution_count": 85,
     "metadata": {},
     "output_type": "execute_result"
    }
   ],
   "source": [
    "abot.graph.get_state(thread)"
   ]
  },
  {
   "cell_type": "code",
   "execution_count": 86,
   "id": "730e8e24",
   "metadata": {},
   "outputs": [
    {
     "name": "stdout",
     "output_type": "stream",
     "text": [
      "Calling: '{'name': 'tavily_search_results_json', 'args': {'query': 'current weather in Louisiana'}, 'id': 'call_86ca497f53b64c7a9f5e61d1', 'type': 'tool_call'}' \n",
      "{'messages': [ToolMessage(content=\"[{'title': 'Louisiana weather in October 2025 - Weather25.com', 'url': 'https://www.weather25.com/north-america/usa/louisiana?page=month&month=October', 'content': 'weather25.com\\\\nSearch\\\\nweather in United States\\\\nRemove from your favorite locations\\\\nAdd to my locations\\\\nShare\\\\nweather in United States\\\\n\\\\n# Louisiana weather in October 2025\\\\n\\\\nOvercast\\\\nOvercast\\\\nOvercast\\\\nPatchy rain possible\\\\nHeavy rain\\\\nPatchy light drizzle\\\\nLight rain shower\\\\nPatchy rain possible\\\\nClear\\\\nClear\\\\nClear\\\\nClear\\\\nPatchy rain possible\\\\nClear\\\\n\\\\n## The average weather in Louisiana in October\\\\n\\\\nThe weather in Louisiana in October is hot. The average temperatures are between 20°C and 27°C. [...] | 26 Heavy rain 24° /22° | 27 Patchy light drizzle 28° /21° | 28 Light rain shower 27° /21° | 29 Patchy rain possible 22° /17° | 30 Sunny 20° /13° | 31 Sunny 20° /13° |  | [...] | 12 Partly cloudy 29° /20° | 13 Cloudy 30° /20° | 14 Partly cloudy 30° /19° | 15 Partly cloudy 29° /20° | 16 Partly cloudy 26° /18° | 17 Sunny 24° /16° | 18 Partly cloudy 24° /17° |\\\\n| 19 Cloudy 26° /17° | 20 Sunny 27° /18° | 21 Sunny 29° /19° | 22 Overcast 30° /19° | 23 Overcast 28° /19° | 24 Overcast 31° /20° | 25 Patchy rain possible 28° /21° |', 'score': 0.89053273}, {'title': 'New Orleans, LA Monthly Weather - AccuWeather', 'url': 'https://www.accuweather.com/en/us/new-orleans/70112/october-weather/348585', 'content': '# New Orleans, LA\\\\n\\\\nNew Orleans\\\\n\\\\nLouisiana\\\\n\\\\n## Around the Globe\\\\n\\\\nAround the Globe\\\\n\\\\n### Hurricane Tracker\\\\n\\\\n### Severe Weather\\\\n\\\\n### Radar & Maps\\\\n\\\\n### News & Features\\\\n\\\\n### Astronomy\\\\n\\\\n### Business\\\\n\\\\n### Climate\\\\n\\\\n### Health\\\\n\\\\n### Recreation\\\\n\\\\n### Sports\\\\n\\\\n### Travel\\\\n\\\\n### Warnings\\\\n\\\\n### Data Suite\\\\n\\\\n### Forensics\\\\n\\\\n### Advertising\\\\n\\\\n### Superior Accuracy™\\\\n\\\\n### Video\\\\n\\\\n### Winter Center\\\\n\\\\n## Monthly\\\\n\\\\n## October\\\\n\\\\n## 2025\\\\n\\\\n## Daily\\\\n\\\\n## Temperature Graph\\\\n\\\\n## Further Ahead\\\\n\\\\nFurther Ahead\\\\n\\\\n### November 2025 [...] Storms to bring severe weather, flash flood threat in multiple states\\\\n\\\\n7 hours ago\\\\n\\\\nSevere Weather\\\\n\\\\nLouisiana teen dies after lightning strike, 20th death of 2025\\\\n\\\\n21 hours ago\\\\n\\\\nFeatured Stories\\\\n\\\\nTravel\\\\n\\\\nUnited flight’s window may have been struck by weather balloon\\\\n\\\\n1 hour ago\\\\n\\\\nWeather News\\\\n\\\\nPolar bears take over abandoned island in Russia\\\\n\\\\n2 days ago\\\\n\\\\nWeather News\\\\n\\\\nWhich season is the wettest by region?\\\\n\\\\n18 hours ago\\\\n\\\\nRecreation [...] ### December 2025\\\\n\\\\n### January 2026\\\\n\\\\n## Around the Globe\\\\n\\\\nAround the Globe\\\\n\\\\n### Hurricane Tracker\\\\n\\\\n### Severe Weather\\\\n\\\\n### Radar & Maps\\\\n\\\\n### News\\\\n\\\\n### Video\\\\n\\\\n### Winter Center\\\\n\\\\nTop Stories\\\\n\\\\nHurricane\\\\n\\\\nMelissa to become a hurricane in Caribbean, pose major flooding danger\\\\n\\\\n1 hour ago\\\\n\\\\nWeather Forecasts\\\\n\\\\nNovember-like weather on the way for Great Lakes, Northeast\\\\n\\\\n5 hours ago\\\\n\\\\nSevere Weather\\\\n\\\\nOne dead, nine seriously injured after tornado strikes Paris suburb\\\\n\\\\n1 day ago\\\\n\\\\nSevere Weather', 'score': 0.43079433}]\", name='tavily_search_results_json', id='7e5c263e-1719-4692-ae2f-b2090eb26aec', tool_call_id='call_86ca497f53b64c7a9f5e61d1')]}\n",
      "{'messages': [AIMessage(content='It seems there was a mix-up in the location. You asked about the weather in **LA** (Los Angeles, California), but the search results pertain to **Louisiana (LA)**. Let me correct that and find the current weather in Los Angeles.', additional_kwargs={'tool_calls': [{'function': {'arguments': '{\"query\": \"current weather in Los Angeles, California\"}', 'name': 'tavily_search_results_json', 'description': None}, 'id': 'call_1857a223132f43be8377a5e2', 'type': 'function'}]}, response_metadata={'token_usage': {'completion_tokens': 83, 'prompt_tokens': 1261, 'total_tokens': 1344}, 'model_name': 'Qwen/Qwen3-Next-80B-A3B-Instruct', 'system_fingerprint': None, 'finish_reason': 'tool_calls', 'logprobs': None}, id='run--eccbc28a-003b-44e0-9e83-c44e5a4fd8f3-0', tool_calls=[{'name': 'tavily_search_results_json', 'args': {'query': 'current weather in Los Angeles, California'}, 'id': 'call_1857a223132f43be8377a5e2', 'type': 'tool_call'}], usage_metadata={'input_tokens': 1261, 'output_tokens': 83, 'total_tokens': 1344})]}\n",
      "()\n"
     ]
    }
   ],
   "source": [
    "for event in abot.graph.stream(None, thread):\n",
    "    for v in event.values():\n",
    "        print(v)"
   ]
  },
  {
   "cell_type": "markdown",
   "id": "34e49e07",
   "metadata": {},
   "source": [
    "## Time Travel"
   ]
  },
  {
   "cell_type": "code",
   "execution_count": 87,
   "id": "a9812fd2",
   "metadata": {},
   "outputs": [
    {
     "name": "stdout",
     "output_type": "stream",
     "text": [
      "StateSnapshot(values={'messages': [HumanMessage(content='Whats the weather in LA?', additional_kwargs={}, response_metadata={}, id='8f480365-4bfe-477b-b560-4c0801a5134a'), AIMessage(content='', additional_kwargs={'tool_calls': [{'function': {'arguments': '{\"query\": \"current weather in Los Angeles\"}', 'name': 'tavily_search_results_json', 'description': None}, 'id': 'call_86ca497f53b64c7a9f5e61d1', 'type': 'function'}]}, response_metadata={'token_usage': {'completion_tokens': 28, 'prompt_tokens': 251, 'total_tokens': 279}, 'model_name': 'Qwen/Qwen3-Next-80B-A3B-Instruct', 'system_fingerprint': None, 'finish_reason': 'tool_calls', 'logprobs': None}, id='run--555c4ba8-462a-466a-93db-d29467cb4cd2-0', tool_calls=[{'name': 'tavily_search_results_json', 'args': {'query': 'current weather in Louisiana'}, 'id': 'call_86ca497f53b64c7a9f5e61d1', 'type': 'tool_call'}], usage_metadata={'input_tokens': 251, 'output_tokens': 28, 'total_tokens': 279}), ToolMessage(content=\"[{'title': 'Louisiana weather in October 2025 - Weather25.com', 'url': 'https://www.weather25.com/north-america/usa/louisiana?page=month&month=October', 'content': 'weather25.com\\\\nSearch\\\\nweather in United States\\\\nRemove from your favorite locations\\\\nAdd to my locations\\\\nShare\\\\nweather in United States\\\\n\\\\n# Louisiana weather in October 2025\\\\n\\\\nOvercast\\\\nOvercast\\\\nOvercast\\\\nPatchy rain possible\\\\nHeavy rain\\\\nPatchy light drizzle\\\\nLight rain shower\\\\nPatchy rain possible\\\\nClear\\\\nClear\\\\nClear\\\\nClear\\\\nPatchy rain possible\\\\nClear\\\\n\\\\n## The average weather in Louisiana in October\\\\n\\\\nThe weather in Louisiana in October is hot. The average temperatures are between 20°C and 27°C. [...] | 26 Heavy rain 24° /22° | 27 Patchy light drizzle 28° /21° | 28 Light rain shower 27° /21° | 29 Patchy rain possible 22° /17° | 30 Sunny 20° /13° | 31 Sunny 20° /13° |  | [...] | 12 Partly cloudy 29° /20° | 13 Cloudy 30° /20° | 14 Partly cloudy 30° /19° | 15 Partly cloudy 29° /20° | 16 Partly cloudy 26° /18° | 17 Sunny 24° /16° | 18 Partly cloudy 24° /17° |\\\\n| 19 Cloudy 26° /17° | 20 Sunny 27° /18° | 21 Sunny 29° /19° | 22 Overcast 30° /19° | 23 Overcast 28° /19° | 24 Overcast 31° /20° | 25 Patchy rain possible 28° /21° |', 'score': 0.89053273}, {'title': 'New Orleans, LA Monthly Weather - AccuWeather', 'url': 'https://www.accuweather.com/en/us/new-orleans/70112/october-weather/348585', 'content': '# New Orleans, LA\\\\n\\\\nNew Orleans\\\\n\\\\nLouisiana\\\\n\\\\n## Around the Globe\\\\n\\\\nAround the Globe\\\\n\\\\n### Hurricane Tracker\\\\n\\\\n### Severe Weather\\\\n\\\\n### Radar & Maps\\\\n\\\\n### News & Features\\\\n\\\\n### Astronomy\\\\n\\\\n### Business\\\\n\\\\n### Climate\\\\n\\\\n### Health\\\\n\\\\n### Recreation\\\\n\\\\n### Sports\\\\n\\\\n### Travel\\\\n\\\\n### Warnings\\\\n\\\\n### Data Suite\\\\n\\\\n### Forensics\\\\n\\\\n### Advertising\\\\n\\\\n### Superior Accuracy™\\\\n\\\\n### Video\\\\n\\\\n### Winter Center\\\\n\\\\n## Monthly\\\\n\\\\n## October\\\\n\\\\n## 2025\\\\n\\\\n## Daily\\\\n\\\\n## Temperature Graph\\\\n\\\\n## Further Ahead\\\\n\\\\nFurther Ahead\\\\n\\\\n### November 2025 [...] Storms to bring severe weather, flash flood threat in multiple states\\\\n\\\\n7 hours ago\\\\n\\\\nSevere Weather\\\\n\\\\nLouisiana teen dies after lightning strike, 20th death of 2025\\\\n\\\\n21 hours ago\\\\n\\\\nFeatured Stories\\\\n\\\\nTravel\\\\n\\\\nUnited flight’s window may have been struck by weather balloon\\\\n\\\\n1 hour ago\\\\n\\\\nWeather News\\\\n\\\\nPolar bears take over abandoned island in Russia\\\\n\\\\n2 days ago\\\\n\\\\nWeather News\\\\n\\\\nWhich season is the wettest by region?\\\\n\\\\n18 hours ago\\\\n\\\\nRecreation [...] ### December 2025\\\\n\\\\n### January 2026\\\\n\\\\n## Around the Globe\\\\n\\\\nAround the Globe\\\\n\\\\n### Hurricane Tracker\\\\n\\\\n### Severe Weather\\\\n\\\\n### Radar & Maps\\\\n\\\\n### News\\\\n\\\\n### Video\\\\n\\\\n### Winter Center\\\\n\\\\nTop Stories\\\\n\\\\nHurricane\\\\n\\\\nMelissa to become a hurricane in Caribbean, pose major flooding danger\\\\n\\\\n1 hour ago\\\\n\\\\nWeather Forecasts\\\\n\\\\nNovember-like weather on the way for Great Lakes, Northeast\\\\n\\\\n5 hours ago\\\\n\\\\nSevere Weather\\\\n\\\\nOne dead, nine seriously injured after tornado strikes Paris suburb\\\\n\\\\n1 day ago\\\\n\\\\nSevere Weather', 'score': 0.43079433}]\", name='tavily_search_results_json', id='7e5c263e-1719-4692-ae2f-b2090eb26aec', tool_call_id='call_86ca497f53b64c7a9f5e61d1'), AIMessage(content='It seems there was a mix-up in the location. You asked about the weather in **LA** (Los Angeles, California), but the search results pertain to **Louisiana (LA)**. Let me correct that and find the current weather in Los Angeles.', additional_kwargs={'tool_calls': [{'function': {'arguments': '{\"query\": \"current weather in Los Angeles, California\"}', 'name': 'tavily_search_results_json', 'description': None}, 'id': 'call_1857a223132f43be8377a5e2', 'type': 'function'}]}, response_metadata={'token_usage': {'completion_tokens': 83, 'prompt_tokens': 1261, 'total_tokens': 1344}, 'model_name': 'Qwen/Qwen3-Next-80B-A3B-Instruct', 'system_fingerprint': None, 'finish_reason': 'tool_calls', 'logprobs': None}, id='run--eccbc28a-003b-44e0-9e83-c44e5a4fd8f3-0', tool_calls=[{'name': 'tavily_search_results_json', 'args': {'query': 'current weather in Los Angeles, California'}, 'id': 'call_1857a223132f43be8377a5e2', 'type': 'tool_call'}], usage_metadata={'input_tokens': 1261, 'output_tokens': 83, 'total_tokens': 1344})]}, next=('action',), config={'configurable': {'thread_id': '6', 'checkpoint_ns': '', 'checkpoint_id': '1f0af56c-73b6-6950-8004-d0d3fe73fc24'}}, metadata={'source': 'loop', 'step': 4, 'parents': {}}, created_at='2025-10-22T14:52:49.309306+00:00', parent_config={'configurable': {'thread_id': '6', 'checkpoint_ns': '', 'checkpoint_id': '1f0af56c-4e41-65c6-8003-d1c7c477f536'}}, tasks=(PregelTask(id='b6fad389-5da9-bb67-5029-aec63557bd72', name='action', path=('__pregel_pull', 'action'), error=None, interrupts=(), state=None, result=None),), interrupts=())\n",
      "--\n",
      "StateSnapshot(values={'messages': [HumanMessage(content='Whats the weather in LA?', additional_kwargs={}, response_metadata={}, id='8f480365-4bfe-477b-b560-4c0801a5134a'), AIMessage(content='', additional_kwargs={'tool_calls': [{'function': {'arguments': '{\"query\": \"current weather in Los Angeles\"}', 'name': 'tavily_search_results_json', 'description': None}, 'id': 'call_86ca497f53b64c7a9f5e61d1', 'type': 'function'}]}, response_metadata={'token_usage': {'completion_tokens': 28, 'prompt_tokens': 251, 'total_tokens': 279}, 'model_name': 'Qwen/Qwen3-Next-80B-A3B-Instruct', 'system_fingerprint': None, 'finish_reason': 'tool_calls', 'logprobs': None}, id='run--555c4ba8-462a-466a-93db-d29467cb4cd2-0', tool_calls=[{'name': 'tavily_search_results_json', 'args': {'query': 'current weather in Louisiana'}, 'id': 'call_86ca497f53b64c7a9f5e61d1', 'type': 'tool_call'}], usage_metadata={'input_tokens': 251, 'output_tokens': 28, 'total_tokens': 279}), ToolMessage(content=\"[{'title': 'Louisiana weather in October 2025 - Weather25.com', 'url': 'https://www.weather25.com/north-america/usa/louisiana?page=month&month=October', 'content': 'weather25.com\\\\nSearch\\\\nweather in United States\\\\nRemove from your favorite locations\\\\nAdd to my locations\\\\nShare\\\\nweather in United States\\\\n\\\\n# Louisiana weather in October 2025\\\\n\\\\nOvercast\\\\nOvercast\\\\nOvercast\\\\nPatchy rain possible\\\\nHeavy rain\\\\nPatchy light drizzle\\\\nLight rain shower\\\\nPatchy rain possible\\\\nClear\\\\nClear\\\\nClear\\\\nClear\\\\nPatchy rain possible\\\\nClear\\\\n\\\\n## The average weather in Louisiana in October\\\\n\\\\nThe weather in Louisiana in October is hot. The average temperatures are between 20°C and 27°C. [...] | 26 Heavy rain 24° /22° | 27 Patchy light drizzle 28° /21° | 28 Light rain shower 27° /21° | 29 Patchy rain possible 22° /17° | 30 Sunny 20° /13° | 31 Sunny 20° /13° |  | [...] | 12 Partly cloudy 29° /20° | 13 Cloudy 30° /20° | 14 Partly cloudy 30° /19° | 15 Partly cloudy 29° /20° | 16 Partly cloudy 26° /18° | 17 Sunny 24° /16° | 18 Partly cloudy 24° /17° |\\\\n| 19 Cloudy 26° /17° | 20 Sunny 27° /18° | 21 Sunny 29° /19° | 22 Overcast 30° /19° | 23 Overcast 28° /19° | 24 Overcast 31° /20° | 25 Patchy rain possible 28° /21° |', 'score': 0.89053273}, {'title': 'New Orleans, LA Monthly Weather - AccuWeather', 'url': 'https://www.accuweather.com/en/us/new-orleans/70112/october-weather/348585', 'content': '# New Orleans, LA\\\\n\\\\nNew Orleans\\\\n\\\\nLouisiana\\\\n\\\\n## Around the Globe\\\\n\\\\nAround the Globe\\\\n\\\\n### Hurricane Tracker\\\\n\\\\n### Severe Weather\\\\n\\\\n### Radar & Maps\\\\n\\\\n### News & Features\\\\n\\\\n### Astronomy\\\\n\\\\n### Business\\\\n\\\\n### Climate\\\\n\\\\n### Health\\\\n\\\\n### Recreation\\\\n\\\\n### Sports\\\\n\\\\n### Travel\\\\n\\\\n### Warnings\\\\n\\\\n### Data Suite\\\\n\\\\n### Forensics\\\\n\\\\n### Advertising\\\\n\\\\n### Superior Accuracy™\\\\n\\\\n### Video\\\\n\\\\n### Winter Center\\\\n\\\\n## Monthly\\\\n\\\\n## October\\\\n\\\\n## 2025\\\\n\\\\n## Daily\\\\n\\\\n## Temperature Graph\\\\n\\\\n## Further Ahead\\\\n\\\\nFurther Ahead\\\\n\\\\n### November 2025 [...] Storms to bring severe weather, flash flood threat in multiple states\\\\n\\\\n7 hours ago\\\\n\\\\nSevere Weather\\\\n\\\\nLouisiana teen dies after lightning strike, 20th death of 2025\\\\n\\\\n21 hours ago\\\\n\\\\nFeatured Stories\\\\n\\\\nTravel\\\\n\\\\nUnited flight’s window may have been struck by weather balloon\\\\n\\\\n1 hour ago\\\\n\\\\nWeather News\\\\n\\\\nPolar bears take over abandoned island in Russia\\\\n\\\\n2 days ago\\\\n\\\\nWeather News\\\\n\\\\nWhich season is the wettest by region?\\\\n\\\\n18 hours ago\\\\n\\\\nRecreation [...] ### December 2025\\\\n\\\\n### January 2026\\\\n\\\\n## Around the Globe\\\\n\\\\nAround the Globe\\\\n\\\\n### Hurricane Tracker\\\\n\\\\n### Severe Weather\\\\n\\\\n### Radar & Maps\\\\n\\\\n### News\\\\n\\\\n### Video\\\\n\\\\n### Winter Center\\\\n\\\\nTop Stories\\\\n\\\\nHurricane\\\\n\\\\nMelissa to become a hurricane in Caribbean, pose major flooding danger\\\\n\\\\n1 hour ago\\\\n\\\\nWeather Forecasts\\\\n\\\\nNovember-like weather on the way for Great Lakes, Northeast\\\\n\\\\n5 hours ago\\\\n\\\\nSevere Weather\\\\n\\\\nOne dead, nine seriously injured after tornado strikes Paris suburb\\\\n\\\\n1 day ago\\\\n\\\\nSevere Weather', 'score': 0.43079433}]\", name='tavily_search_results_json', id='7e5c263e-1719-4692-ae2f-b2090eb26aec', tool_call_id='call_86ca497f53b64c7a9f5e61d1')]}, next=('llm',), config={'configurable': {'thread_id': '6', 'checkpoint_ns': '', 'checkpoint_id': '1f0af56c-4e41-65c6-8003-d1c7c477f536'}}, metadata={'source': 'loop', 'step': 3, 'parents': {}}, created_at='2025-10-22T14:52:45.381554+00:00', parent_config={'configurable': {'thread_id': '6', 'checkpoint_ns': '', 'checkpoint_id': '1f0af56b-e6f1-60ba-8002-4e42fc61dc09'}}, tasks=(PregelTask(id='9aa6831d-6634-58c0-c8c4-3c77b1f93043', name='llm', path=('__pregel_pull', 'llm'), error=None, interrupts=(), state=None, result={'messages': [AIMessage(content='It seems there was a mix-up in the location. You asked about the weather in **LA** (Los Angeles, California), but the search results pertain to **Louisiana (LA)**. Let me correct that and find the current weather in Los Angeles.', additional_kwargs={'tool_calls': [{'function': {'arguments': '{\"query\": \"current weather in Los Angeles, California\"}', 'name': 'tavily_search_results_json', 'description': None}, 'id': 'call_1857a223132f43be8377a5e2', 'type': 'function'}]}, response_metadata={'token_usage': {'completion_tokens': 83, 'prompt_tokens': 1261, 'total_tokens': 1344}, 'model_name': 'Qwen/Qwen3-Next-80B-A3B-Instruct', 'system_fingerprint': None, 'finish_reason': 'tool_calls', 'logprobs': None}, id='run--eccbc28a-003b-44e0-9e83-c44e5a4fd8f3-0', tool_calls=[{'name': 'tavily_search_results_json', 'args': {'query': 'current weather in Los Angeles, California'}, 'id': 'call_1857a223132f43be8377a5e2', 'type': 'tool_call'}], usage_metadata={'input_tokens': 1261, 'output_tokens': 83, 'total_tokens': 1344})]}),), interrupts=())\n",
      "--\n",
      "StateSnapshot(values={'messages': [HumanMessage(content='Whats the weather in LA?', additional_kwargs={}, response_metadata={}, id='8f480365-4bfe-477b-b560-4c0801a5134a'), AIMessage(content='', additional_kwargs={'tool_calls': [{'function': {'arguments': '{\"query\": \"current weather in Los Angeles\"}', 'name': 'tavily_search_results_json', 'description': None}, 'id': 'call_86ca497f53b64c7a9f5e61d1', 'type': 'function'}]}, response_metadata={'token_usage': {'completion_tokens': 28, 'prompt_tokens': 251, 'total_tokens': 279}, 'model_name': 'Qwen/Qwen3-Next-80B-A3B-Instruct', 'system_fingerprint': None, 'finish_reason': 'tool_calls', 'logprobs': None}, id='run--555c4ba8-462a-466a-93db-d29467cb4cd2-0', tool_calls=[{'name': 'tavily_search_results_json', 'args': {'query': 'current weather in Louisiana'}, 'id': 'call_86ca497f53b64c7a9f5e61d1', 'type': 'tool_call'}], usage_metadata={'input_tokens': 251, 'output_tokens': 28, 'total_tokens': 279})]}, next=('action',), config={'configurable': {'thread_id': '6', 'checkpoint_ns': '', 'checkpoint_id': '1f0af56b-e6f1-60ba-8002-4e42fc61dc09'}}, metadata={'source': 'update', 'step': 2, 'parents': {}}, created_at='2025-10-22T14:52:34.548335+00:00', parent_config={'configurable': {'thread_id': '6', 'checkpoint_ns': '', 'checkpoint_id': '1f0af56b-5f55-649e-8001-d165a9c1f616'}}, tasks=(PregelTask(id='4401c25a-ff80-db5f-dde9-535c8ac7bd7f', name='action', path=('__pregel_pull', 'action'), error=None, interrupts=(), state=None, result={'messages': [ToolMessage(content=\"[{'title': 'Louisiana weather in October 2025 - Weather25.com', 'url': 'https://www.weather25.com/north-america/usa/louisiana?page=month&month=October', 'content': 'weather25.com\\\\nSearch\\\\nweather in United States\\\\nRemove from your favorite locations\\\\nAdd to my locations\\\\nShare\\\\nweather in United States\\\\n\\\\n# Louisiana weather in October 2025\\\\n\\\\nOvercast\\\\nOvercast\\\\nOvercast\\\\nPatchy rain possible\\\\nHeavy rain\\\\nPatchy light drizzle\\\\nLight rain shower\\\\nPatchy rain possible\\\\nClear\\\\nClear\\\\nClear\\\\nClear\\\\nPatchy rain possible\\\\nClear\\\\n\\\\n## The average weather in Louisiana in October\\\\n\\\\nThe weather in Louisiana in October is hot. The average temperatures are between 20°C and 27°C. [...] | 26 Heavy rain 24° /22° | 27 Patchy light drizzle 28° /21° | 28 Light rain shower 27° /21° | 29 Patchy rain possible 22° /17° | 30 Sunny 20° /13° | 31 Sunny 20° /13° |  | [...] | 12 Partly cloudy 29° /20° | 13 Cloudy 30° /20° | 14 Partly cloudy 30° /19° | 15 Partly cloudy 29° /20° | 16 Partly cloudy 26° /18° | 17 Sunny 24° /16° | 18 Partly cloudy 24° /17° |\\\\n| 19 Cloudy 26° /17° | 20 Sunny 27° /18° | 21 Sunny 29° /19° | 22 Overcast 30° /19° | 23 Overcast 28° /19° | 24 Overcast 31° /20° | 25 Patchy rain possible 28° /21° |', 'score': 0.89053273}, {'title': 'New Orleans, LA Monthly Weather - AccuWeather', 'url': 'https://www.accuweather.com/en/us/new-orleans/70112/october-weather/348585', 'content': '# New Orleans, LA\\\\n\\\\nNew Orleans\\\\n\\\\nLouisiana\\\\n\\\\n## Around the Globe\\\\n\\\\nAround the Globe\\\\n\\\\n### Hurricane Tracker\\\\n\\\\n### Severe Weather\\\\n\\\\n### Radar & Maps\\\\n\\\\n### News & Features\\\\n\\\\n### Astronomy\\\\n\\\\n### Business\\\\n\\\\n### Climate\\\\n\\\\n### Health\\\\n\\\\n### Recreation\\\\n\\\\n### Sports\\\\n\\\\n### Travel\\\\n\\\\n### Warnings\\\\n\\\\n### Data Suite\\\\n\\\\n### Forensics\\\\n\\\\n### Advertising\\\\n\\\\n### Superior Accuracy™\\\\n\\\\n### Video\\\\n\\\\n### Winter Center\\\\n\\\\n## Monthly\\\\n\\\\n## October\\\\n\\\\n## 2025\\\\n\\\\n## Daily\\\\n\\\\n## Temperature Graph\\\\n\\\\n## Further Ahead\\\\n\\\\nFurther Ahead\\\\n\\\\n### November 2025 [...] Storms to bring severe weather, flash flood threat in multiple states\\\\n\\\\n7 hours ago\\\\n\\\\nSevere Weather\\\\n\\\\nLouisiana teen dies after lightning strike, 20th death of 2025\\\\n\\\\n21 hours ago\\\\n\\\\nFeatured Stories\\\\n\\\\nTravel\\\\n\\\\nUnited flight’s window may have been struck by weather balloon\\\\n\\\\n1 hour ago\\\\n\\\\nWeather News\\\\n\\\\nPolar bears take over abandoned island in Russia\\\\n\\\\n2 days ago\\\\n\\\\nWeather News\\\\n\\\\nWhich season is the wettest by region?\\\\n\\\\n18 hours ago\\\\n\\\\nRecreation [...] ### December 2025\\\\n\\\\n### January 2026\\\\n\\\\n## Around the Globe\\\\n\\\\nAround the Globe\\\\n\\\\n### Hurricane Tracker\\\\n\\\\n### Severe Weather\\\\n\\\\n### Radar & Maps\\\\n\\\\n### News\\\\n\\\\n### Video\\\\n\\\\n### Winter Center\\\\n\\\\nTop Stories\\\\n\\\\nHurricane\\\\n\\\\nMelissa to become a hurricane in Caribbean, pose major flooding danger\\\\n\\\\n1 hour ago\\\\n\\\\nWeather Forecasts\\\\n\\\\nNovember-like weather on the way for Great Lakes, Northeast\\\\n\\\\n5 hours ago\\\\n\\\\nSevere Weather\\\\n\\\\nOne dead, nine seriously injured after tornado strikes Paris suburb\\\\n\\\\n1 day ago\\\\n\\\\nSevere Weather', 'score': 0.43079433}]\", name='tavily_search_results_json', tool_call_id='call_86ca497f53b64c7a9f5e61d1')]}),), interrupts=())\n",
      "--\n",
      "StateSnapshot(values={'messages': [HumanMessage(content='Whats the weather in LA?', additional_kwargs={}, response_metadata={}, id='8f480365-4bfe-477b-b560-4c0801a5134a'), AIMessage(content='', additional_kwargs={'tool_calls': [{'function': {'arguments': '{\"query\": \"current weather in Los Angeles\"}', 'name': 'tavily_search_results_json', 'description': None}, 'id': 'call_86ca497f53b64c7a9f5e61d1', 'type': 'function'}]}, response_metadata={'token_usage': {'completion_tokens': 28, 'prompt_tokens': 251, 'total_tokens': 279}, 'model_name': 'Qwen/Qwen3-Next-80B-A3B-Instruct', 'system_fingerprint': None, 'finish_reason': 'tool_calls', 'logprobs': None}, id='run--555c4ba8-462a-466a-93db-d29467cb4cd2-0', tool_calls=[{'name': 'tavily_search_results_json', 'args': {'query': 'current weather in Los Angeles'}, 'id': 'call_86ca497f53b64c7a9f5e61d1', 'type': 'tool_call'}], usage_metadata={'input_tokens': 251, 'output_tokens': 28, 'total_tokens': 279})]}, next=('action',), config={'configurable': {'thread_id': '6', 'checkpoint_ns': '', 'checkpoint_id': '1f0af56b-5f55-649e-8001-d165a9c1f616'}}, metadata={'source': 'loop', 'step': 1, 'parents': {}}, created_at='2025-10-22T14:52:20.328752+00:00', parent_config={'configurable': {'thread_id': '6', 'checkpoint_ns': '', 'checkpoint_id': '1f0af56b-0c44-6d2c-8000-9a61255a516f'}}, tasks=(PregelTask(id='c63f7afa-020e-f33c-0b57-dcb94d1faf31', name='action', path=('__pregel_pull', 'action'), error=None, interrupts=(), state=None, result=None),), interrupts=())\n",
      "--\n",
      "StateSnapshot(values={'messages': [HumanMessage(content='Whats the weather in LA?', additional_kwargs={}, response_metadata={}, id='8f480365-4bfe-477b-b560-4c0801a5134a')]}, next=('llm',), config={'configurable': {'thread_id': '6', 'checkpoint_ns': '', 'checkpoint_id': '1f0af56b-0c44-6d2c-8000-9a61255a516f'}}, metadata={'source': 'loop', 'step': 0, 'parents': {}}, created_at='2025-10-22T14:52:11.618838+00:00', parent_config={'configurable': {'thread_id': '6', 'checkpoint_ns': '', 'checkpoint_id': '1f0af56b-0c43-65ee-bfff-7eb2d3fc572f'}}, tasks=(PregelTask(id='60a26cee-0ad0-b660-4abb-bde33ea5f29a', name='llm', path=('__pregel_pull', 'llm'), error=None, interrupts=(), state=None, result={'messages': [AIMessage(content='', additional_kwargs={'tool_calls': [{'function': {'arguments': '{\"query\": \"current weather in Los Angeles\"}', 'name': 'tavily_search_results_json', 'description': None}, 'id': 'call_86ca497f53b64c7a9f5e61d1', 'type': 'function'}]}, response_metadata={'token_usage': {'completion_tokens': 28, 'prompt_tokens': 251, 'total_tokens': 279}, 'model_name': 'Qwen/Qwen3-Next-80B-A3B-Instruct', 'system_fingerprint': None, 'finish_reason': 'tool_calls', 'logprobs': None}, id='run--555c4ba8-462a-466a-93db-d29467cb4cd2-0', tool_calls=[{'name': 'tavily_search_results_json', 'args': {'query': 'current weather in Los Angeles'}, 'id': 'call_86ca497f53b64c7a9f5e61d1', 'type': 'tool_call'}], usage_metadata={'input_tokens': 251, 'output_tokens': 28, 'total_tokens': 279})]}),), interrupts=())\n",
      "--\n",
      "StateSnapshot(values={'messages': []}, next=('__start__',), config={'configurable': {'thread_id': '6', 'checkpoint_ns': '', 'checkpoint_id': '1f0af56b-0c43-65ee-bfff-7eb2d3fc572f'}}, metadata={'source': 'input', 'step': -1, 'parents': {}}, created_at='2025-10-22T14:52:11.618247+00:00', parent_config=None, tasks=(PregelTask(id='de9bf92b-e924-3411-cc30-08c155158290', name='__start__', path=('__pregel_pull', '__start__'), error=None, interrupts=(), state=None, result={'messages': [HumanMessage(content='Whats the weather in LA?', additional_kwargs={}, response_metadata={}, id='8f480365-4bfe-477b-b560-4c0801a5134a')]}),), interrupts=())\n",
      "--\n"
     ]
    }
   ],
   "source": [
    "states = []\n",
    "for state in abot.graph.get_state_history(thread):\n",
    "    print(state)\n",
    "    print('--')\n",
    "    states.append(state)"
   ]
  },
  {
   "cell_type": "code",
   "execution_count": 88,
   "id": "8e3a49b2",
   "metadata": {},
   "outputs": [],
   "source": [
    "to_replay = states[-1]"
   ]
  },
  {
   "cell_type": "code",
   "execution_count": 89,
   "id": "adc20a71",
   "metadata": {},
   "outputs": [
    {
     "data": {
      "text/plain": [
       "StateSnapshot(values={'messages': []}, next=('__start__',), config={'configurable': {'thread_id': '6', 'checkpoint_ns': '', 'checkpoint_id': '1f0af56b-0c43-65ee-bfff-7eb2d3fc572f'}}, metadata={'source': 'input', 'step': -1, 'parents': {}}, created_at='2025-10-22T14:52:11.618247+00:00', parent_config=None, tasks=(PregelTask(id='de9bf92b-e924-3411-cc30-08c155158290', name='__start__', path=('__pregel_pull', '__start__'), error=None, interrupts=(), state=None, result={'messages': [HumanMessage(content='Whats the weather in LA?', additional_kwargs={}, response_metadata={}, id='8f480365-4bfe-477b-b560-4c0801a5134a')]}),), interrupts=())"
      ]
     },
     "execution_count": 89,
     "metadata": {},
     "output_type": "execute_result"
    }
   ],
   "source": [
    "to_replay"
   ]
  },
  {
   "cell_type": "code",
   "execution_count": 90,
   "id": "fd4df9b0",
   "metadata": {},
   "outputs": [
    {
     "name": "stdout",
     "output_type": "stream",
     "text": [
      "{'messages': [AIMessage(content='', additional_kwargs={'tool_calls': [{'function': {'arguments': '{\"query\": \"current weather in Los Angeles\"}', 'name': 'tavily_search_results_json', 'description': None}, 'id': 'call_7f86a2cc4a19433ca412b73f', 'type': 'function'}]}, response_metadata={'token_usage': {'completion_tokens': 28, 'prompt_tokens': 251, 'total_tokens': 279}, 'model_name': 'Qwen/Qwen3-Next-80B-A3B-Instruct', 'system_fingerprint': None, 'finish_reason': 'tool_calls', 'logprobs': None}, id='run--d8eb5455-e975-4cc6-acb0-62ecef121888-0', tool_calls=[{'name': 'tavily_search_results_json', 'args': {'query': 'current weather in Los Angeles'}, 'id': 'call_7f86a2cc4a19433ca412b73f', 'type': 'tool_call'}], usage_metadata={'input_tokens': 251, 'output_tokens': 28, 'total_tokens': 279})]}\n",
      "()\n"
     ]
    }
   ],
   "source": [
    "for event in abot.graph.stream(None, to_replay.config):\n",
    "    for k, v in event.items():\n",
    "        print(v)"
   ]
  },
  {
   "cell_type": "code",
   "execution_count": 91,
   "id": "e0ea6ac8",
   "metadata": {},
   "outputs": [
    {
     "ename": "IndexError",
     "evalue": "list index out of range",
     "output_type": "error",
     "traceback": [
      "\u001b[31m---------------------------------------------------------------------------\u001b[39m",
      "\u001b[31mIndexError\u001b[39m                                Traceback (most recent call last)",
      "\u001b[36mCell\u001b[39m\u001b[36m \u001b[39m\u001b[32mIn[91]\u001b[39m\u001b[32m, line 1\u001b[39m\n\u001b[32m----> \u001b[39m\u001b[32m1\u001b[39m _id = \u001b[43mto_replay\u001b[49m\u001b[43m.\u001b[49m\u001b[43mvalues\u001b[49m\u001b[43m[\u001b[49m\u001b[33;43m'\u001b[39;49m\u001b[33;43mmessages\u001b[39;49m\u001b[33;43m'\u001b[39;49m\u001b[43m]\u001b[49m\u001b[43m[\u001b[49m\u001b[43m-\u001b[49m\u001b[32;43m1\u001b[39;49m\u001b[43m]\u001b[49m.tool_calls[\u001b[32m0\u001b[39m][\u001b[33m'\u001b[39m\u001b[33mid\u001b[39m\u001b[33m'\u001b[39m]\n\u001b[32m      2\u001b[39m to_replay.values[\u001b[33m'\u001b[39m\u001b[33mmessages\u001b[39m\u001b[33m'\u001b[39m][-\u001b[32m1\u001b[39m].tool_calls = [{\u001b[33m'\u001b[39m\u001b[33mname\u001b[39m\u001b[33m'\u001b[39m: \u001b[33m'\u001b[39m\u001b[33mtavily_search_results_json\u001b[39m\u001b[33m'\u001b[39m,\n\u001b[32m      3\u001b[39m   \u001b[33m'\u001b[39m\u001b[33margs\u001b[39m\u001b[33m'\u001b[39m: {\u001b[33m'\u001b[39m\u001b[33mquery\u001b[39m\u001b[33m'\u001b[39m: \u001b[33m'\u001b[39m\u001b[33mcurrent weather in LA, accuweather\u001b[39m\u001b[33m'\u001b[39m},\n\u001b[32m      4\u001b[39m   \u001b[33m'\u001b[39m\u001b[33mid\u001b[39m\u001b[33m'\u001b[39m: _id}]\n",
      "\u001b[31mIndexError\u001b[39m: list index out of range"
     ]
    }
   ],
   "source": [
    "_id = to_replay.values['messages'][-1].tool_calls[0]['id']\n",
    "to_replay.values['messages'][-1].tool_calls = [{'name': 'tavily_search_results_json',\n",
    "  'args': {'query': 'current weather in LA, accuweather'},\n",
    "  'id': _id}]"
   ]
  },
  {
   "cell_type": "code",
   "execution_count": null,
   "id": "a7b627ac",
   "metadata": {},
   "outputs": [],
   "source": [
    "branch_state = abot.graph.update_state(to_replay.config, to_replay.values)"
   ]
  },
  {
   "cell_type": "code",
   "execution_count": null,
   "id": "712767ab",
   "metadata": {},
   "outputs": [],
   "source": [
    "for event in abot.graph.stream(None, branch_state):\n",
    "    for k, v in event.items():\n",
    "        if k != \"__end__\":\n",
    "            print(v)"
   ]
  },
  {
   "cell_type": "markdown",
   "id": "68118fd0",
   "metadata": {},
   "source": [
    "### Add message to a state at a given time"
   ]
  },
  {
   "cell_type": "code",
   "execution_count": null,
   "id": "9e8be97c",
   "metadata": {},
   "outputs": [],
   "source": [
    "to_replay"
   ]
  },
  {
   "cell_type": "code",
   "execution_count": null,
   "id": "8b48505b",
   "metadata": {},
   "outputs": [],
   "source": [
    "_id = to_replay.values['messages'][-1].tool_calls[0]['id']"
   ]
  },
  {
   "cell_type": "code",
   "execution_count": null,
   "id": "22d9c7be",
   "metadata": {},
   "outputs": [],
   "source": [
    "state_update = {\"messages\": [ToolMessage(\n",
    "    tool_call_id=_id,\n",
    "    name=\"tavily_search_results_json\",\n",
    "    content=\"54 degree celcius\",\n",
    ")]}"
   ]
  },
  {
   "cell_type": "code",
   "execution_count": null,
   "id": "b3f8c2f2",
   "metadata": {},
   "outputs": [],
   "source": [
    "branch_and_add = abot.graph.update_state(\n",
    "    to_replay.config, \n",
    "    state_update, \n",
    "    as_node=\"action\")"
   ]
  },
  {
   "cell_type": "code",
   "execution_count": null,
   "id": "41fcd1bb",
   "metadata": {},
   "outputs": [],
   "source": [
    "for event in abot.graph.stream(None, branch_and_add):\n",
    "    for k, v in event.items():\n",
    "        print(v)"
   ]
  },
  {
   "cell_type": "markdown",
   "id": "c5bd2fcf",
   "metadata": {},
   "source": [
    "## Exercise"
   ]
  },
  {
   "cell_type": "code",
   "execution_count": 92,
   "id": "63a9f126",
   "metadata": {},
   "outputs": [],
   "source": [
    "from langgraph.graph import StateGraph, END\n",
    "from typing import TypedDict, Annotated\n",
    "import operator\n",
    "from langgraph.checkpoint.sqlite import SqliteSaver"
   ]
  },
  {
   "cell_type": "code",
   "execution_count": 93,
   "id": "84f27f1d",
   "metadata": {},
   "outputs": [],
   "source": [
    "class AgentState(TypedDict):\n",
    "    lnode: str\n",
    "    scratch: str\n",
    "    count: Annotated[int, operator.add]"
   ]
  },
  {
   "cell_type": "code",
   "execution_count": 94,
   "id": "a66c330f",
   "metadata": {},
   "outputs": [],
   "source": [
    "def node1(state: AgentState):\n",
    "    print(f\"node1, count:{state['count']}\")\n",
    "    return {\"lnode\": \"node_1\",\n",
    "            \"count\": 1,\n",
    "           }\n",
    "def node2(state: AgentState):\n",
    "    print(f\"node2, count:{state['count']}\")\n",
    "    return {\"lnode\": \"node_2\",\n",
    "            \"count\": 1,\n",
    "           }"
   ]
  },
  {
   "cell_type": "code",
   "execution_count": 95,
   "id": "ac6de036",
   "metadata": {},
   "outputs": [],
   "source": [
    "def should_continue(state):\n",
    "    return state[\"count\"] < 3"
   ]
  },
  {
   "cell_type": "code",
   "execution_count": 102,
   "id": "dad993ce",
   "metadata": {},
   "outputs": [
    {
     "data": {
      "text/plain": [
       "<langgraph.graph.state.StateGraph at 0x164001ac0>"
      ]
     },
     "execution_count": 102,
     "metadata": {},
     "output_type": "execute_result"
    }
   ],
   "source": [
    "builder = StateGraph(AgentState)\n",
    "builder.add_node(\"Node1\", node1)\n",
    "builder.add_node(\"Node2\", node2)\n",
    "\n",
    "builder.add_edge(\"Node1\", \"Node2\")\n",
    "builder.add_conditional_edges(\"Node2\", \n",
    "                              should_continue, \n",
    "                              {True: \"Node1\", False: END})\n",
    "builder.set_entry_point(\"Node1\")"
   ]
  },
  {
   "cell_type": "code",
   "execution_count": 103,
   "id": "aaece300",
   "metadata": {},
   "outputs": [],
   "source": [
    "graph = builder.compile(checkpointer=memory)"
   ]
  },
  {
   "cell_type": "code",
   "execution_count": 104,
   "id": "c5de0fd1",
   "metadata": {},
   "outputs": [
    {
     "data": {
      "image/png": "[encoded data removed]",
      "text/plain": [
       "<IPython.core.display.Image object>"
      ]
     },
     "metadata": {},
     "output_type": "display_data"
    }
   ],
   "source": [
    "from IPython.display import Image, display\n",
    "display(Image(graph.get_graph().draw_mermaid_png()))"
   ]
  },
  {
   "cell_type": "code",
   "execution_count": 105,
   "id": "57f11d00",
   "metadata": {},
   "outputs": [
    {
     "name": "stdout",
     "output_type": "stream",
     "text": [
      "node1, count:0\n",
      "node2, count:1\n",
      "node1, count:2\n",
      "node2, count:3\n"
     ]
    },
    {
     "data": {
      "text/plain": [
       "{'lnode': 'node_2', 'scratch': 'hi', 'count': 4}"
      ]
     },
     "execution_count": 105,
     "metadata": {},
     "output_type": "execute_result"
    }
   ],
   "source": [
    "thread = {\"configurable\": {\"thread_id\": str(10)}}\n",
    "graph.invoke({\"count\":0, \"scratch\":\"hi\"},thread)"
   ]
  },
  {
   "cell_type": "code",
   "execution_count": 108,
   "id": "d7ff850a",
   "metadata": {},
   "outputs": [
    {
     "name": "stdout",
     "output_type": "stream",
     "text": [
      "StateSnapshot(values={'lnode': 'node_2', 'scratch': 'hi', 'count': 4}, next=(), config={'configurable': {'thread_id': '10', 'checkpoint_ns': '', 'checkpoint_id': '1f0af580-8b12-64a0-8004-cc4be9f0053a'}}, metadata={'source': 'loop', 'step': 4, 'parents': {}}, created_at='2025-10-22T15:01:48.629516+00:00', parent_config={'configurable': {'thread_id': '10', 'checkpoint_ns': '', 'checkpoint_id': '1f0af580-8b0f-6bc4-8003-414103350bdc'}}, tasks=(), interrupts=())\n"
     ]
    }
   ],
   "source": [
    "from pprint import pprint\n",
    "\n",
    "pprint(graph.get_state(thread))"
   ]
  },
  {
   "cell_type": "code",
   "execution_count": null,
   "id": "14833d80",
   "metadata": {},
   "outputs": [
    {
     "name": "stdout",
     "output_type": "stream",
     "text": [
      "StateSnapshot(values={'lnode': 'node_2', 'scratch': 'hi', 'count': 4}, next=(), config={'configurable': {'thread_id': '10', 'checkpoint_ns': '', 'checkpoint_id': '1f0af580-8b12-64a0-8004-cc4be9f0053a'}}, metadata={'source': 'loop', 'step': 4, 'parents': {}}, created_at='2025-10-22T15:01:48.629516+00:00', parent_config={'configurable': {'thread_id': '10', 'checkpoint_ns': '', 'checkpoint_id': '1f0af580-8b0f-6bc4-8003-414103350bdc'}}, tasks=(), interrupts=()) \n",
      "\n",
      "StateSnapshot(values={'lnode': 'node_1', 'scratch': 'hi', 'count': 3}, next=('Node2',), config={'configurable': {'thread_id': '10', 'checkpoint_ns': '', 'checkpoint_id': '1f0af580-8b0f-6bc4-8003-414103350bdc'}}, metadata={'source': 'loop', 'step': 3, 'parents': {}}, created_at='2025-10-22T15:01:48.628469+00:00', parent_config={'configurable': {'thread_id': '10', 'checkpoint_ns': '', 'checkpoint_id': '1f0af580-8b0e-6148-8002-261444c6e79b'}}, tasks=(PregelTask(id='bb50774d-807d-a11e-317f-49be7bd585fa', name='Node2', path=('__pregel_pull', 'Node2'), error=None, interrupts=(), state=None, result={'lnode': 'node_2', 'count': 1}),), interrupts=()) \n",
      "\n",
      "StateSnapshot(values={'lnode': 'node_2', 'scratch': 'hi', 'count': 2}, next=('Node1',), config={'configurable': {'thread_id': '10', 'checkpoint_ns': '', 'checkpoint_id': '1f0af580-8b0e-6148-8002-261444c6e79b'}}, metadata={'source': 'loop', 'step': 2, 'parents': {}}, created_at='2025-10-22T15:01:48.627790+00:00', parent_config={'configurable': {'thread_id': '10', 'checkpoint_ns': '', 'checkpoint_id': '1f0af580-8b0a-666a-8001-68aa036799db'}}, tasks=(PregelTask(id='a7b67048-d672-ac46-44f5-b8cf71c6d091', name='Node1', path=('__pregel_pull', 'Node1'), error=None, interrupts=(), state=None, result={'lnode': 'node_1', 'count': 1}),), interrupts=()) \n",
      "\n",
      "StateSnapshot(values={'lnode': 'node_1', 'scratch': 'hi', 'count': 1}, next=('Node2',), config={'configurable': {'thread_id': '10', 'checkpoint_ns': '', 'checkpoint_id': '1f0af580-8b0a-666a-8001-68aa036799db'}}, metadata={'source': 'loop', 'step': 1, 'parents': {}}, created_at='2025-10-22T15:01:48.626276+00:00', parent_config={'configurable': {'thread_id': '10', 'checkpoint_ns': '', 'checkpoint_id': '1f0af580-8b08-646e-8000-4b2a10ecdfe0'}}, tasks=(PregelTask(id='48ade508-c1e9-1bbd-2c2d-6049defe7d60', name='Node2', path=('__pregel_pull', 'Node2'), error=None, interrupts=(), state=None, result={'lnode': 'node_2', 'count': 1}),), interrupts=()) \n",
      "\n",
      "StateSnapshot(values={'scratch': 'hi', 'count': 0}, next=('Node1',), config={'configurable': {'thread_id': '10', 'checkpoint_ns': '', 'checkpoint_id': '1f0af580-8b08-646e-8000-4b2a10ecdfe0'}}, metadata={'source': 'loop', 'step': 0, 'parents': {}}, created_at='2025-10-22T15:01:48.625413+00:00', parent_config={'configurable': {'thread_id': '10', 'checkpoint_ns': '', 'checkpoint_id': '1f0af580-8b07-60c8-bfff-5188b29e5fcf'}}, tasks=(PregelTask(id='bd1d28e4-5969-cfb4-0ebb-63c57fa826c6', name='Node1', path=('__pregel_pull', 'Node1'), error=None, interrupts=(), state=None, result={'lnode': 'node_1', 'count': 1}),), interrupts=()) \n",
      "\n",
      "StateSnapshot(values={'count': 0}, next=('__start__',), config={'configurable': {'thread_id': '10', 'checkpoint_ns': '', 'checkpoint_id': '1f0af580-8b07-60c8-bfff-5188b29e5fcf'}}, metadata={'source': 'input', 'step': -1, 'parents': {}}, created_at='2025-10-22T15:01:48.624911+00:00', parent_config=None, tasks=(PregelTask(id='37c5a494-f999-5974-d8de-8cec4c226bec', name='__start__', path=('__pregel_pull', '__start__'), error=None, interrupts=(), state=None, result={'count': 0, 'scratch': 'hi'}),), interrupts=()) \n",
      "\n"
     ]
    }
   ],
   "source": [
    "# look at the state history\n",
    "\n",
    "for state in graph.get_state_history(thread):\n",
    "    print(state, \"\\n\")"
   ]
  },
  {
   "cell_type": "code",
   "execution_count": 110,
   "id": "630343ab",
   "metadata": {},
   "outputs": [
    {
     "name": "stdout",
     "output_type": "stream",
     "text": [
      "{'configurable': {'thread_id': '10', 'checkpoint_ns': '', 'checkpoint_id': '1f0af580-8b12-64a0-8004-cc4be9f0053a'}} 4\n",
      "{'configurable': {'thread_id': '10', 'checkpoint_ns': '', 'checkpoint_id': '1f0af580-8b0f-6bc4-8003-414103350bdc'}} 3\n",
      "{'configurable': {'thread_id': '10', 'checkpoint_ns': '', 'checkpoint_id': '1f0af580-8b0e-6148-8002-261444c6e79b'}} 2\n",
      "{'configurable': {'thread_id': '10', 'checkpoint_ns': '', 'checkpoint_id': '1f0af580-8b0a-666a-8001-68aa036799db'}} 1\n",
      "{'configurable': {'thread_id': '10', 'checkpoint_ns': '', 'checkpoint_id': '1f0af580-8b08-646e-8000-4b2a10ecdfe0'}} 0\n",
      "{'configurable': {'thread_id': '10', 'checkpoint_ns': '', 'checkpoint_id': '1f0af580-8b07-60c8-bfff-5188b29e5fcf'}} 0\n"
     ]
    }
   ],
   "source": [
    "states = []\n",
    "for state in graph.get_state_history(thread):\n",
    "    states.append(state.config)\n",
    "    print(state.config, state.values['count'])"
   ]
  },
  {
   "cell_type": "code",
   "execution_count": 111,
   "id": "4d1eabd4",
   "metadata": {},
   "outputs": [
    {
     "data": {
      "text/plain": [
       "{'configurable': {'thread_id': '10',\n",
       "  'checkpoint_ns': '',\n",
       "  'checkpoint_id': '1f0af580-8b0a-666a-8001-68aa036799db'}}"
      ]
     },
     "execution_count": 111,
     "metadata": {},
     "output_type": "execute_result"
    }
   ],
   "source": [
    "states[-3]"
   ]
  },
  {
   "cell_type": "code",
   "execution_count": 112,
   "id": "35cce8e0",
   "metadata": {},
   "outputs": [
    {
     "data": {
      "text/plain": [
       "StateSnapshot(values={'lnode': 'node_1', 'scratch': 'hi', 'count': 1}, next=('Node2',), config={'configurable': {'thread_id': '10', 'checkpoint_ns': '', 'checkpoint_id': '1f0af580-8b0a-666a-8001-68aa036799db'}}, metadata={'source': 'loop', 'step': 1, 'parents': {}}, created_at='2025-10-22T15:01:48.626276+00:00', parent_config={'configurable': {'thread_id': '10', 'checkpoint_ns': '', 'checkpoint_id': '1f0af580-8b08-646e-8000-4b2a10ecdfe0'}}, tasks=(PregelTask(id='48ade508-c1e9-1bbd-2c2d-6049defe7d60', name='Node2', path=('__pregel_pull', 'Node2'), error=None, interrupts=(), state=None, result={'lnode': 'node_2', 'count': 1}),), interrupts=())"
      ]
     },
     "execution_count": 112,
     "metadata": {},
     "output_type": "execute_result"
    }
   ],
   "source": [
    "graph.get_state(states[-3])"
   ]
  },
  {
   "cell_type": "markdown",
   "id": "e6514411",
   "metadata": {},
   "source": [
    "### go back in time"
   ]
  },
  {
   "cell_type": "code",
   "execution_count": 113,
   "id": "55d32f00",
   "metadata": {},
   "outputs": [
    {
     "name": "stdout",
     "output_type": "stream",
     "text": [
      "node2, count:1\n",
      "node1, count:2\n",
      "node2, count:3\n"
     ]
    },
    {
     "data": {
      "text/plain": [
       "{'lnode': 'node_2', 'scratch': 'hi', 'count': 4}"
      ]
     },
     "execution_count": 113,
     "metadata": {},
     "output_type": "execute_result"
    }
   ],
   "source": [
    "graph.invoke(None, states[-3])"
   ]
  },
  {
   "cell_type": "code",
   "execution_count": 114,
   "id": "3b1f386c",
   "metadata": {},
   "outputs": [
    {
     "name": "stdout",
     "output_type": "stream",
     "text": [
      "{'configurable': {'thread_id': '10', 'checkpoint_ns': '', 'checkpoint_id': '1f0af589-ce1f-6974-8004-1fe53048fda9'}} 4\n",
      "{'configurable': {'thread_id': '10', 'checkpoint_ns': '', 'checkpoint_id': '1f0af589-ce1d-675a-8003-9e800d8345c4'}} 3\n",
      "{'configurable': {'thread_id': '10', 'checkpoint_ns': '', 'checkpoint_id': '1f0af589-ce1b-6aea-8002-8347c684d472'}} 2\n",
      "{'configurable': {'thread_id': '10', 'checkpoint_ns': '', 'checkpoint_id': '1f0af580-8b12-64a0-8004-cc4be9f0053a'}} 4\n",
      "{'configurable': {'thread_id': '10', 'checkpoint_ns': '', 'checkpoint_id': '1f0af580-8b0f-6bc4-8003-414103350bdc'}} 3\n",
      "{'configurable': {'thread_id': '10', 'checkpoint_ns': '', 'checkpoint_id': '1f0af580-8b0e-6148-8002-261444c6e79b'}} 2\n",
      "{'configurable': {'thread_id': '10', 'checkpoint_ns': '', 'checkpoint_id': '1f0af580-8b0a-666a-8001-68aa036799db'}} 1\n",
      "{'configurable': {'thread_id': '10', 'checkpoint_ns': '', 'checkpoint_id': '1f0af580-8b08-646e-8000-4b2a10ecdfe0'}} 0\n",
      "{'configurable': {'thread_id': '10', 'checkpoint_ns': '', 'checkpoint_id': '1f0af580-8b07-60c8-bfff-5188b29e5fcf'}} 0\n"
     ]
    }
   ],
   "source": [
    "thread = {\"configurable\": {\"thread_id\": str(10)}}\n",
    "for state in graph.get_state_history(thread):\n",
    "    print(state.config, state.values['count'])"
   ]
  },
  {
   "cell_type": "markdown",
   "id": "48631b67",
   "metadata": {},
   "source": [
    "You can see the details below. Lots of text, but try to find the node that start the new branch. Notice the parent config is not the previous entry in the stack, but is the entry from state[-3]."
   ]
  },
  {
   "cell_type": "code",
   "execution_count": 115,
   "id": "2a7b6218",
   "metadata": {},
   "outputs": [
    {
     "name": "stdout",
     "output_type": "stream",
     "text": [
      "StateSnapshot(values={'lnode': 'node_2', 'scratch': 'hi', 'count': 4}, next=(), config={'configurable': {'thread_id': '10', 'checkpoint_ns': '', 'checkpoint_id': '1f0af589-ce1f-6974-8004-1fe53048fda9'}}, metadata={'source': 'loop', 'step': 4, 'parents': {}}, created_at='2025-10-22T15:05:57.252334+00:00', parent_config={'configurable': {'thread_id': '10', 'checkpoint_ns': '', 'checkpoint_id': '1f0af589-ce1d-675a-8003-9e800d8345c4'}}, tasks=(), interrupts=()) \n",
      "\n",
      "StateSnapshot(values={'lnode': 'node_1', 'scratch': 'hi', 'count': 3}, next=('Node2',), config={'configurable': {'thread_id': '10', 'checkpoint_ns': '', 'checkpoint_id': '1f0af589-ce1d-675a-8003-9e800d8345c4'}}, metadata={'source': 'loop', 'step': 3, 'parents': {}}, created_at='2025-10-22T15:05:57.251461+00:00', parent_config={'configurable': {'thread_id': '10', 'checkpoint_ns': '', 'checkpoint_id': '1f0af589-ce1b-6aea-8002-8347c684d472'}}, tasks=(PregelTask(id='cb4a1c29-f980-a948-70ce-b920e2564789', name='Node2', path=('__pregel_pull', 'Node2'), error=None, interrupts=(), state=None, result={'lnode': 'node_2', 'count': 1}),), interrupts=()) \n",
      "\n",
      "StateSnapshot(values={'lnode': 'node_2', 'scratch': 'hi', 'count': 2}, next=('Node1',), config={'configurable': {'thread_id': '10', 'checkpoint_ns': '', 'checkpoint_id': '1f0af589-ce1b-6aea-8002-8347c684d472'}}, metadata={'source': 'loop', 'step': 2, 'parents': {}}, created_at='2025-10-22T15:05:57.250728+00:00', parent_config={'configurable': {'thread_id': '10', 'checkpoint_ns': '', 'checkpoint_id': '1f0af580-8b0a-666a-8001-68aa036799db'}}, tasks=(PregelTask(id='abaade22-8b68-f60d-fd58-1d67cd296236', name='Node1', path=('__pregel_pull', 'Node1'), error=None, interrupts=(), state=None, result={'lnode': 'node_1', 'count': 1}),), interrupts=()) \n",
      "\n",
      "StateSnapshot(values={'lnode': 'node_2', 'scratch': 'hi', 'count': 4}, next=(), config={'configurable': {'thread_id': '10', 'checkpoint_ns': '', 'checkpoint_id': '1f0af580-8b12-64a0-8004-cc4be9f0053a'}}, metadata={'source': 'loop', 'step': 4, 'parents': {}}, created_at='2025-10-22T15:01:48.629516+00:00', parent_config={'configurable': {'thread_id': '10', 'checkpoint_ns': '', 'checkpoint_id': '1f0af580-8b0f-6bc4-8003-414103350bdc'}}, tasks=(), interrupts=()) \n",
      "\n",
      "StateSnapshot(values={'lnode': 'node_1', 'scratch': 'hi', 'count': 3}, next=('Node2',), config={'configurable': {'thread_id': '10', 'checkpoint_ns': '', 'checkpoint_id': '1f0af580-8b0f-6bc4-8003-414103350bdc'}}, metadata={'source': 'loop', 'step': 3, 'parents': {}}, created_at='2025-10-22T15:01:48.628469+00:00', parent_config={'configurable': {'thread_id': '10', 'checkpoint_ns': '', 'checkpoint_id': '1f0af580-8b0e-6148-8002-261444c6e79b'}}, tasks=(PregelTask(id='bb50774d-807d-a11e-317f-49be7bd585fa', name='Node2', path=('__pregel_pull', 'Node2'), error=None, interrupts=(), state=None, result={'lnode': 'node_2', 'count': 1}),), interrupts=()) \n",
      "\n",
      "StateSnapshot(values={'lnode': 'node_2', 'scratch': 'hi', 'count': 2}, next=('Node1',), config={'configurable': {'thread_id': '10', 'checkpoint_ns': '', 'checkpoint_id': '1f0af580-8b0e-6148-8002-261444c6e79b'}}, metadata={'source': 'loop', 'step': 2, 'parents': {}}, created_at='2025-10-22T15:01:48.627790+00:00', parent_config={'configurable': {'thread_id': '10', 'checkpoint_ns': '', 'checkpoint_id': '1f0af580-8b0a-666a-8001-68aa036799db'}}, tasks=(PregelTask(id='a7b67048-d672-ac46-44f5-b8cf71c6d091', name='Node1', path=('__pregel_pull', 'Node1'), error=None, interrupts=(), state=None, result={'lnode': 'node_1', 'count': 1}),), interrupts=()) \n",
      "\n",
      "StateSnapshot(values={'lnode': 'node_1', 'scratch': 'hi', 'count': 1}, next=('Node2',), config={'configurable': {'thread_id': '10', 'checkpoint_ns': '', 'checkpoint_id': '1f0af580-8b0a-666a-8001-68aa036799db'}}, metadata={'source': 'loop', 'step': 1, 'parents': {}}, created_at='2025-10-22T15:01:48.626276+00:00', parent_config={'configurable': {'thread_id': '10', 'checkpoint_ns': '', 'checkpoint_id': '1f0af580-8b08-646e-8000-4b2a10ecdfe0'}}, tasks=(PregelTask(id='48ade508-c1e9-1bbd-2c2d-6049defe7d60', name='Node2', path=('__pregel_pull', 'Node2'), error=None, interrupts=(), state=None, result={'lnode': 'node_2', 'count': 1}),), interrupts=()) \n",
      "\n",
      "StateSnapshot(values={'scratch': 'hi', 'count': 0}, next=('Node1',), config={'configurable': {'thread_id': '10', 'checkpoint_ns': '', 'checkpoint_id': '1f0af580-8b08-646e-8000-4b2a10ecdfe0'}}, metadata={'source': 'loop', 'step': 0, 'parents': {}}, created_at='2025-10-22T15:01:48.625413+00:00', parent_config={'configurable': {'thread_id': '10', 'checkpoint_ns': '', 'checkpoint_id': '1f0af580-8b07-60c8-bfff-5188b29e5fcf'}}, tasks=(PregelTask(id='bd1d28e4-5969-cfb4-0ebb-63c57fa826c6', name='Node1', path=('__pregel_pull', 'Node1'), error=None, interrupts=(), state=None, result={'lnode': 'node_1', 'count': 1}),), interrupts=()) \n",
      "\n",
      "StateSnapshot(values={'count': 0}, next=('__start__',), config={'configurable': {'thread_id': '10', 'checkpoint_ns': '', 'checkpoint_id': '1f0af580-8b07-60c8-bfff-5188b29e5fcf'}}, metadata={'source': 'input', 'step': -1, 'parents': {}}, created_at='2025-10-22T15:01:48.624911+00:00', parent_config=None, tasks=(PregelTask(id='37c5a494-f999-5974-d8de-8cec4c226bec', name='__start__', path=('__pregel_pull', '__start__'), error=None, interrupts=(), state=None, result={'count': 0, 'scratch': 'hi'}),), interrupts=()) \n",
      "\n"
     ]
    }
   ],
   "source": [
    "thread = {\"configurable\": {\"thread_id\": str(10)}}\n",
    "for state in graph.get_state_history(thread):\n",
    "    print(state,\"\\n\")"
   ]
  },
  {
   "cell_type": "markdown",
   "id": "985e4317",
   "metadata": {},
   "source": [
    "## Modify State"
   ]
  },
  {
   "cell_type": "code",
   "execution_count": 116,
   "id": "0243b6d2",
   "metadata": {},
   "outputs": [
    {
     "name": "stdout",
     "output_type": "stream",
     "text": [
      "node1, count:0\n",
      "node2, count:1\n",
      "node1, count:2\n",
      "node2, count:3\n"
     ]
    },
    {
     "data": {
      "text/plain": [
       "{'lnode': 'node_2', 'scratch': 'hi', 'count': 4}"
      ]
     },
     "execution_count": 116,
     "metadata": {},
     "output_type": "execute_result"
    }
   ],
   "source": [
    "thread2 = {\"configurable\": {\"thread_id\": str(11)}}\n",
    "graph.invoke({\"count\":0, \"scratch\":\"hi\"},thread2)"
   ]
  },
  {
   "cell_type": "code",
   "execution_count": 118,
   "id": "2694acc6",
   "metadata": {},
   "outputs": [
    {
     "data": {
      "image/png": "[encoded data removed]",
      "text/plain": [
       "<IPython.core.display.Image object>"
      ]
     },
     "metadata": {},
     "output_type": "display_data"
    }
   ],
   "source": [
    "display(Image(graph.get_graph().draw_mermaid_png()))"
   ]
  },
  {
   "cell_type": "code",
   "execution_count": 119,
   "id": "103f2723",
   "metadata": {},
   "outputs": [
    {
     "name": "stdout",
     "output_type": "stream",
     "text": [
      "{'configurable': {'thread_id': '11', 'checkpoint_ns': '', 'checkpoint_id': '1f0af58f-ec42-6270-8004-cc6a09734bca'}} 4\n",
      "{'configurable': {'thread_id': '11', 'checkpoint_ns': '', 'checkpoint_id': '1f0af58f-ec3f-6b38-8003-aa57aec6bde5'}} 3\n",
      "{'configurable': {'thread_id': '11', 'checkpoint_ns': '', 'checkpoint_id': '1f0af58f-ec3b-6c2c-8002-cf397201f702'}} 2\n",
      "{'configurable': {'thread_id': '11', 'checkpoint_ns': '', 'checkpoint_id': '1f0af58f-ec39-647c-8001-666758f30ca2'}} 1\n",
      "{'configurable': {'thread_id': '11', 'checkpoint_ns': '', 'checkpoint_id': '1f0af58f-ec36-6916-8000-39edf32ab858'}} 0\n",
      "{'configurable': {'thread_id': '11', 'checkpoint_ns': '', 'checkpoint_id': '1f0af58f-ec35-657a-bfff-c47a399926dd'}} 0\n"
     ]
    }
   ],
   "source": [
    "states2 = []\n",
    "for state in graph.get_state_history(thread2):\n",
    "    states2.append(state.config)\n",
    "    print(state.config, state.values['count'])   "
   ]
  },
  {
   "cell_type": "code",
   "execution_count": 120,
   "id": "859cf3a1",
   "metadata": {},
   "outputs": [
    {
     "data": {
      "text/plain": [
       "StateSnapshot(values={'lnode': 'node_1', 'scratch': 'hi', 'count': 1}, next=('Node2',), config={'configurable': {'thread_id': '11', 'checkpoint_ns': '', 'checkpoint_id': '1f0af58f-ec39-647c-8001-666758f30ca2'}}, metadata={'source': 'loop', 'step': 1, 'parents': {}}, created_at='2025-10-22T15:08:41.469856+00:00', parent_config={'configurable': {'thread_id': '11', 'checkpoint_ns': '', 'checkpoint_id': '1f0af58f-ec36-6916-8000-39edf32ab858'}}, tasks=(PregelTask(id='a6b16972-5e7e-0f88-b32f-77c593f583cb', name='Node2', path=('__pregel_pull', 'Node2'), error=None, interrupts=(), state=None, result={'lnode': 'node_2', 'count': 1}),), interrupts=())"
      ]
     },
     "execution_count": 120,
     "metadata": {},
     "output_type": "execute_result"
    }
   ],
   "source": [
    "save_state = graph.get_state(states2[-3])\n",
    "save_state"
   ]
  },
  {
   "cell_type": "markdown",
   "id": "a4fe9cf9",
   "metadata": {},
   "source": [
    "Now modify the values. One subtle item to note: Recall when agent state was defined, count used operator.add to indicate that values are added to the current value. Here, -3 will be added to the current count value rather than replace it."
   ]
  },
  {
   "cell_type": "code",
   "execution_count": 121,
   "id": "4f3210a6",
   "metadata": {},
   "outputs": [
    {
     "data": {
      "text/plain": [
       "StateSnapshot(values={'lnode': 'node_1', 'scratch': 'hello', 'count': -3}, next=('Node2',), config={'configurable': {'thread_id': '11', 'checkpoint_ns': '', 'checkpoint_id': '1f0af58f-ec39-647c-8001-666758f30ca2'}}, metadata={'source': 'loop', 'step': 1, 'parents': {}}, created_at='2025-10-22T15:08:41.469856+00:00', parent_config={'configurable': {'thread_id': '11', 'checkpoint_ns': '', 'checkpoint_id': '1f0af58f-ec36-6916-8000-39edf32ab858'}}, tasks=(PregelTask(id='a6b16972-5e7e-0f88-b32f-77c593f583cb', name='Node2', path=('__pregel_pull', 'Node2'), error=None, interrupts=(), state=None, result={'lnode': 'node_2', 'count': 1}),), interrupts=())"
      ]
     },
     "execution_count": 121,
     "metadata": {},
     "output_type": "execute_result"
    }
   ],
   "source": [
    "save_state.values[\"count\"] = -3\n",
    "save_state.values[\"scratch\"] = \"hello\"\n",
    "save_state"
   ]
  },
  {
   "cell_type": "markdown",
   "id": "1301724e",
   "metadata": {},
   "source": [
    "Now update the state. This creates a new entry at the top, or latest entry in memory. This will become the current state."
   ]
  },
  {
   "cell_type": "code",
   "execution_count": 122,
   "id": "4b6c125b",
   "metadata": {},
   "outputs": [
    {
     "data": {
      "text/plain": [
       "{'configurable': {'thread_id': '11',\n",
       "  'checkpoint_ns': '',\n",
       "  'checkpoint_id': '1f0af597-e088-6012-8005-94b26ad4e6d8'}}"
      ]
     },
     "execution_count": 122,
     "metadata": {},
     "output_type": "execute_result"
    }
   ],
   "source": [
    "graph.update_state(thread2,save_state.values)"
   ]
  },
  {
   "cell_type": "markdown",
   "id": "21f6c79d",
   "metadata": {},
   "source": [
    "Current state is at the top. You can match the thread_ts. Notice the parent_config, thread_ts of the new node - it is the previous node."
   ]
  },
  {
   "cell_type": "code",
   "execution_count": 123,
   "id": "6a065ebb",
   "metadata": {},
   "outputs": [
    {
     "name": "stdout",
     "output_type": "stream",
     "text": [
      "StateSnapshot(values={'lnode': 'node_1', 'scratch': 'hello', 'count': 1}, next=('Node1',), config={'configurable': {'thread_id': '11', 'checkpoint_ns': '', 'checkpoint_id': '1f0af597-e088-6012-8005-94b26ad4e6d8'}}, metadata={'source': 'update', 'step': 5, 'parents': {}}, created_at='2025-10-22T15:12:14.992174+00:00', parent_config={'configurable': {'thread_id': '11', 'checkpoint_ns': '', 'checkpoint_id': '1f0af58f-ec42-6270-8004-cc6a09734bca'}}, tasks=(PregelTask(id='85524d7a-60b5-0899-6117-79f1196236f2', name='Node1', path=('__pregel_pull', 'Node1'), error=None, interrupts=(), state=None, result=None),), interrupts=()) \n",
      "\n",
      "StateSnapshot(values={'lnode': 'node_2', 'scratch': 'hi', 'count': 4}, next=(), config={'configurable': {'thread_id': '11', 'checkpoint_ns': '', 'checkpoint_id': '1f0af58f-ec42-6270-8004-cc6a09734bca'}}, metadata={'source': 'loop', 'step': 4, 'parents': {}}, created_at='2025-10-22T15:08:41.473491+00:00', parent_config={'configurable': {'thread_id': '11', 'checkpoint_ns': '', 'checkpoint_id': '1f0af58f-ec3f-6b38-8003-aa57aec6bde5'}}, tasks=(), interrupts=()) \n",
      "\n",
      "StateSnapshot(values={'lnode': 'node_1', 'scratch': 'hi', 'count': 3}, next=('Node2',), config={'configurable': {'thread_id': '11', 'checkpoint_ns': '', 'checkpoint_id': '1f0af58f-ec3f-6b38-8003-aa57aec6bde5'}}, metadata={'source': 'loop', 'step': 3, 'parents': {}}, created_at='2025-10-22T15:08:41.472488+00:00', parent_config={'configurable': {'thread_id': '11', 'checkpoint_ns': '', 'checkpoint_id': '1f0af58f-ec3b-6c2c-8002-cf397201f702'}}, tasks=(PregelTask(id='6a0b3d4f-2f88-c6a7-02df-1afa5d15df02', name='Node2', path=('__pregel_pull', 'Node2'), error=None, interrupts=(), state=None, result={'lnode': 'node_2', 'count': 1}),), interrupts=()) \n",
      "\n"
     ]
    }
   ],
   "source": [
    "for i, state in enumerate(graph.get_state_history(thread2)):\n",
    "    if i >= 3:  #print latest 3\n",
    "        break\n",
    "    print(state, '\\n')"
   ]
  },
  {
   "cell_type": "markdown",
   "id": "fa5a2c7d",
   "metadata": {},
   "source": [
    "### Try again with as_node\n",
    "\n",
    "When writing using update_state(), you want to define to the graph logic which node should be assumed as the writer. What this does is allow the graph logic to find the node on the graph. After writing the values, the next() value is computed by travesing the graph using the new state. In this case, the state we have was written by Node1. The graph can then compute the next state as being Node2. Note that in some graphs, this may involve going through conditional edges! Let's try this out."
   ]
  },
  {
   "cell_type": "code",
   "execution_count": 124,
   "id": "313a1aa1",
   "metadata": {},
   "outputs": [
    {
     "data": {
      "text/plain": [
       "{'configurable': {'thread_id': '11',\n",
       "  'checkpoint_ns': '',\n",
       "  'checkpoint_id': '1f0af59c-9adb-6352-8006-cb95a498c748'}}"
      ]
     },
     "execution_count": 124,
     "metadata": {},
     "output_type": "execute_result"
    }
   ],
   "source": [
    "graph.update_state(thread2,save_state.values, as_node=\"Node1\")"
   ]
  },
  {
   "cell_type": "code",
   "execution_count": 125,
   "id": "fd8f235c",
   "metadata": {},
   "outputs": [
    {
     "name": "stdout",
     "output_type": "stream",
     "text": [
      "StateSnapshot(values={'lnode': 'node_1', 'scratch': 'hello', 'count': -2}, next=('Node2',), config={'configurable': {'thread_id': '11', 'checkpoint_ns': '', 'checkpoint_id': '1f0af59c-9adb-6352-8006-cb95a498c748'}}, metadata={'source': 'update', 'step': 6, 'parents': {}}, created_at='2025-10-22T15:14:21.903947+00:00', parent_config={'configurable': {'thread_id': '11', 'checkpoint_ns': '', 'checkpoint_id': '1f0af597-e088-6012-8005-94b26ad4e6d8'}}, tasks=(PregelTask(id='a4b972cd-f38b-9606-987d-ec994f081385', name='Node2', path=('__pregel_pull', 'Node2'), error=None, interrupts=(), state=None, result=None),), interrupts=()) \n",
      "\n",
      "StateSnapshot(values={'lnode': 'node_1', 'scratch': 'hello', 'count': 1}, next=('Node1',), config={'configurable': {'thread_id': '11', 'checkpoint_ns': '', 'checkpoint_id': '1f0af597-e088-6012-8005-94b26ad4e6d8'}}, metadata={'source': 'update', 'step': 5, 'parents': {}}, created_at='2025-10-22T15:12:14.992174+00:00', parent_config={'configurable': {'thread_id': '11', 'checkpoint_ns': '', 'checkpoint_id': '1f0af58f-ec42-6270-8004-cc6a09734bca'}}, tasks=(PregelTask(id='85524d7a-60b5-0899-6117-79f1196236f2', name='Node1', path=('__pregel_pull', 'Node1'), error=None, interrupts=(), state=None, result={'lnode': 'node_1', 'scratch': 'hello', 'count': -3}),), interrupts=()) \n",
      "\n",
      "StateSnapshot(values={'lnode': 'node_2', 'scratch': 'hi', 'count': 4}, next=(), config={'configurable': {'thread_id': '11', 'checkpoint_ns': '', 'checkpoint_id': '1f0af58f-ec42-6270-8004-cc6a09734bca'}}, metadata={'source': 'loop', 'step': 4, 'parents': {}}, created_at='2025-10-22T15:08:41.473491+00:00', parent_config={'configurable': {'thread_id': '11', 'checkpoint_ns': '', 'checkpoint_id': '1f0af58f-ec3f-6b38-8003-aa57aec6bde5'}}, tasks=(), interrupts=()) \n",
      "\n"
     ]
    }
   ],
   "source": [
    "for i, state in enumerate(graph.get_state_history(thread2)):\n",
    "    if i >= 3:  #print latest 3\n",
    "        break\n",
    "    print(state, '\\n')"
   ]
  },
  {
   "cell_type": "markdown",
   "id": "cd4142f8",
   "metadata": {},
   "source": [
    "`invoke` will run from the current state if not given a particular `thread_ts`. This is now the entry that was just added."
   ]
  },
  {
   "cell_type": "code",
   "execution_count": 126,
   "id": "3161c88e",
   "metadata": {},
   "outputs": [
    {
     "name": "stdout",
     "output_type": "stream",
     "text": [
      "node2, count:-2\n",
      "node1, count:-1\n",
      "node2, count:0\n",
      "node1, count:1\n",
      "node2, count:2\n"
     ]
    },
    {
     "data": {
      "text/plain": [
       "{'lnode': 'node_2', 'scratch': 'hello', 'count': 3}"
      ]
     },
     "execution_count": 126,
     "metadata": {},
     "output_type": "execute_result"
    }
   ],
   "source": [
    "graph.invoke(None,thread2)"
   ]
  },
  {
   "cell_type": "markdown",
   "id": "e0a7cdd2",
   "metadata": {},
   "source": [
    "Print out the state history, notice the `scratch` value change on the latest entries."
   ]
  },
  {
   "cell_type": "code",
   "execution_count": 127,
   "id": "73391204",
   "metadata": {},
   "outputs": [
    {
     "name": "stdout",
     "output_type": "stream",
     "text": [
      "StateSnapshot(values={'lnode': 'node_2', 'scratch': 'hello', 'count': 3}, next=(), config={'configurable': {'thread_id': '11', 'checkpoint_ns': '', 'checkpoint_id': '1f0af5a0-c024-6cb8-800b-cff4d90ec93c'}}, metadata={'source': 'loop', 'step': 11, 'parents': {}}, created_at='2025-10-22T15:16:13.188009+00:00', parent_config={'configurable': {'thread_id': '11', 'checkpoint_ns': '', 'checkpoint_id': '1f0af5a0-c022-6558-800a-05a5b068d75e'}}, tasks=(), interrupts=()) \n",
      "\n",
      "StateSnapshot(values={'lnode': 'node_1', 'scratch': 'hello', 'count': 2}, next=('Node2',), config={'configurable': {'thread_id': '11', 'checkpoint_ns': '', 'checkpoint_id': '1f0af5a0-c022-6558-800a-05a5b068d75e'}}, metadata={'source': 'loop', 'step': 10, 'parents': {}}, created_at='2025-10-22T15:16:13.186999+00:00', parent_config={'configurable': {'thread_id': '11', 'checkpoint_ns': '', 'checkpoint_id': '1f0af5a0-c020-6988-8009-1e93fa76523f'}}, tasks=(PregelTask(id='b556bb6c-ceb9-bfb2-905d-84f865a2cd6e', name='Node2', path=('__pregel_pull', 'Node2'), error=None, interrupts=(), state=None, result={'lnode': 'node_2', 'count': 1}),), interrupts=()) \n",
      "\n",
      "StateSnapshot(values={'lnode': 'node_2', 'scratch': 'hello', 'count': 1}, next=('Node1',), config={'configurable': {'thread_id': '11', 'checkpoint_ns': '', 'checkpoint_id': '1f0af5a0-c020-6988-8009-1e93fa76523f'}}, metadata={'source': 'loop', 'step': 9, 'parents': {}}, created_at='2025-10-22T15:16:13.186282+00:00', parent_config={'configurable': {'thread_id': '11', 'checkpoint_ns': '', 'checkpoint_id': '1f0af5a0-c01e-63b8-8008-664e4f08fc6c'}}, tasks=(PregelTask(id='bca3c7b4-7b6e-6b59-669a-da236c677861', name='Node1', path=('__pregel_pull', 'Node1'), error=None, interrupts=(), state=None, result={'lnode': 'node_1', 'count': 1}),), interrupts=()) \n",
      "\n",
      "StateSnapshot(values={'lnode': 'node_1', 'scratch': 'hello', 'count': 0}, next=('Node2',), config={'configurable': {'thread_id': '11', 'checkpoint_ns': '', 'checkpoint_id': '1f0af5a0-c01e-63b8-8008-664e4f08fc6c'}}, metadata={'source': 'loop', 'step': 8, 'parents': {}}, created_at='2025-10-22T15:16:13.185319+00:00', parent_config={'configurable': {'thread_id': '11', 'checkpoint_ns': '', 'checkpoint_id': '1f0af5a0-c01c-6acc-8007-258c10311546'}}, tasks=(PregelTask(id='2aa88e00-7e4c-5824-aba5-f848c6750f05', name='Node2', path=('__pregel_pull', 'Node2'), error=None, interrupts=(), state=None, result={'lnode': 'node_2', 'count': 1}),), interrupts=()) \n",
      "\n",
      "StateSnapshot(values={'lnode': 'node_2', 'scratch': 'hello', 'count': -1}, next=('Node1',), config={'configurable': {'thread_id': '11', 'checkpoint_ns': '', 'checkpoint_id': '1f0af5a0-c01c-6acc-8007-258c10311546'}}, metadata={'source': 'loop', 'step': 7, 'parents': {}}, created_at='2025-10-22T15:16:13.184680+00:00', parent_config={'configurable': {'thread_id': '11', 'checkpoint_ns': '', 'checkpoint_id': '1f0af59c-9adb-6352-8006-cb95a498c748'}}, tasks=(PregelTask(id='22fd0354-3b7d-72e7-b47c-b57bd251a5b3', name='Node1', path=('__pregel_pull', 'Node1'), error=None, interrupts=(), state=None, result={'lnode': 'node_1', 'count': 1}),), interrupts=()) \n",
      "\n",
      "StateSnapshot(values={'lnode': 'node_1', 'scratch': 'hello', 'count': -2}, next=('Node2',), config={'configurable': {'thread_id': '11', 'checkpoint_ns': '', 'checkpoint_id': '1f0af59c-9adb-6352-8006-cb95a498c748'}}, metadata={'source': 'update', 'step': 6, 'parents': {}}, created_at='2025-10-22T15:14:21.903947+00:00', parent_config={'configurable': {'thread_id': '11', 'checkpoint_ns': '', 'checkpoint_id': '1f0af597-e088-6012-8005-94b26ad4e6d8'}}, tasks=(PregelTask(id='a4b972cd-f38b-9606-987d-ec994f081385', name='Node2', path=('__pregel_pull', 'Node2'), error=None, interrupts=(), state=None, result={'lnode': 'node_2', 'count': 1}),), interrupts=()) \n",
      "\n",
      "StateSnapshot(values={'lnode': 'node_1', 'scratch': 'hello', 'count': 1}, next=('Node1',), config={'configurable': {'thread_id': '11', 'checkpoint_ns': '', 'checkpoint_id': '1f0af597-e088-6012-8005-94b26ad4e6d8'}}, metadata={'source': 'update', 'step': 5, 'parents': {}}, created_at='2025-10-22T15:12:14.992174+00:00', parent_config={'configurable': {'thread_id': '11', 'checkpoint_ns': '', 'checkpoint_id': '1f0af58f-ec42-6270-8004-cc6a09734bca'}}, tasks=(PregelTask(id='85524d7a-60b5-0899-6117-79f1196236f2', name='Node1', path=('__pregel_pull', 'Node1'), error=None, interrupts=(), state=None, result={'lnode': 'node_1', 'scratch': 'hello', 'count': -3}),), interrupts=()) \n",
      "\n",
      "StateSnapshot(values={'lnode': 'node_2', 'scratch': 'hi', 'count': 4}, next=(), config={'configurable': {'thread_id': '11', 'checkpoint_ns': '', 'checkpoint_id': '1f0af58f-ec42-6270-8004-cc6a09734bca'}}, metadata={'source': 'loop', 'step': 4, 'parents': {}}, created_at='2025-10-22T15:08:41.473491+00:00', parent_config={'configurable': {'thread_id': '11', 'checkpoint_ns': '', 'checkpoint_id': '1f0af58f-ec3f-6b38-8003-aa57aec6bde5'}}, tasks=(), interrupts=()) \n",
      "\n",
      "StateSnapshot(values={'lnode': 'node_1', 'scratch': 'hi', 'count': 3}, next=('Node2',), config={'configurable': {'thread_id': '11', 'checkpoint_ns': '', 'checkpoint_id': '1f0af58f-ec3f-6b38-8003-aa57aec6bde5'}}, metadata={'source': 'loop', 'step': 3, 'parents': {}}, created_at='2025-10-22T15:08:41.472488+00:00', parent_config={'configurable': {'thread_id': '11', 'checkpoint_ns': '', 'checkpoint_id': '1f0af58f-ec3b-6c2c-8002-cf397201f702'}}, tasks=(PregelTask(id='6a0b3d4f-2f88-c6a7-02df-1afa5d15df02', name='Node2', path=('__pregel_pull', 'Node2'), error=None, interrupts=(), state=None, result={'lnode': 'node_2', 'count': 1}),), interrupts=()) \n",
      "\n",
      "StateSnapshot(values={'lnode': 'node_2', 'scratch': 'hi', 'count': 2}, next=('Node1',), config={'configurable': {'thread_id': '11', 'checkpoint_ns': '', 'checkpoint_id': '1f0af58f-ec3b-6c2c-8002-cf397201f702'}}, metadata={'source': 'loop', 'step': 2, 'parents': {}}, created_at='2025-10-22T15:08:41.470872+00:00', parent_config={'configurable': {'thread_id': '11', 'checkpoint_ns': '', 'checkpoint_id': '1f0af58f-ec39-647c-8001-666758f30ca2'}}, tasks=(PregelTask(id='84d6e45b-3a8d-7a90-a70b-78dece350b8d', name='Node1', path=('__pregel_pull', 'Node1'), error=None, interrupts=(), state=None, result={'lnode': 'node_1', 'count': 1}),), interrupts=()) \n",
      "\n",
      "StateSnapshot(values={'lnode': 'node_1', 'scratch': 'hi', 'count': 1}, next=('Node2',), config={'configurable': {'thread_id': '11', 'checkpoint_ns': '', 'checkpoint_id': '1f0af58f-ec39-647c-8001-666758f30ca2'}}, metadata={'source': 'loop', 'step': 1, 'parents': {}}, created_at='2025-10-22T15:08:41.469856+00:00', parent_config={'configurable': {'thread_id': '11', 'checkpoint_ns': '', 'checkpoint_id': '1f0af58f-ec36-6916-8000-39edf32ab858'}}, tasks=(PregelTask(id='a6b16972-5e7e-0f88-b32f-77c593f583cb', name='Node2', path=('__pregel_pull', 'Node2'), error=None, interrupts=(), state=None, result={'lnode': 'node_2', 'count': 1}),), interrupts=()) \n",
      "\n",
      "StateSnapshot(values={'scratch': 'hi', 'count': 0}, next=('Node1',), config={'configurable': {'thread_id': '11', 'checkpoint_ns': '', 'checkpoint_id': '1f0af58f-ec36-6916-8000-39edf32ab858'}}, metadata={'source': 'loop', 'step': 0, 'parents': {}}, created_at='2025-10-22T15:08:41.468746+00:00', parent_config={'configurable': {'thread_id': '11', 'checkpoint_ns': '', 'checkpoint_id': '1f0af58f-ec35-657a-bfff-c47a399926dd'}}, tasks=(PregelTask(id='a5634b46-e202-08c9-8dfc-f11e8492dc53', name='Node1', path=('__pregel_pull', 'Node1'), error=None, interrupts=(), state=None, result={'lnode': 'node_1', 'count': 1}),), interrupts=()) \n",
      "\n",
      "StateSnapshot(values={'count': 0}, next=('__start__',), config={'configurable': {'thread_id': '11', 'checkpoint_ns': '', 'checkpoint_id': '1f0af58f-ec35-657a-bfff-c47a399926dd'}}, metadata={'source': 'input', 'step': -1, 'parents': {}}, created_at='2025-10-22T15:08:41.468241+00:00', parent_config=None, tasks=(PregelTask(id='f92fc6d3-0726-77a8-131c-80c14f4a86a7', name='__start__', path=('__pregel_pull', '__start__'), error=None, interrupts=(), state=None, result={'count': 0, 'scratch': 'hi'}),), interrupts=()) \n",
      "\n"
     ]
    }
   ],
   "source": [
    "for state in graph.get_state_history(thread2):\n",
    "    print(state,\"\\n\")"
   ]
  },
  {
   "cell_type": "code",
   "execution_count": 128,
   "id": "504afedc",
   "metadata": {},
   "outputs": [],
   "source": [
    "conn.close()"
   ]
  },
  {
   "cell_type": "code",
   "execution_count": null,
   "id": "fea8616f",
   "metadata": {},
   "outputs": [],
   "source": []
  }
 ],
 "metadata": {
  "kernelspec": {
   "display_name": "agents_experimental",
   "language": "python",
   "name": "python3"
  },
  "language_info": {
   "codemirror_mode": {
    "name": "ipython",
    "version": 3
   },
   "file_extension": ".py",
   "mimetype": "text/x-python",
   "name": "python",
   "nbconvert_exporter": "python",
   "pygments_lexer": "ipython3",
   "version": "3.12.11"
  }
 },
 "nbformat": 4,
 "nbformat_minor": 5
}
